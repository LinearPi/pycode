{
 "cells": [
  {
   "cell_type": "code",
   "execution_count": 1,
   "metadata": {},
   "outputs": [],
   "source": [
    "import pandas\n",
    "import jieba\n",
    "import numpy"
   ]
  },
  {
   "cell_type": "code",
   "execution_count": 2,
   "metadata": {},
   "outputs": [
    {
     "name": "stdout",
     "output_type": "stream",
     "text": [
      "\u001b[30m\u001b[43mZhuLangXinSong-BiaoZhun\u001b[m\u001b[m     get_info.py\r\n",
      "ZhuLangXinSong-BiaoZhun.zip \u001b[31mmaster.zip\u001b[m\u001b[m\r\n",
      "analysis_message.ipynb      resewq.py\r\n",
      "analysis_message_done.ipynb \u001b[34mstopwords\u001b[m\u001b[m\r\n",
      "ask_message.csv             suggest_message.csv\r\n",
      "\u001b[31mchromedriver\u001b[m\u001b[m                train.py\r\n",
      "complain_message.csv\r\n"
     ]
    }
   ],
   "source": [
    "!ls"
   ]
  },
  {
   "cell_type": "code",
   "execution_count": 3,
   "metadata": {},
   "outputs": [],
   "source": [
    "all_sug_message= pandas.read_csv('suggest_message.csv')\n",
    "all_ask_message = pandas.read_csv('ask_message.csv')\n",
    "all_com_message = pandas.read_csv(\"complain_message.csv\")"
   ]
  },
  {
   "cell_type": "code",
   "execution_count": 4,
   "metadata": {},
   "outputs": [],
   "source": [
    "sug_content = pandas.DataFrame({\"content\": all_sug_message.content, 'label':1})\n",
    "ask_content = pandas.DataFrame({\"content\": all_ask_message.content, \"label\":2})\n",
    "com_content = pandas.DataFrame({\"content\": all_com_message.content, \"label\":3})"
   ]
  },
  {
   "cell_type": "code",
   "execution_count": 5,
   "metadata": {},
   "outputs": [
    {
     "name": "stdout",
     "output_type": "stream",
     "text": [
      "                                               content  label\n",
      "127  我今天在去年检，说的得在网上年检，结果我进甘肃省工商管理局网上业务办理系统，登录进入后就根本...      1\n",
      "128  新名称申请 合水县绿健源生态养殖农民专业合作社 工商机关预审 2016年04月05日 查看 ...      1\n",
      "129  我是兰州市城关区金色摇篮的幼儿园家长。今年户口落在九洲派出所。这次学前补助1000元，幼儿园...      1\n",
      "130  尊敬的领导你们好。中央二胎政策落实后其他各省份直辖市都相继出台了各自地区的相应具体细节，我省...      1\n",
      "131  甘肃省省领导： 我公司景泰长城冶炼有限责任公司，在2016年电力用户和发电企业的直购电交易上...      1\n",
      "                                                content  label\n",
      "2268  十多分就能在第一第二的成绩排名中！老师的职位可以随意顶替，在工地打工多年的人可以摇身一变成为...      2\n",
      "2269   地税局打完社保发票，也在社保官网上传，现在财务做账丢失一张生育发票，财务说必须要原件，怎么补办。      2\n",
      "2270  股东变更是选择投资人变更吗？点击投资人进去，信息写好后点击确定没有出现任何提示，再次点击关闭...      2\n",
      "2271                           你好 我身份证一月份就办了咋查询状态一直没有变动      2\n",
      "2272  您好，请问个人户用光伏发电如何申报，烦请告知下申请流程。甘肃省个人户用光伏发电补贴政策内容在...      2\n",
      "                                               content  label\n",
      "311  尊敬的各位领导： 您们好！我是天水市甘谷县大庄乡的村民杨小智，去年我花30万通过甘谷县道路运...      3\n",
      "312  贵局您好，天津西域矿产资源经营有限公司甘肃分公司，是天津矿产资源交易所的会员单位，超范围经营...      3\n",
      "313                    T412823198908014019崔科 这个证件是真的假的      3\n",
      "314  省人社厅的领导： 您好！ 本人名叫王秀萍，原为金塔县粮食局企业下岗职工，根据酒人社〔2012...      3\n",
      "315  本人自2015年12月中，自国家工商行政管理总局取得《企业名称预先核准通知》，随后自甘肃省工...      3\n"
     ]
    }
   ],
   "source": [
    "print(sug_content.tail())\n",
    "print(ask_content.tail())\n",
    "print(com_content.tail())"
   ]
  },
  {
   "cell_type": "code",
   "execution_count": 6,
   "metadata": {},
   "outputs": [
    {
     "data": {
      "text/html": [
       "<div>\n",
       "<style scoped>\n",
       "    .dataframe tbody tr th:only-of-type {\n",
       "        vertical-align: middle;\n",
       "    }\n",
       "\n",
       "    .dataframe tbody tr th {\n",
       "        vertical-align: top;\n",
       "    }\n",
       "\n",
       "    .dataframe thead th {\n",
       "        text-align: right;\n",
       "    }\n",
       "</style>\n",
       "<table border=\"1\" class=\"dataframe\">\n",
       "  <thead>\n",
       "    <tr style=\"text-align: right;\">\n",
       "      <th></th>\n",
       "      <th>content</th>\n",
       "      <th>label</th>\n",
       "    </tr>\n",
       "  </thead>\n",
       "  <tbody>\n",
       "    <tr>\n",
       "      <th>392</th>\n",
       "      <td>我是一个肢体二级残疾人，今年53岁，我老婆也是长期患病，经常住院，只是有一个女儿28岁，在宁...</td>\n",
       "      <td>2</td>\n",
       "    </tr>\n",
       "  </tbody>\n",
       "</table>\n",
       "</div>"
      ],
      "text/plain": [
       "                                               content  label\n",
       "392  我是一个肢体二级残疾人，今年53岁，我老婆也是长期患病，经常住院，只是有一个女儿28岁，在宁...      2"
      ]
     },
     "execution_count": 6,
     "metadata": {},
     "output_type": "execute_result"
    }
   ],
   "source": [
    "# 数据合并在一起\n",
    "all_content = pandas.concat([sug_content, ask_content, com_content])\n",
    "all_content.sample()"
   ]
  },
  {
   "cell_type": "code",
   "execution_count": 16,
   "metadata": {},
   "outputs": [
    {
     "data": {
      "text/html": [
       "<div>\n",
       "<style scoped>\n",
       "    .dataframe tbody tr th:only-of-type {\n",
       "        vertical-align: middle;\n",
       "    }\n",
       "\n",
       "    .dataframe tbody tr th {\n",
       "        vertical-align: top;\n",
       "    }\n",
       "\n",
       "    .dataframe thead th {\n",
       "        text-align: right;\n",
       "    }\n",
       "</style>\n",
       "<table border=\"1\" class=\"dataframe\">\n",
       "  <thead>\n",
       "    <tr style=\"text-align: right;\">\n",
       "      <th></th>\n",
       "      <th>label</th>\n",
       "    </tr>\n",
       "  </thead>\n",
       "  <tbody>\n",
       "    <tr>\n",
       "      <th>count</th>\n",
       "      <td>2721.000000</td>\n",
       "    </tr>\n",
       "    <tr>\n",
       "      <th>mean</th>\n",
       "      <td>2.067622</td>\n",
       "    </tr>\n",
       "    <tr>\n",
       "      <th>std</th>\n",
       "      <td>0.400164</td>\n",
       "    </tr>\n",
       "    <tr>\n",
       "      <th>min</th>\n",
       "      <td>1.000000</td>\n",
       "    </tr>\n",
       "    <tr>\n",
       "      <th>25%</th>\n",
       "      <td>2.000000</td>\n",
       "    </tr>\n",
       "    <tr>\n",
       "      <th>50%</th>\n",
       "      <td>2.000000</td>\n",
       "    </tr>\n",
       "    <tr>\n",
       "      <th>75%</th>\n",
       "      <td>2.000000</td>\n",
       "    </tr>\n",
       "    <tr>\n",
       "      <th>max</th>\n",
       "      <td>3.000000</td>\n",
       "    </tr>\n",
       "  </tbody>\n",
       "</table>\n",
       "</div>"
      ],
      "text/plain": [
       "             label\n",
       "count  2721.000000\n",
       "mean      2.067622\n",
       "std       0.400164\n",
       "min       1.000000\n",
       "25%       2.000000\n",
       "50%       2.000000\n",
       "75%       2.000000\n",
       "max       3.000000"
      ]
     },
     "execution_count": 16,
     "metadata": {},
     "output_type": "execute_result"
    }
   ],
   "source": [
    "all_content.describe()"
   ]
  },
  {
   "cell_type": "code",
   "execution_count": 7,
   "metadata": {},
   "outputs": [],
   "source": [
    "# aas = all_content.sort_values(by='content')\n",
    "# 排查数据小于6的数据\n",
    "all_content = all_content[all_content['content'].str.len() > 7]"
   ]
  },
  {
   "cell_type": "code",
   "execution_count": 8,
   "metadata": {},
   "outputs": [
    {
     "data": {
      "text/html": [
       "<div>\n",
       "<style scoped>\n",
       "    .dataframe tbody tr th:only-of-type {\n",
       "        vertical-align: middle;\n",
       "    }\n",
       "\n",
       "    .dataframe tbody tr th {\n",
       "        vertical-align: top;\n",
       "    }\n",
       "\n",
       "    .dataframe thead th {\n",
       "        text-align: right;\n",
       "    }\n",
       "</style>\n",
       "<table border=\"1\" class=\"dataframe\">\n",
       "  <thead>\n",
       "    <tr style=\"text-align: right;\">\n",
       "      <th></th>\n",
       "      <th>content</th>\n",
       "      <th>label</th>\n",
       "    </tr>\n",
       "  </thead>\n",
       "  <tbody>\n",
       "    <tr>\n",
       "      <th>0</th>\n",
       "      <td>工商审批10多天没进展，不是说好一到2个工作日吗</td>\n",
       "      <td>1</td>\n",
       "    </tr>\n",
       "    <tr>\n",
       "      <th>1</th>\n",
       "      <td>甘肃处处落后，连网站也不例外。经济发展模式不好抄，照搬个网站来不是很费劲吧！竟然留言还要输验...</td>\n",
       "      <td>1</td>\n",
       "    </tr>\n",
       "    <tr>\n",
       "      <th>2</th>\n",
       "      <td>尊敬的领导：之前的教师职称评审政策都对班主任工作年限有不同的要求，这对例如音体美等小科目教师...</td>\n",
       "      <td>1</td>\n",
       "    </tr>\n",
       "    <tr>\n",
       "      <th>3</th>\n",
       "      <td>政府采购协议供货合同以前采用人工备案，到财政厅需要找三个部门办理签章手续，遇上办事人或签字领...</td>\n",
       "      <td>1</td>\n",
       "    </tr>\n",
       "    <tr>\n",
       "      <th>4</th>\n",
       "      <td>为什么甘肃公安政务服务平台浏览器不兼容360浏览器，每次登陆甘肃政务服务网，打开其他所有专项...</td>\n",
       "      <td>1</td>\n",
       "    </tr>\n",
       "  </tbody>\n",
       "</table>\n",
       "</div>"
      ],
      "text/plain": [
       "                                             content  label\n",
       "0                           工商审批10多天没进展，不是说好一到2个工作日吗      1\n",
       "1  甘肃处处落后，连网站也不例外。经济发展模式不好抄，照搬个网站来不是很费劲吧！竟然留言还要输验...      1\n",
       "2  尊敬的领导：之前的教师职称评审政策都对班主任工作年限有不同的要求，这对例如音体美等小科目教师...      1\n",
       "3  政府采购协议供货合同以前采用人工备案，到财政厅需要找三个部门办理签章手续，遇上办事人或签字领...      1\n",
       "4  为什么甘肃公安政务服务平台浏览器不兼容360浏览器，每次登陆甘肃政务服务网，打开其他所有专项...      1"
      ]
     },
     "execution_count": 8,
     "metadata": {},
     "output_type": "execute_result"
    }
   ],
   "source": [
    "all_content.head()"
   ]
  },
  {
   "cell_type": "markdown",
   "metadata": {
    "scrolled": false
   },
   "source": [
    "#### 数据有错误，有些内容太短了，需要去掉没有用的数据\n",
    "lis = []\n",
    "for i in all_content['content']:\n",
    "    if len(i)< 6:\n",
    "        lis.append(i)\n",
    "        print(i)\n",
    "        print(len(lis))"
   ]
  },
  {
   "cell_type": "code",
   "execution_count": 9,
   "metadata": {},
   "outputs": [
    {
     "data": {
      "text/plain": [
       "(2655, 2)"
      ]
     },
     "execution_count": 9,
     "metadata": {},
     "output_type": "execute_result"
    }
   ],
   "source": [
    "#  查看all_content 数据情况 \n",
    "all_content.shape"
   ]
  },
  {
   "cell_type": "code",
   "execution_count": 10,
   "metadata": {},
   "outputs": [
    {
     "name": "stdout",
     "output_type": "stream",
     "text": [
      "2655\n"
     ]
    }
   ],
   "source": [
    "# 数据转列表\n",
    "content = all_content.content.values.tolist()\n",
    "print(len(content))"
   ]
  },
  {
   "cell_type": "code",
   "execution_count": 11,
   "metadata": {},
   "outputs": [
    {
     "data": {
      "text/plain": [
       "'领导您好： 我的新名称已预审通过，请问从哪里下载： 1.名称申请表 2.名称审查表'"
      ]
     },
     "execution_count": 11,
     "metadata": {},
     "output_type": "execute_result"
    }
   ],
   "source": [
    "import random\n",
    "content[random.randint(1,2655)]"
   ]
  },
  {
   "cell_type": "code",
   "execution_count": 12,
   "metadata": {},
   "outputs": [
    {
     "name": "stderr",
     "output_type": "stream",
     "text": [
      "Building prefix dict from the default dictionary ...\n",
      "Loading model from cache /var/folders/0t/znq2g8qn0mscy1hmx_2wcdj00000gn/T/jieba.cache\n",
      "Loading model cost 1.042 seconds.\n",
      "Prefix dict has been built succesfully.\n"
     ]
    },
    {
     "name": "stdout",
     "output_type": "stream",
     "text": [
      "2655\n"
     ]
    }
   ],
   "source": [
    "# 使用分词，把文章分为单独词语\n",
    "content_s = []\n",
    "for i in content:\n",
    "    current_mess = jieba.lcut(i)\n",
    "    # 判断词语\n",
    "    if len(current_mess) > 2 and current_mess!='\\r\\n' and current_mess != ' ': \n",
    "        content_s.append(current_mess)\n",
    "print(len(content_s))"
   ]
  },
  {
   "cell_type": "code",
   "execution_count": 13,
   "metadata": {},
   "outputs": [],
   "source": [
    "df_content = pandas.DataFrame({\"contene_s\":content_s})"
   ]
  },
  {
   "cell_type": "code",
   "execution_count": 14,
   "metadata": {
    "scrolled": true
   },
   "outputs": [
    {
     "name": "stdout",
     "output_type": "stream",
     "text": [
      "2655\n"
     ]
    }
   ],
   "source": [
    "# 查看分词之后的情况 随机查看\n",
    "content_s[random.randint(1,2655)]\n",
    "print(len(content_s))"
   ]
  },
  {
   "cell_type": "code",
   "execution_count": 15,
   "metadata": {},
   "outputs": [
    {
     "data": {
      "text/html": [
       "<div>\n",
       "<style scoped>\n",
       "    .dataframe tbody tr th:only-of-type {\n",
       "        vertical-align: middle;\n",
       "    }\n",
       "\n",
       "    .dataframe tbody tr th {\n",
       "        vertical-align: top;\n",
       "    }\n",
       "\n",
       "    .dataframe thead th {\n",
       "        text-align: right;\n",
       "    }\n",
       "</style>\n",
       "<table border=\"1\" class=\"dataframe\">\n",
       "  <thead>\n",
       "    <tr style=\"text-align: right;\">\n",
       "      <th></th>\n",
       "      <th>stopword</th>\n",
       "    </tr>\n",
       "  </thead>\n",
       "  <tbody>\n",
       "    <tr>\n",
       "      <th>0</th>\n",
       "      <td>?</td>\n",
       "    </tr>\n",
       "    <tr>\n",
       "      <th>1</th>\n",
       "      <td>、</td>\n",
       "    </tr>\n",
       "    <tr>\n",
       "      <th>2</th>\n",
       "      <td>。</td>\n",
       "    </tr>\n",
       "    <tr>\n",
       "      <th>3</th>\n",
       "      <td>“</td>\n",
       "    </tr>\n",
       "    <tr>\n",
       "      <th>4</th>\n",
       "      <td>”</td>\n",
       "    </tr>\n",
       "  </tbody>\n",
       "</table>\n",
       "</div>"
      ],
      "text/plain": [
       "  stopword\n",
       "0        ?\n",
       "1        、\n",
       "2        。\n",
       "3        “\n",
       "4        ”"
      ]
     },
     "execution_count": 15,
     "metadata": {},
     "output_type": "execute_result"
    }
   ],
   "source": [
    "# 读取停用词，停用词的使用，是为减少一个常见词语对这个语意的影响\n",
    "stopwords = pandas.read_csv('stopwords/stop_words_zh.txt',index_col=False, sep=\"\\t\", quoting = 3, names=['stopword'], encoding='utf-8')\n",
    "stopwords.head()"
   ]
  },
  {
   "cell_type": "code",
   "execution_count": 16,
   "metadata": {},
   "outputs": [],
   "source": [
    "# 去掉停用词\n",
    "def drop_stopword(contents, stopwords):\n",
    "    content_clean = []\n",
    "    for line in contents:\n",
    "        line_clean = []\n",
    "        for word in line:\n",
    "            if word in stopwords:\n",
    "                continue\n",
    "            line_clean.append(word)            \n",
    "        content_clean.append(line_clean)\n",
    "    return content_clean\n",
    "\n",
    "contents = df_content.contene_s.values.tolist()\n",
    "stopwords = stopwords.stopword.values.tolist()\n",
    "content_clean =drop_stopword(contents, stopwords)"
   ]
  },
  {
   "cell_type": "code",
   "execution_count": 17,
   "metadata": {},
   "outputs": [
    {
     "data": {
      "text/html": [
       "<div>\n",
       "<style scoped>\n",
       "    .dataframe tbody tr th:only-of-type {\n",
       "        vertical-align: middle;\n",
       "    }\n",
       "\n",
       "    .dataframe tbody tr th {\n",
       "        vertical-align: top;\n",
       "    }\n",
       "\n",
       "    .dataframe thead th {\n",
       "        text-align: right;\n",
       "    }\n",
       "</style>\n",
       "<table border=\"1\" class=\"dataframe\">\n",
       "  <thead>\n",
       "    <tr style=\"text-align: right;\">\n",
       "      <th></th>\n",
       "      <th>content_clean</th>\n",
       "      <th>label</th>\n",
       "    </tr>\n",
       "  </thead>\n",
       "  <tbody>\n",
       "    <tr>\n",
       "      <th>0</th>\n",
       "      <td>[工商, 审批, 10, 多天, 没, 进展, 不是, 说好, 一到, 2, 工作日]</td>\n",
       "      <td>1</td>\n",
       "    </tr>\n",
       "    <tr>\n",
       "      <th>1</th>\n",
       "      <td>[甘肃, 处处, 落后, 网站, 不, 例外, 经济, 发展, 模式, 不好, 抄, 照搬,...</td>\n",
       "      <td>1</td>\n",
       "    </tr>\n",
       "    <tr>\n",
       "      <th>2</th>\n",
       "      <td>[尊敬, 领导, 之前, 教师, 职称, 评审, 政策, 都, 班主任, 工作, 年限, 不...</td>\n",
       "      <td>1</td>\n",
       "    </tr>\n",
       "    <tr>\n",
       "      <th>3</th>\n",
       "      <td>[政府, 采购, 协议, 供货, 合同, 以前, 采用, 人工, 备案, 财政厅, 需要, ...</td>\n",
       "      <td>1</td>\n",
       "    </tr>\n",
       "    <tr>\n",
       "      <th>4</th>\n",
       "      <td>[甘肃, 公安, 政务, 服务平台, 浏览器, 不, 兼容, 360, 浏览器, 每次, 登...</td>\n",
       "      <td>1</td>\n",
       "    </tr>\n",
       "  </tbody>\n",
       "</table>\n",
       "</div>"
      ],
      "text/plain": [
       "                                       content_clean  label\n",
       "0        [工商, 审批, 10, 多天, 没, 进展, 不是, 说好, 一到, 2, 工作日]      1\n",
       "1  [甘肃, 处处, 落后, 网站, 不, 例外, 经济, 发展, 模式, 不好, 抄, 照搬,...      1\n",
       "2  [尊敬, 领导, 之前, 教师, 职称, 评审, 政策, 都, 班主任, 工作, 年限, 不...      1\n",
       "3  [政府, 采购, 协议, 供货, 合同, 以前, 采用, 人工, 备案, 财政厅, 需要, ...      1\n",
       "4  [甘肃, 公安, 政务, 服务平台, 浏览器, 不, 兼容, 360, 浏览器, 每次, 登...      1"
      ]
     },
     "execution_count": 17,
     "metadata": {},
     "output_type": "execute_result"
    }
   ],
   "source": [
    "df_content_drop = pandas.DataFrame({\"content_clean\": content_clean, 'label':all_content['label']})\n",
    "df_content_drop.head()"
   ]
  },
  {
   "cell_type": "code",
   "execution_count": 19,
   "metadata": {},
   "outputs": [
    {
     "name": "stdout",
     "output_type": "stream",
     "text": [
      "企业法人注册一直显示实名认证失败，但是个人注册可以，不知道能否改进下，让企业法人注册方便一点，开一个公司不容易，好几天先注册不上，很浪费时间的，麻烦有关领导看见了能不能改进下。\n",
      "注册 企业法人 改进 不上 浪费时间\n"
     ]
    }
   ],
   "source": [
    "# 使用jieba分析语句中重要的词语\n",
    "import jieba.analyse\n",
    "index = 80\n",
    "print(sug_content['content'][index])\n",
    "content_s_str = \"\".join(content_s[index])\n",
    "print(' '.join(jieba.analyse.extract_tags(content_s_str, topK = 5, withWeight = False)))"
   ]
  },
  {
   "cell_type": "markdown",
   "metadata": {},
   "source": [
    "使用LDA：主题模型\n",
    "格式要求：list of list，分词好的整个语料"
   ]
  },
  {
   "cell_type": "code",
   "execution_count": 20,
   "metadata": {},
   "outputs": [],
   "source": [
    "from gensim import corpora, models, similarities\n",
    "import gensim"
   ]
  },
  {
   "cell_type": "code",
   "execution_count": 21,
   "metadata": {},
   "outputs": [],
   "source": [
    "dictionary = corpora.Dictionary(content_clean)\n",
    "corpus = [dictionary.doc2bow(sentence) for sentence in content_clean]"
   ]
  },
  {
   "cell_type": "code",
   "execution_count": 22,
   "metadata": {},
   "outputs": [],
   "source": [
    "# 类似Kmeans \n",
    "lda = gensim.models.LdaModel(corpus = corpus, id2word = dictionary, num_topics = 3)  \n"
   ]
  },
  {
   "cell_type": "code",
   "execution_count": 23,
   "metadata": {},
   "outputs": [
    {
     "name": "stdout",
     "output_type": "stream",
     "text": [
      "0.015*\"月\" + 0.014*\"办理\" + 0.013*\"年\" + 0.009*\"日\" + 0.008*\"需要\"\n"
     ]
    }
   ],
   "source": [
    "# 1号分类结果\n",
    "print(lda.print_topic(1,topn=5))"
   ]
  },
  {
   "cell_type": "code",
   "execution_count": 25,
   "metadata": {},
   "outputs": [
    {
     "name": "stdout",
     "output_type": "stream",
     "text": [
      "0.011*\"年\" + 0.010*\"不\" + 0.008*\"月\" + 0.008*\"办理\" + 0.006*\"没有\"\n",
      "0.015*\" \" + 0.009*\"办理\" + 0.009*\"申请\" + 0.008*\"需要\" + 0.007*\"没有\"\n",
      "0.016*\"办理\" + 0.012*\"公司\" + 0.011*\"不\" + 0.011*\"名称\" + 0.010*\"申请\"\n"
     ]
    }
   ],
   "source": [
    "for topic in lda.print_topics(num_topics = 3, num_words = 5):\n",
    "    print(topic[1])"
   ]
  },
  {
   "cell_type": "code",
   "execution_count": 24,
   "metadata": {},
   "outputs": [
    {
     "data": {
      "text/plain": [
       "array([1, 2, 3])"
      ]
     },
     "execution_count": 24,
     "metadata": {},
     "output_type": "execute_result"
    }
   ],
   "source": [
    "# 打印有多少个分类\n",
    "all_content.label.unique()\n"
   ]
  },
  {
   "cell_type": "code",
   "execution_count": 66,
   "metadata": {},
   "outputs": [],
   "source": [
    "# 本来的标签值就是为123，所有不需要做标签值的转变\n",
    "# # 把lable的值换成是数字\n",
    "# label_mapping = {\"建议\":1, \"咨询\":2, \"投诉\":3}\n",
    "# all_content['label'] = all_content['label'].map(label_mapping)\n",
    "# all_content.head()"
   ]
  },
  {
   "cell_type": "code",
   "execution_count": 25,
   "metadata": {},
   "outputs": [
    {
     "name": "stdout",
     "output_type": "stream",
     "text": [
      "(2655,)\n",
      "(2655, 2)\n"
     ]
    }
   ],
   "source": [
    "print(df_content_drop['content_clean'].shape)\n",
    "print(all_content.shape)"
   ]
  },
  {
   "cell_type": "code",
   "execution_count": 26,
   "metadata": {},
   "outputs": [
    {
     "data": {
      "text/html": [
       "<div>\n",
       "<style scoped>\n",
       "    .dataframe tbody tr th:only-of-type {\n",
       "        vertical-align: middle;\n",
       "    }\n",
       "\n",
       "    .dataframe tbody tr th {\n",
       "        vertical-align: top;\n",
       "    }\n",
       "\n",
       "    .dataframe thead th {\n",
       "        text-align: right;\n",
       "    }\n",
       "</style>\n",
       "<table border=\"1\" class=\"dataframe\">\n",
       "  <thead>\n",
       "    <tr style=\"text-align: right;\">\n",
       "      <th></th>\n",
       "      <th>content_clean</th>\n",
       "      <th>label</th>\n",
       "    </tr>\n",
       "  </thead>\n",
       "  <tbody>\n",
       "    <tr>\n",
       "      <th>0</th>\n",
       "      <td>[工商, 审批, 10, 多天, 没, 进展, 不是, 说好, 一到, 2, 工作日]</td>\n",
       "      <td>1</td>\n",
       "    </tr>\n",
       "    <tr>\n",
       "      <th>1</th>\n",
       "      <td>[甘肃, 处处, 落后, 网站, 不, 例外, 经济, 发展, 模式, 不好, 抄, 照搬,...</td>\n",
       "      <td>1</td>\n",
       "    </tr>\n",
       "    <tr>\n",
       "      <th>2</th>\n",
       "      <td>[尊敬, 领导, 之前, 教师, 职称, 评审, 政策, 都, 班主任, 工作, 年限, 不...</td>\n",
       "      <td>1</td>\n",
       "    </tr>\n",
       "    <tr>\n",
       "      <th>3</th>\n",
       "      <td>[政府, 采购, 协议, 供货, 合同, 以前, 采用, 人工, 备案, 财政厅, 需要, ...</td>\n",
       "      <td>1</td>\n",
       "    </tr>\n",
       "    <tr>\n",
       "      <th>4</th>\n",
       "      <td>[甘肃, 公安, 政务, 服务平台, 浏览器, 不, 兼容, 360, 浏览器, 每次, 登...</td>\n",
       "      <td>1</td>\n",
       "    </tr>\n",
       "  </tbody>\n",
       "</table>\n",
       "</div>"
      ],
      "text/plain": [
       "                                       content_clean  label\n",
       "0        [工商, 审批, 10, 多天, 没, 进展, 不是, 说好, 一到, 2, 工作日]      1\n",
       "1  [甘肃, 处处, 落后, 网站, 不, 例外, 经济, 发展, 模式, 不好, 抄, 照搬,...      1\n",
       "2  [尊敬, 领导, 之前, 教师, 职称, 评审, 政策, 都, 班主任, 工作, 年限, 不...      1\n",
       "3  [政府, 采购, 协议, 供货, 合同, 以前, 采用, 人工, 备案, 财政厅, 需要, ...      1\n",
       "4  [甘肃, 公安, 政务, 服务平台, 浏览器, 不, 兼容, 360, 浏览器, 每次, 登...      1"
      ]
     },
     "execution_count": 26,
     "metadata": {},
     "output_type": "execute_result"
    }
   ],
   "source": [
    "df_content_drop.head()"
   ]
  },
  {
   "cell_type": "code",
   "execution_count": 27,
   "metadata": {},
   "outputs": [],
   "source": [
    "# 切分数据  训练集和测试集默认分为3/1  test_size= 0~1\n",
    "from sklearn.model_selection import train_test_split\n",
    "x_train, x_test, y_train, y_test = train_test_split(df_content_drop['content_clean'].values, df_content_drop['label'].values, random_state = 1, shuffle = True)\n",
    "\n"
   ]
  },
  {
   "cell_type": "code",
   "execution_count": 28,
   "metadata": {},
   "outputs": [
    {
     "name": "stdout",
     "output_type": "stream",
     "text": [
      "['个体户', '名称', '申请', '审核', '都', '好', '几天', '没有', '一点', '进展', '现在', '不是', '简化', '程序', '还', '慢']\n"
     ]
    },
    {
     "data": {
      "text/plain": [
       "(1991,)"
      ]
     },
     "execution_count": 28,
     "metadata": {},
     "output_type": "execute_result"
    }
   ],
   "source": [
    "#打印训练集大小\n",
    "print(x_train[1])\n",
    "x_train.shape"
   ]
  },
  {
   "cell_type": "code",
   "execution_count": 29,
   "metadata": {},
   "outputs": [
    {
     "name": "stdout",
     "output_type": "stream",
     "text": [
      "您好 2013 年 甘肃农业大学 取得 农业 推广 硕士学位 当时 报考 在职 研究生 没有 毕业证 学位证 不 知道 报考\n"
     ]
    }
   ],
   "source": [
    "# 列表转字符串\n",
    "words = []\n",
    "for line_index in range(len(x_train)):\n",
    "    try:\n",
    "        words.append(' '.join(x_train[line_index]))\n",
    "    except IndexError:\n",
    "        print(line_index, words.index)\n",
    "print(words[0])\n",
    "                     "
   ]
  },
  {
   "cell_type": "code",
   "execution_count": 30,
   "metadata": {},
   "outputs": [
    {
     "name": "stdout",
     "output_type": "stream",
     "text": [
      "1991\n"
     ]
    }
   ],
   "source": [
    "print(len(words))"
   ]
  },
  {
   "cell_type": "code",
   "execution_count": 31,
   "metadata": {},
   "outputs": [
    {
     "name": "stdout",
     "output_type": "stream",
     "text": [
      "['bird', 'cat', 'dog', 'fish']\n",
      "[[0 1 1 1]\n",
      " [0 2 1 0]\n",
      " [1 0 0 1]\n",
      " [1 0 0 0]\n",
      " [1 1 0 0]]\n",
      "[3 4 2 2]\n"
     ]
    }
   ],
   "source": [
    "# 测试词语转向量\n",
    "from sklearn.feature_extraction.text import CountVectorizer\n",
    "texts = ['dog cat fish', 'dog cat cat', 'fish, bird', 'bird','bird cat']\n",
    "cv = CountVectorizer()\n",
    "cv_fit = cv.fit_transform(texts)\n",
    "\n",
    "# 打印结果\n",
    "# 打印所有的词语\n",
    "print(cv.get_feature_names())\n",
    "# 打印词语占的向量\n",
    "print(cv_fit.toarray())\n",
    "# 打印合计\n",
    "print(cv_fit.toarray().sum(axis = 0))"
   ]
  },
  {
   "cell_type": "code",
   "execution_count": 32,
   "metadata": {},
   "outputs": [
    {
     "data": {
      "text/plain": [
       "CountVectorizer(analyzer='word', binary=False, decode_error='strict',\n",
       "        dtype=<class 'numpy.int64'>, encoding='utf-8', input='content',\n",
       "        lowercase=False, max_df=1.0, max_features=5000, min_df=1,\n",
       "        ngram_range=(1, 1), preprocessor=None, stop_words=None,\n",
       "        strip_accents=None, token_pattern='(?u)\\\\b\\\\w\\\\w+\\\\b',\n",
       "        tokenizer=None, vocabulary=None)"
      ]
     },
     "execution_count": 32,
     "metadata": {},
     "output_type": "execute_result"
    }
   ],
   "source": [
    "# 词语转向量 设置转换规则 计数\n",
    "from sklearn.feature_extraction.text import CountVectorizer\n",
    "\n",
    "vec = CountVectorizer(analyzer='word', max_features=5000, lowercase = False)\n",
    "vec.fit(words)"
   ]
  },
  {
   "cell_type": "code",
   "execution_count": 33,
   "metadata": {},
   "outputs": [
    {
     "data": {
      "text/plain": [
       "MultinomialNB(alpha=1.0, class_prior=None, fit_prior=True)"
      ]
     },
     "execution_count": 33,
     "metadata": {},
     "output_type": "execute_result"
    }
   ],
   "source": [
    "# 训练\n",
    "from sklearn.naive_bayes import MultinomialNB\n",
    "\n",
    "classifer = MultinomialNB()\n",
    "classifer.fit(vec.transform(words), y_train)"
   ]
  },
  {
   "cell_type": "code",
   "execution_count": 34,
   "metadata": {},
   "outputs": [
    {
     "data": {
      "text/plain": [
       "'你好 政务网 企业 登录 后 需要 进行 企业 信息 变更 出现 确认 企业 信息 窗口 工商 密码 填写 告知 谢谢'"
      ]
     },
     "execution_count": 34,
     "metadata": {},
     "output_type": "execute_result"
    }
   ],
   "source": [
    "# 测试集数据处理\n",
    "test_words = []\n",
    "for line_index in range(len(x_test)):\n",
    "    try:\n",
    "        test_words.append(' '.join(x_test[line_index]))\n",
    "    except:\n",
    "        print(line_index, word_index)\n",
    "test_words[0]\n",
    "        "
   ]
  },
  {
   "cell_type": "code",
   "execution_count": 35,
   "metadata": {},
   "outputs": [
    {
     "data": {
      "text/plain": [
       "0.8765060240963856"
      ]
     },
     "execution_count": 35,
     "metadata": {},
     "output_type": "execute_result"
    }
   ],
   "source": [
    "# 打印准确率\n",
    "classifer.score(vec.transform(test_words), y_test)"
   ]
  },
  {
   "cell_type": "markdown",
   "metadata": {},
   "source": [
    " 方法2 tf词频使用的"
   ]
  },
  {
   "cell_type": "code",
   "execution_count": 36,
   "metadata": {},
   "outputs": [
    {
     "data": {
      "text/plain": [
       "MultinomialNB(alpha=1.0, class_prior=None, fit_prior=True)"
      ]
     },
     "execution_count": 36,
     "metadata": {},
     "output_type": "execute_result"
    }
   ],
   "source": [
    "# 使用tf词频\n",
    "from sklearn.feature_extraction.text import TfidfVectorizer\n",
    "\n",
    "vectorizer = TfidfVectorizer(analyzer='word', max_features = 5000, lowercase = False)\n",
    "vectorizer.fit(words)\n",
    "# 打印结果\n",
    "# 训练\n",
    "from sklearn.naive_bayes import MultinomialNB\n",
    "classifer = MultinomialNB()\n",
    "classifer.fit(vectorizer.transform(words), y_train)"
   ]
  },
  {
   "cell_type": "code",
   "execution_count": 37,
   "metadata": {},
   "outputs": [
    {
     "data": {
      "text/plain": [
       "0.8358433734939759"
      ]
     },
     "execution_count": 37,
     "metadata": {},
     "output_type": "execute_result"
    }
   ],
   "source": [
    "# 打印准确率\n",
    "classifer.score(vectorizer.transform(test_words), y_test)"
   ]
  },
  {
   "cell_type": "code",
   "execution_count": 118,
   "metadata": {},
   "outputs": [
    {
     "data": {
      "text/plain": [
       "2"
      ]
     },
     "execution_count": 118,
     "metadata": {},
     "output_type": "execute_result"
    }
   ],
   "source": [
    "# # 验证数据\n",
    "# perdict_data = cv.fit_transform(x_train[1])\n",
    "# perdict_data\n",
    "# classifer.predict(perdict_data)\n",
    "# classifer.predict(vec.transform(x_train[1882]))[1]"
   ]
  },
  {
   "cell_type": "code",
   "execution_count": 38,
   "metadata": {},
   "outputs": [],
   "source": [
    "# 验证某条数据\n",
    "new_str = '甘肃省省领导： 我公司景泰长城冶炼有限责任公司，在2016年电力用户和发电企业的直购电交易上'\n",
    "perdict_str = jieba.lcut(new_str)"
   ]
  },
  {
   "cell_type": "code",
   "execution_count": 39,
   "metadata": {},
   "outputs": [],
   "source": [
    "# 定义去掉停用词函数\n",
    "def drop_stopword_peridict(contents, stopwords):\n",
    "    content_clean = []\n",
    "    for word in contents:\n",
    "        if word in stopwords:\n",
    "            continue\n",
    "        content_clean.append(word)            \n",
    "    return content_clean"
   ]
  },
  {
   "cell_type": "code",
   "execution_count": 40,
   "metadata": {},
   "outputs": [],
   "source": [
    "# 去掉停用词\n",
    "peridict_clean =drop_stopword_peridict(perdict_str, stopwords)"
   ]
  },
  {
   "cell_type": "code",
   "execution_count": 43,
   "metadata": {},
   "outputs": [
    {
     "data": {
      "text/plain": [
       "'咨询'"
      ]
     },
     "execution_count": 43,
     "metadata": {},
     "output_type": "execute_result"
    }
   ],
   "source": [
    "classifer_dict = {1: \"建议\", 2: \"咨询\",3: \"投诉\"}\n",
    "classifer_dict[classifer.predict(vec.transform(peridict_clean))[1]]"
   ]
  },
  {
   "cell_type": "code",
   "execution_count": null,
   "metadata": {},
   "outputs": [],
   "source": [
    "#  因为咨询的数据量过大，在这里里面成为了主要的分类。 模型的正确率不是很高， 可以有两个地方提高正确率，\n",
    "# 1.数据采集，需要均衡三类数据，\n",
    "# 2.停用词，需要对具体情况进行，因为时间的原因，我在网上找了很多的停用词来使用。"
   ]
  }
 ],
 "metadata": {
  "kernelspec": {
   "display_name": "udachat",
   "language": "python",
   "name": "udachat"
  },
  "language_info": {
   "codemirror_mode": {
    "name": "ipython",
    "version": 3
   },
   "file_extension": ".py",
   "mimetype": "text/x-python",
   "name": "python",
   "nbconvert_exporter": "python",
   "pygments_lexer": "ipython3",
   "version": "3.6.7"
  }
 },
 "nbformat": 4,
 "nbformat_minor": 2
}
