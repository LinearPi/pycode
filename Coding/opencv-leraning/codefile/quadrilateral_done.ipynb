{
 "cells": [
  {
   "cell_type": "code",
   "execution_count": 1,
   "metadata": {},
   "outputs": [],
   "source": [
    "import cv2\n",
    "import pprint\n",
    "import matplotlib\n",
    "import matplotlib.pyplot as plt\n",
    "import numpy as np\n",
    "import time\n",
    "%matplotlib inline"
   ]
  },
  {
   "cell_type": "code",
   "execution_count": 2,
   "metadata": {},
   "outputs": [
    {
     "name": "stdout",
     "output_type": "stream",
     "text": [
      "109358.0\n"
     ]
    },
    {
     "data": {
      "text/plain": [
       "True"
      ]
     },
     "execution_count": 2,
     "metadata": {},
     "output_type": "execute_result"
    }
   ],
   "source": [
    "image = cv2.imread(\"apple.jpg\",  cv2.IMREAD_COLOR)\n",
    "new_img = np.ones_like((image),dtype=np.uint8)*255\n",
    "gray = cv2.cvtColor(image, cv2.COLOR_BGR2GRAY)\n",
    "gray = cv2.adaptiveThreshold(gray, 255, cv2.ADAPTIVE_THRESH_GAUSSIAN_C, cv2.THRESH_BINARY, 125, 1)\n",
    "# 根据最上面的点的像素来判断后面 二值化的结果\n",
    "if gray[1][1] == 0:    \n",
    "    ret, binary = cv2.threshold(gray, 0, 255, cv2.THRESH_BINARY | cv2.THRESH_OTSU)\n",
    "if gray[1][1] == 255:\n",
    "    ret, binary = cv2.threshold(gray, 0, 255, cv2.THRESH_BINARY_INV | cv2.THRESH_OTSU)\n",
    "    \n",
    "outimg, contours, hireachy = cv2.findContours(binary, cv2.RETR_EXTERNAL, cv2.CHAIN_APPROX_SIMPLE)\n",
    "top_lines = []\n",
    "botton_lines = []\n",
    "left_lines = []\n",
    "right_lines = []\n",
    "\n",
    "for i, contour in enumerate(contours):\n",
    "    area = cv2.contourArea(contour)\n",
    " \n",
    "    if area > 10000:\n",
    "        print(area)\n",
    "        x, y, w, h  = cv2.boundingRect(contour)\n",
    "        mm = cv2.moments(contour)\n",
    "        \n",
    "        epsilon = 0.01*cv2.arcLength(contour,True)\n",
    "        approx = cv2.approxPolyDP(contour,epsilon,True)\n",
    "        hull = cv2.convexHull(approx, True)\n",
    "        cv2.drawContours(image, hull, -1, (0,0,0),10)\n",
    "        \n",
    "lines = hull[:,0,:]\n",
    "dd = int((lines.max()-lines.min())/2)\n",
    "point_lines = lines-(dd,dd)\n",
    "for i in range(len(point_lines)):\n",
    "    if point_lines[i][0] < 0 and point_lines[i][1] < 0:\n",
    "        A = lines[i]\n",
    "    elif point_lines[i][0] > 0 and point_lines[i][1] < 0:\n",
    "        B = lines[i]\n",
    "    elif point_lines[i][0] < 0 and point_lines[i][1] > 0:\n",
    "        C = lines[i]\n",
    "    elif point_lines[i][0] > 0 and point_lines[i][1] > 0:\n",
    "        D = lines[i]\n",
    "        \n",
    "corners = np.float32([A,B,C,D])\n",
    "canvas = np.float32([[0, 0],[600, 0],[0,400],[600,400]])\n",
    "M = cv2.getPerspectiveTransform(corners, canvas)\n",
    "result = cv2.warpPerspective(image, M, (600, 400))\n",
    "cv2.imwrite(f\"angle_done{i}.jpg\",result) "
   ]
  },
  {
   "cell_type": "code",
   "execution_count": null,
   "metadata": {},
   "outputs": [],
   "source": []
  }
 ],
 "metadata": {
  "kernelspec": {
   "display_name": "ic",
   "language": "python",
   "name": "ic"
  },
  "language_info": {
   "codemirror_mode": {
    "name": "ipython",
    "version": 3
   },
   "file_extension": ".py",
   "mimetype": "text/x-python",
   "name": "python",
   "nbconvert_exporter": "python",
   "pygments_lexer": "ipython3",
   "version": "3.7.2"
  }
 },
 "nbformat": 4,
 "nbformat_minor": 2
}
