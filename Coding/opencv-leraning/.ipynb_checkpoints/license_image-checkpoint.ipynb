{
 "cells": [
  {
   "cell_type": "code",
   "execution_count": 10,
   "metadata": {},
   "outputs": [],
   "source": [
    "import cv2\n",
    "import pprint\n",
    "import matplotlib\n",
    "import matplotlib.pyplot as plt\n",
    "import numpy as np\n",
    "import pytesseract\n",
    "%matplotlib inline"
   ]
  },
  {
   "cell_type": "code",
   "execution_count": 2,
   "metadata": {},
   "outputs": [],
   "source": [
    "def cross_point(line1,line2):\n",
    "    \"\"\"计算交点函数\"\"\"\n",
    "    \n",
    "    #取出四点坐标\n",
    "    x1=line1[0]\n",
    "    y1=line1[1] \n",
    "    x2=line1[2]\n",
    "    y2=line1[3]\n",
    "    print(x1,y1,x2,y2)\n",
    "    \n",
    "    x3=line2[0]\n",
    "    y3=line2[1]\n",
    "    x4=line2[2]\n",
    "    y4=line2[3]\n",
    "    print(x3,y3,x4,y4)\n",
    "\n",
    "    #计算k1,由于点均为整数，需要进行浮点数转化\n",
    "    k1=(y2-y1)*1.0/(x2-x1)\n",
    "    #整型转浮点型是关键\n",
    "    b1=y1*1.0-x1*k1*1.0 \n",
    "    if (x4-x3)==0:#L2直线斜率不存在操作\n",
    "        k2=None\n",
    "        b2=0\n",
    "    else:\n",
    "        k2=(y4-y3)*1.0/(x4-x3)#斜率存在操作\n",
    "        b2=y3*1.0-x3*k2*1.0\n",
    "    if k2==None:\n",
    "        x=x3\n",
    "    else:\n",
    "        x=(b2-b1)*1.0/(k1-k2)\n",
    "    y=k1*x*1.0+b1*1.0\n",
    "    return [int(x), int(y)]\n",
    "\n",
    "def date_infer(img):\n",
    "    # 1.读取图片\n",
    "    image = cv2.imread(img,  cv2.IMREAD_COLOR)\n",
    "\n",
    "    # 2.新建一个白的等大的图片\n",
    "    new_img = np.ones_like((image),dtype=np.uint8)*255\n",
    "    \n",
    "    # 3.转灰色图片\n",
    "    gray = cv2.cvtColor(image, cv2.COLOR_BGR2GRAY)\n",
    "    \n",
    "    # 4.自适应图片阀值\n",
    "    gray = cv2.adaptiveThreshold(gray, 255, cv2.ADAPTIVE_THRESH_GAUSSIAN_C, cv2.THRESH_BINARY, 125, 1)\n",
    "    # 5. 二值化图片\n",
    "    if gray[1][1] == 255:    \n",
    "        ret, binary = cv2.threshold(gray, 0, 255, cv2.THRESH_BINARY | cv2.THRESH_OTSU)\n",
    "    if gray[1][1] == 0:\n",
    "        ret, binary = cv2.threshold(gray, 0, 255, cv2.THRESH_BINARY_INV | cv2.THRESH_OTSU)\n",
    "\n",
    "    # 6. 找出最大的矩形\n",
    "    outimg, contours, hireachy = cv2.findContours(binary, cv2.RETR_EXTERNAL, cv2.CHAIN_APPROX_SIMPLE)\n",
    "    # 7. 求出上下左右边\n",
    "\n",
    "    top_lines = []\n",
    "    botton_lines = []\n",
    "    left_lines = []\n",
    "    right_lines = []\n",
    "\n",
    "    for i, contour in enumerate(contours):\n",
    "        area = cv2.contourArea(contour)\n",
    "        if area > 10000:\n",
    "\n",
    "            approxCurve = cv2.approxPolyDP(contour, 10, True)       \n",
    "            if approxCurve.shape[0] > 4:\n",
    "                cv2.drawContours(new_img, contours, i, (0,0,255), -1)\n",
    "\n",
    "            gray_new_img = cv2.cvtColor(new_img, cv2.COLOR_BGR2GRAY)\n",
    "            edges = cv2.Canny(gray_new_img, 100,200) \n",
    "            lines = cv2.HoughLinesP(edges, 1.0, 3*np.pi/180, 100, 5, minLineLength=20, maxLineGap=20)\n",
    "            lines1 = lines[:,0,:]#提取为二维\n",
    "            for x1,y1,x2,y2 in lines1[:]: \n",
    "\n",
    "                if abs(x1 - x2)> abs(y1 - y2):\n",
    "                    if y1 < 250:\n",
    "                        top_lines.append((x1,y1,x2,y2))\n",
    "    #                     cv2.line(image,(x1,y1),(x2,y2),(255,0,0),1)\n",
    "                    else:\n",
    "                        botton_lines.append((x1,y1,x2,y2))\n",
    "    #                     cv2.line(image,(x1,y1),(x2,y2),(0,255,0),1)\n",
    "                else:\n",
    "                    if x1 < 250:\n",
    "                        left_lines.append((x1,y1,x2,y2))\n",
    "    #                     cv2.line(image,(x1,y1),(x2,y2),(0,0,255),1)\n",
    "                    else:\n",
    "                        right_lines.append((x1,y1,x2,y2))\n",
    "    #                     cv2.line(image,(x1,y1),(x2,y2),(255,255,0),1)\n",
    "\n",
    "    # 8.根据上下左右边,求出相交的点\n",
    "    A = cross_point(top_lines[0], left_lines[0])\n",
    "    B = cross_point(top_lines[0], right_lines[0])\n",
    "    C = cross_point(botton_lines[0], left_lines[0])\n",
    "    D = cross_point(botton_lines[0], right_lines[0])\n",
    "\n",
    "    # 9.根据求出的点做透射变化\n",
    "    corners = np.float32([A,B,C,D])\n",
    "    canvas = np.float32([[0, 0],[600, 0],[0,400],[600,400]])\n",
    "    M = cv2.getPerspectiveTransform(corners, canvas)\n",
    "    result = cv2.warpPerspective(image, M, (600, 400))\n",
    "    # 10.\n",
    "    i = time.localtime().tm_min\n",
    "    cv2.imwrite(f\"result_done{i}.jpg\",result) \n",
    "    \n",
    "#     cv2.imshow(\"gray\",gray) \n",
    "#     cv2.waitKey(0)\n",
    "#     cv2.destroyAllWindows()"
   ]
  },
  {
   "cell_type": "code",
   "execution_count": 8,
   "metadata": {},
   "outputs": [],
   "source": [
    "img =\"license/license.jpg\""
   ]
  },
  {
   "cell_type": "code",
   "execution_count": 25,
   "metadata": {},
   "outputs": [],
   "source": [
    "img =\"license/xichenLicense.jpg\"\n",
    "# 1.读取图片\n",
    "image = cv2.imread(img,  cv2.IMREAD_COLOR)\n",
    "bili = 900/image.shape[0]\n",
    "re_img_gray = cv2.resize(image, dsize=(0,0), fx=bili, fy = bili)\n",
    "image = cv2.pyrMeanShiftFiltering(re_img_gray, 5,3)\n",
    "# 2.新建一个白的等大的图片\n",
    "new_img = np.ones_like((image),dtype=np.uint8)*255\n",
    "\n",
    "# 3.转灰色图片\n",
    "gray = cv2.cvtColor(image, cv2.COLOR_BGR2GRAY)\n",
    "\n",
    "# 4.自适应图片阀值\n",
    "# gray = cv2.adaptiveThreshold(gray, 255, cv2.ADAPTIVE_THRESH_GAUSSIAN_C, cv2.THRESH_BINARY, 125, 1)\n",
    "# 5. 二值化图片\n",
    "# if gray[1][1] > 125:    \n",
    "#     ret, binary = cv2.threshold(gray, 0, 255, cv2.THRESH_BINARY | cv2.THRESH_OTSU)\n",
    "# else:\n",
    "#     ret, binary = cv2.threshold(gray, 0, 255, cv2.THRESH_BINARY_INV| cv2.THRESH_OTSU)\n",
    "\n",
    "ret, binary = cv2.threshold(gray, 200, 255, cv2.THRESH_BINARY)\n",
    "\n",
    "# 6. 找出最大的矩形\n",
    "outimg, contours, hireachy = cv2.findContours(binary, cv2.RETR_EXTERNAL, cv2.CHAIN_APPROX_SIMPLE)\n",
    "# 7. 求出上下左右边\n",
    "\n",
    "image = cv2.drawContours(image, contours, -1, (0,255,0), 1)\n",
    "cv2.imshow(\"image\",image)\n",
    "cv2.waitKey(0)\n",
    "cv2.destroyAllWindows()"
   ]
  },
  {
   "cell_type": "code",
   "execution_count": 18,
   "metadata": {},
   "outputs": [
    {
     "data": {
      "text/plain": [
       "(4, 1, 2)"
      ]
     },
     "execution_count": 18,
     "metadata": {},
     "output_type": "execute_result"
    }
   ],
   "source": [
    "contours[0].shape"
   ]
  },
  {
   "cell_type": "code",
   "execution_count": null,
   "metadata": {},
   "outputs": [],
   "source": []
  },
  {
   "cell_type": "code",
   "execution_count": null,
   "metadata": {},
   "outputs": [],
   "source": []
  },
  {
   "cell_type": "code",
   "execution_count": 13,
   "metadata": {
    "scrolled": false
   },
   "outputs": [],
   "source": [
    "pytesseract.pytesseract.tesseract_cmd = 'C:/Program Files (x86)/Tesseract-OCR/tesseract.exe'\n",
    "# image = Image.open(img, mode='r').convert(\"L\")\n",
    "# image.save(f'F:/PYcode/Coding/ic/{time.localtime().tm_hour}{time.localtime().tm_min}.png', quality=50)\n",
    "text = pytesseract.image_to_string(binary, lang='chi_sim')\n",
    "print(text.replace(' ',''))  "
   ]
  },
  {
   "cell_type": "code",
   "execution_count": 15,
   "metadata": {},
   "outputs": [],
   "source": [
    "cv2.imshow('image',image)\n",
    "# cv2.imshow('new_img',new_img)\n",
    "cv2.imshow('gray',gray)\n",
    "cv2.imshow('binary',binary)\n",
    "cv2.waitKey(0)\n",
    "cv2.destroyAllWindows()"
   ]
  },
  {
   "cell_type": "code",
   "execution_count": 30,
   "metadata": {},
   "outputs": [
    {
     "name": "stdout",
     "output_type": "stream",
     "text": [
      "Collecting python-qrtools\n"
     ]
    },
    {
     "name": "stderr",
     "output_type": "stream",
     "text": [
      "  Could not find a version that satisfies the requirement python-qrtools (from versions: )\n",
      "No matching distribution found for python-qrtools\n"
     ]
    }
   ],
   "source": [
    "!pip install qrtools"
   ]
  },
  {
   "cell_type": "code",
   "execution_count": null,
   "metadata": {},
   "outputs": [],
   "source": []
  }
 ],
 "metadata": {
  "kernelspec": {
   "display_name": "ic",
   "language": "python",
   "name": "ic"
  },
  "language_info": {
   "codemirror_mode": {
    "name": "ipython",
    "version": 3
   },
   "file_extension": ".py",
   "mimetype": "text/x-python",
   "name": "python",
   "nbconvert_exporter": "python",
   "pygments_lexer": "ipython3",
   "version": "3.7.2"
  }
 },
 "nbformat": 4,
 "nbformat_minor": 2
}
