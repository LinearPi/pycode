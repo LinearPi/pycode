{
 "cells": [
  {
   "cell_type": "code",
<<<<<<< HEAD
   "execution_count": 1,
=======
   "execution_count": 3,
>>>>>>> 8e83235b5da34d6f6b4604d8018449dc7e34723a
   "metadata": {},
   "outputs": [],
   "source": [
    "import cv2\n",
    "import pprint\n",
    "import matplotlib\n",
    "import matplotlib.pyplot as plt\n",
    "import numpy as np\n",
    "\n",
    "%matplotlib inline"
   ]
  },
  {
   "cell_type": "code",
<<<<<<< HEAD
   "execution_count": 68,
=======
   "execution_count": 4,
>>>>>>> 8e83235b5da34d6f6b4604d8018449dc7e34723a
   "metadata": {},
   "outputs": [],
   "source": [
    "def cross_point(line1,line2):#计算交点函数\n",
    "    x1=line1[0]#取四点坐标\n",
    "    y1=line1[1] \n",
    "    x2=line1[2]\n",
    "    y2=line1[3]\n",
    "    print(x1,y1,x2,y2)\n",
    "    \n",
    "    x3=line2[0]\n",
    "    y3=line2[1]\n",
    "    x4=line2[2]\n",
    "    y4=line2[3]\n",
    "    print(x3,y3,x4,y4)\n",
    "\n",
    "    \n",
    "    k1=(y2-y1)*1.0/(x2-x1)#计算k1,由于点均为整数，需要进行浮点数转化\n",
    "    b1=y1*1.0-x1*k1*1.0#整型转浮点型是关键\n",
    "    if (x4-x3)==0:#L2直线斜率不存在操作\n",
    "        k2=None\n",
    "        b2=0\n",
    "    else:\n",
    "        k2=(y4-y3)*1.0/(x4-x3)#斜率存在操作\n",
    "        b2=y3*1.0-x3*k2*1.0\n",
    "    if k2==None:\n",
    "        x=x3\n",
    "    else:\n",
    "        x=(b2-b1)*1.0/(k1-k2)\n",
    "    y=k1*x*1.0+b1*1.0\n",
    "    return [int(x), int(y)]\n",
    "\n",
    "def date_infer(img):\n",
    "    # 1.读取图片\n",
    "    image = cv2.imread(img,  cv2.IMREAD_COLOR)\n",
<<<<<<< HEAD
    "    image =cv2.resize(image, (700,500))\n",
    "    # 2.新建一个白的等大的图片\n",
    "    new_img = np.ones_like((image),dtype=np.uint8)*255\n",
    "    # 3.转灰色图片\n",
    "    gray = cv2.cvtColor(image, cv2.COLOR_BGR2GRAY)\n",
    "    # 3.5 前后背景分离\n",
    "    mask = np.zeros(image.shape[:2],np.uint8)\n",
    "    bgdModel = np.zeros((1,65),np.float64)\n",
    "    fgdModel = np.zeros((1,65),np.float64)\n",
    "    rect = (20,20,680,480)\n",
    "    cv2.grabCut(gray, mask, rect, bgdModel, fgdModel, 5, cv2.GC_INIT_WITH_RECT)\n",
    "    mask2 = np.where((mask==2)|(mask==0),0,1).astype('uint8')\n",
    "    gray = img*mask2[:,:,np.newaxis]\n",
=======
    "\n",
    "    # 2.新建一个白的等大的图片\n",
    "    new_img = np.ones_like((image),dtype=np.uint8)*255\n",
    "    \n",
    "    # 3.转灰色图片\n",
    "    gray = cv2.cvtColor(image, cv2.COLOR_BGR2GRAY)\n",
>>>>>>> 8e83235b5da34d6f6b4604d8018449dc7e34723a
    "    \n",
    "    # 4.自适应图片阀值\n",
    "    gray = cv2.adaptiveThreshold(gray, 255, cv2.ADAPTIVE_THRESH_GAUSSIAN_C, cv2.THRESH_BINARY, 125, 1)\n",
    "    # 5. 二值化图片\n",
    "    if gray[1][1] == 255:    \n",
    "        ret, binary = cv2.threshold(gray, 0, 255, cv2.THRESH_BINARY | cv2.THRESH_OTSU)\n",
    "    if gray[1][1] == 0:\n",
    "        ret, binary = cv2.threshold(gray, 0, 255, cv2.THRESH_BINARY_INV | cv2.THRESH_OTSU)\n",
    "\n",
    "    # 6. 找出最大的矩形\n",
    "    outimg, contours, hireachy = cv2.findContours(binary, cv2.RETR_EXTERNAL, cv2.CHAIN_APPROX_SIMPLE)\n",
    "    # 7. 求出上下左右边\n",
    "\n",
    "    top_lines = []\n",
    "    botton_lines = []\n",
    "    left_lines = []\n",
    "    right_lines = []\n",
    "\n",
    "    for i, contour in enumerate(contours):\n",
    "        area = cv2.contourArea(contour)\n",
    "        if area > 10000:\n",
    "\n",
    "            approxCurve = cv2.approxPolyDP(contour, 10, True)       \n",
    "            if approxCurve.shape[0] > 4:\n",
    "                cv2.drawContours(new_img, contours, i, (0,0,255), -1)\n",
    "\n",
    "            gray_new_img = cv2.cvtColor(new_img, cv2.COLOR_BGR2GRAY)\n",
    "            edges = cv2.Canny(gray_new_img, 100,200) \n",
    "            lines = cv2.HoughLinesP(edges, 1.0, 3*np.pi/180, 100, 5, minLineLength=20, maxLineGap=20)\n",
    "            lines1 = lines[:,0,:]#提取为二维\n",
    "            for x1,y1,x2,y2 in lines1[:]: \n",
    "\n",
    "                if abs(x1 - x2)> abs(y1 - y2):\n",
    "                    if y1 < 250:\n",
    "                        top_lines.append((x1,y1,x2,y2))\n",
    "    #                     cv2.line(image,(x1,y1),(x2,y2),(255,0,0),1)\n",
    "                    else:\n",
    "                        botton_lines.append((x1,y1,x2,y2))\n",
    "    #                     cv2.line(image,(x1,y1),(x2,y2),(0,255,0),1)\n",
    "                else:\n",
    "                    if x1 < 250:\n",
    "                        left_lines.append((x1,y1,x2,y2))\n",
    "    #                     cv2.line(image,(x1,y1),(x2,y2),(0,0,255),1)\n",
    "                    else:\n",
    "                        right_lines.append((x1,y1,x2,y2))\n",
    "    #                     cv2.line(image,(x1,y1),(x2,y2),(255,255,0),1)\n",
    "\n",
    "    # 8.根据上下左右边,求出相交的点\n",
    "    A = cross_point(top_lines[0], left_lines[0])\n",
    "    B = cross_point(top_lines[0], right_lines[0])\n",
    "    C = cross_point(botton_lines[0], left_lines[0])\n",
    "    D = cross_point(botton_lines[0], right_lines[0])\n",
    "\n",
    "    # 9.根据求出的点做透射变化\n",
    "    corners = np.float32([A,B,C,D])\n",
    "    canvas = np.float32([[0, 0],[600, 0],[0,400],[600,400]])\n",
    "    M = cv2.getPerspectiveTransform(corners, canvas)\n",
    "    result = cv2.warpPerspective(image, M, (600, 400))\n",
    "    # 10.\n",
    "    i = time.localtime().tm_min\n",
    "    cv2.imwrite(f\"result_done{i}.jpg\",result) \n",
    "    \n",
    "#     cv2.imshow(\"gray\",gray) \n",
    "#     cv2.waitKey(0)\n",
    "#     cv2.destroyAllWindows()"
   ]
  },
  {
   "cell_type": "code",
<<<<<<< HEAD
   "execution_count": 69,
   "metadata": {},
   "outputs": [
    {
     "ename": "error",
     "evalue": "OpenCV(3.4.2) C:\\Miniconda3\\conda-bld\\opencv-suite_1534379934306\\work\\modules\\imgproc\\src\\grabcut.cpp:543: error: (-5:Bad argument) image must have CV_8UC3 type in function 'cv::grabCut'\n",
     "output_type": "error",
     "traceback": [
      "\u001b[1;31m---------------------------------------------------------------------------\u001b[0m",
      "\u001b[1;31merror\u001b[0m                                     Traceback (most recent call last)",
      "\u001b[1;32m<ipython-input-69-20381415ae58>\u001b[0m in \u001b[0;36m<module>\u001b[1;34m\u001b[0m\n\u001b[0;32m      3\u001b[0m \u001b[0mimg\u001b[0m \u001b[1;33m=\u001b[0m\u001b[1;34m\"000.jpg\"\u001b[0m\u001b[1;33m\u001b[0m\u001b[1;33m\u001b[0m\u001b[0m\n\u001b[0;32m      4\u001b[0m \u001b[1;33m\u001b[0m\u001b[0m\n\u001b[1;32m----> 5\u001b[1;33m \u001b[0mdate_infer\u001b[0m\u001b[1;33m(\u001b[0m\u001b[0mimg\u001b[0m\u001b[1;33m)\u001b[0m\u001b[1;33m\u001b[0m\u001b[1;33m\u001b[0m\u001b[0m\n\u001b[0m\u001b[0;32m      6\u001b[0m \u001b[0mt2\u001b[0m \u001b[1;33m=\u001b[0m \u001b[0mtime\u001b[0m\u001b[1;33m.\u001b[0m\u001b[0mtime\u001b[0m\u001b[1;33m(\u001b[0m\u001b[1;33m)\u001b[0m\u001b[1;33m\u001b[0m\u001b[1;33m\u001b[0m\u001b[0m\n\u001b[0;32m      7\u001b[0m \u001b[0mt\u001b[0m \u001b[1;33m=\u001b[0m \u001b[0mt2\u001b[0m\u001b[1;33m-\u001b[0m\u001b[0mt1\u001b[0m\u001b[1;33m\u001b[0m\u001b[1;33m\u001b[0m\u001b[0m\n",
      "\u001b[1;32m<ipython-input-68-9255de8940e8>\u001b[0m in \u001b[0;36mdate_infer\u001b[1;34m(img)\u001b[0m\n\u001b[0;32m     41\u001b[0m     \u001b[0mfgdModel\u001b[0m \u001b[1;33m=\u001b[0m \u001b[0mnp\u001b[0m\u001b[1;33m.\u001b[0m\u001b[0mzeros\u001b[0m\u001b[1;33m(\u001b[0m\u001b[1;33m(\u001b[0m\u001b[1;36m1\u001b[0m\u001b[1;33m,\u001b[0m\u001b[1;36m65\u001b[0m\u001b[1;33m)\u001b[0m\u001b[1;33m,\u001b[0m\u001b[0mnp\u001b[0m\u001b[1;33m.\u001b[0m\u001b[0mfloat64\u001b[0m\u001b[1;33m)\u001b[0m\u001b[1;33m\u001b[0m\u001b[1;33m\u001b[0m\u001b[0m\n\u001b[0;32m     42\u001b[0m     \u001b[0mrect\u001b[0m \u001b[1;33m=\u001b[0m \u001b[1;33m(\u001b[0m\u001b[1;36m20\u001b[0m\u001b[1;33m,\u001b[0m\u001b[1;36m20\u001b[0m\u001b[1;33m,\u001b[0m\u001b[1;36m680\u001b[0m\u001b[1;33m,\u001b[0m\u001b[1;36m480\u001b[0m\u001b[1;33m)\u001b[0m\u001b[1;33m\u001b[0m\u001b[1;33m\u001b[0m\u001b[0m\n\u001b[1;32m---> 43\u001b[1;33m     \u001b[0mcv2\u001b[0m\u001b[1;33m.\u001b[0m\u001b[0mgrabCut\u001b[0m\u001b[1;33m(\u001b[0m\u001b[0mgray\u001b[0m\u001b[1;33m,\u001b[0m \u001b[0mmask\u001b[0m\u001b[1;33m,\u001b[0m \u001b[0mrect\u001b[0m\u001b[1;33m,\u001b[0m \u001b[0mbgdModel\u001b[0m\u001b[1;33m,\u001b[0m \u001b[0mfgdModel\u001b[0m\u001b[1;33m,\u001b[0m \u001b[1;36m5\u001b[0m\u001b[1;33m,\u001b[0m \u001b[0mcv2\u001b[0m\u001b[1;33m.\u001b[0m\u001b[0mGC_INIT_WITH_RECT\u001b[0m\u001b[1;33m)\u001b[0m\u001b[1;33m\u001b[0m\u001b[1;33m\u001b[0m\u001b[0m\n\u001b[0m\u001b[0;32m     44\u001b[0m     \u001b[0mmask2\u001b[0m \u001b[1;33m=\u001b[0m \u001b[0mnp\u001b[0m\u001b[1;33m.\u001b[0m\u001b[0mwhere\u001b[0m\u001b[1;33m(\u001b[0m\u001b[1;33m(\u001b[0m\u001b[0mmask\u001b[0m\u001b[1;33m==\u001b[0m\u001b[1;36m2\u001b[0m\u001b[1;33m)\u001b[0m\u001b[1;33m|\u001b[0m\u001b[1;33m(\u001b[0m\u001b[0mmask\u001b[0m\u001b[1;33m==\u001b[0m\u001b[1;36m0\u001b[0m\u001b[1;33m)\u001b[0m\u001b[1;33m,\u001b[0m\u001b[1;36m0\u001b[0m\u001b[1;33m,\u001b[0m\u001b[1;36m1\u001b[0m\u001b[1;33m)\u001b[0m\u001b[1;33m.\u001b[0m\u001b[0mastype\u001b[0m\u001b[1;33m(\u001b[0m\u001b[1;34m'uint8'\u001b[0m\u001b[1;33m)\u001b[0m\u001b[1;33m\u001b[0m\u001b[1;33m\u001b[0m\u001b[0m\n\u001b[0;32m     45\u001b[0m     \u001b[0mgray\u001b[0m \u001b[1;33m=\u001b[0m \u001b[0mimg\u001b[0m\u001b[1;33m*\u001b[0m\u001b[0mmask2\u001b[0m\u001b[1;33m[\u001b[0m\u001b[1;33m:\u001b[0m\u001b[1;33m,\u001b[0m\u001b[1;33m:\u001b[0m\u001b[1;33m,\u001b[0m\u001b[0mnp\u001b[0m\u001b[1;33m.\u001b[0m\u001b[0mnewaxis\u001b[0m\u001b[1;33m]\u001b[0m\u001b[1;33m\u001b[0m\u001b[1;33m\u001b[0m\u001b[0m\n",
      "\u001b[1;31merror\u001b[0m: OpenCV(3.4.2) C:\\Miniconda3\\conda-bld\\opencv-suite_1534379934306\\work\\modules\\imgproc\\src\\grabcut.cpp:543: error: (-5:Bad argument) image must have CV_8UC3 type in function 'cv::grabCut'\n"
=======
   "execution_count": 5,
   "metadata": {},
   "outputs": [
    {
     "name": "stdout",
     "output_type": "stream",
     "text": [
      "197 58 361 58\n",
      "70 163 81 377\n",
      "197 58 361 58\n",
      "597 335 611 76\n",
      "356 394 580 394\n",
      "70 163 81 377\n",
      "356 394 580 394\n",
      "597 335 611 76\n",
      "0.03399991989135742\n"
>>>>>>> 8e83235b5da34d6f6b4604d8018449dc7e34723a
     ]
    }
   ],
   "source": [
    "import time\n",
    "t1 = time.time()\n",
<<<<<<< HEAD
    "img =\"000.jpg\"\n",
=======
    "img =\"ti.jpg\"\n",
>>>>>>> 8e83235b5da34d6f6b4604d8018449dc7e34723a
    "date_infer(img)\n",
    "t2 = time.time()\n",
    "t = t2-t1\n",
    "print(t)"
   ]
  },
  {
   "cell_type": "code",
<<<<<<< HEAD
   "execution_count": 43,
   "metadata": {},
   "outputs": [
    {
     "data": {
      "text/plain": [
       "(428, 640)"
      ]
     },
     "execution_count": 43,
     "metadata": {},
     "output_type": "execute_result"
    }
   ],
   "source": []
  },
  {
   "cell_type": "code",
=======
>>>>>>> 8e83235b5da34d6f6b4604d8018449dc7e34723a
   "execution_count": null,
   "metadata": {},
   "outputs": [],
   "source": []
  }
 ],
 "metadata": {
  "kernelspec": {
   "display_name": "ic",
   "language": "python",
   "name": "ic"
  },
  "language_info": {
   "codemirror_mode": {
    "name": "ipython",
    "version": 3
   },
   "file_extension": ".py",
   "mimetype": "text/x-python",
   "name": "python",
   "nbconvert_exporter": "python",
   "pygments_lexer": "ipython3",
   "version": "3.7.2"
  }
 },
 "nbformat": 4,
 "nbformat_minor": 2
}
