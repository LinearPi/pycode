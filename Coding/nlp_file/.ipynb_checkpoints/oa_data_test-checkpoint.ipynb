{
 "cells": [
  {
   "cell_type": "code",
   "execution_count": null,
   "metadata": {},
   "outputs": [],
   "source": [
    "#  cx_Oracle.connect('SP_93_YULIN_190806', 'SP_93_YULIN_190806', '192.168.1.11:1521/orclpdb')"
   ]
  },
  {
   "cell_type": "code",
   "execution_count": 39,
   "metadata": {
    "scrolled": true
   },
   "outputs": [],
   "source": [
    "import cx_Oracle \n",
    "import pandas.io.sql as sql\n",
    "#引用模块cx_Oracle\n",
    "conn = cx_Oracle.connect('OA_CLOUDEV4_180917', 'OA_CLOUDEV4_180917', '192.168.1.16:1521/orcl')    #连接数据库\n",
    "c = conn.cursor()                                           #获取cursor\n",
    "# x = c.execute('select TASKREMARK from task where length(TASKREMARK) > 30')                   #使用cursor进行各种操作\n",
    "# x.fetchone()\n",
    "# c.close()                                                 #关闭cursor\n",
    "# conn.close()"
   ]
  },
  {
   "cell_type": "code",
   "execution_count": 40,
   "metadata": {},
   "outputs": [],
   "source": [
    "data = sql.read_sql('select TASKREMARK from task where length(TASKREMARK) > 30', conn)"
   ]
  },
  {
   "cell_type": "code",
   "execution_count": 104,
   "metadata": {},
   "outputs": [],
   "source": [
    "import cx_Oracle \n",
    "import pandas as pd\n",
    "import os \n",
    "import time\n",
    "import jieba\n",
    "\n",
    "os.environ['NLS_LANG'] = 'SIMPLIFIED CHINESE_CHINA.ZHS16GBK'"
   ]
  },
  {
   "cell_type": "code",
   "execution_count": 2,
   "metadata": {},
   "outputs": [],
   "source": [
    "db=cx_Oracle.connect('OA_CLOUDEV4_180917','OA_CLOUDEV4_180917','192.168.1.16:1521/orcl')  \n",
    "cr=db.cursor()  "
   ]
  },
  {
   "cell_type": "code",
   "execution_count": 9,
   "metadata": {},
   "outputs": [],
   "source": [
    "sql='select TASKREMARK from task where length(TASKREMARK) > 30'\n",
    "cr.execute(sql)  \n",
    "rs=cr.fetchall()  \n",
    "df=pd.DataFrame(rs)"
   ]
  },
  {
   "cell_type": "code",
   "execution_count": 12,
   "metadata": {},
   "outputs": [],
   "source": []
  },
  {
   "cell_type": "code",
   "execution_count": 109,
   "metadata": {},
   "outputs": [],
   "source": [
    "word_list = []"
   ]
  },
  {
   "cell_type": "code",
   "execution_count": 55,
   "metadata": {},
   "outputs": [
    {
     "data": {
      "text/plain": [
       "'根据个人使用习惯有一下几个建议\\r\\n1、任务列表默认进来查询执行人是自己的任务\\r\\n2、第二个菜单可以显示自己负责的任务\\r\\n3、第三个菜单显示自己参与过的任务'"
      ]
     },
     "execution_count": 55,
     "metadata": {},
     "output_type": "execute_result"
    }
   ],
   "source": [
    "ll = df[0][0]\n",
    "ll.read()"
   ]
  },
  {
   "cell_type": "code",
   "execution_count": 89,
   "metadata": {
    "scrolled": true
   },
   "outputs": [
    {
     "name": "stdout",
     "output_type": "stream",
     "text": [
      "根据 个人 使用 习惯 有 一下 几个 建议 \r\n",
      " 1 、 任务 列表 默认 进来 查询 执行 人 是 自己 的 任务 \r\n",
      " 2 、 第二个 菜单 可以 显示 自己 负责 的 任务 \r\n",
      " 3 、 第三个 菜单 显示 自己 参与 过 的 任务\n"
     ]
    }
   ],
   "source": [
    "seg_list = jieba.cut(ll.read())\n",
    "print(\" \".join(seg_list))  # 全模式"
   ]
  },
  {
   "cell_type": "code",
   "execution_count": 90,
   "metadata": {},
   "outputs": [
    {
     "data": {
      "text/plain": [
       "'根据 个人 使用 习惯 有 一下 几个 建议 \\r\\n 1 、 任务 列表 默认 进来 查询 执行 人 是 自己 的 任务 \\r\\n 2 、 第二个 菜单 可以 显示 自己 负责 的 任务 \\r\\n 3 、 第三个 菜单 显示 自己 参与 过 的 任务'"
      ]
     },
     "execution_count": 90,
     "metadata": {},
     "output_type": "execute_result"
    }
   ],
   "source": [
    "seg_list = jieba.cut(ll.read())\n",
    "ss = \" \".join(seg_list)\n",
    "ss"
   ]
  },
  {
   "cell_type": "code",
   "execution_count": 93,
   "metadata": {},
   "outputs": [
    {
     "data": {
      "text/plain": [
       "['根据', '个人', '使用', '习惯', '有']"
      ]
     },
     "execution_count": 93,
     "metadata": {},
     "output_type": "execute_result"
    }
   ],
   "source": [
    "ss.split(\" \")[0:5]"
   ]
  },
  {
   "cell_type": "code",
   "execution_count": 110,
   "metadata": {},
   "outputs": [
    {
     "name": "stdout",
     "output_type": "stream",
     "text": [
      "2376446\n",
      "['根据', '个人', '使用', '习惯', '有', '一下', '几个', '建议', '\\r\\n', '1', '、', '任务', '列表', '默认', '进来', '查询', '执行', '人', '是', '自己', '的', '任务', '\\r\\n', '2', '、', '第二个', '菜单', '可以', '显示', '自己', '负责', '的', '任务', '\\r\\n', '3', '、', '第三个', '菜单', '显示', '自己', '参与', '过', '的', '任务', '任务', '标记', '完成', '以后', '，', '进度', '还是', '0%', '，', '而且', '从', '任务', '列表', '看不出来', '任务', '的', '状态', '，', '只', '哟', '点击', '进去', '了', '才', '知道', '是', '已经', '完成', '的', '任务', '，', '感觉', '不是', '很', '方便', '，', '希望', '能', '在', '任务', '列表', '里面', '直观', '的', '看出', '任务', '是否', '已经', '完成', '企业', '成员', '列表', '翻页', '问题', '：', '第一页']\n",
      "20.42300009727478\n"
     ]
    }
   ],
   "source": [
    "st = time.time()\n",
    "\n",
    "for wo_list in df[0]:\n",
    "    seg_list = jieba.cut(wo_list.read())\n",
    "    ss = \" \".join(seg_list).split(\" \")\n",
    "    word_list.extend(ss)\n",
    "et = time.time()\n",
    "print(len(word_list))\n",
    "print(word_list[0:100])\n",
    "spendtime = et - st\n",
    "print(spendtime)"
   ]
  },
  {
   "cell_type": "code",
   "execution_count": 114,
   "metadata": {},
   "outputs": [
    {
     "data": {
      "text/plain": [
       "2376446"
      ]
     },
     "execution_count": 114,
     "metadata": {},
     "output_type": "execute_result"
    }
   ],
   "source": [
    "len(word_list)"
   ]
  },
  {
   "cell_type": "code",
   "execution_count": 117,
   "metadata": {},
   "outputs": [],
   "source": [
    "import matplotlib.pyplot as plt\n",
    "from wordcloud import WordCloud"
   ]
  },
  {
   "cell_type": "code",
   "execution_count": 120,
   "metadata": {},
   "outputs": [
    {
     "ename": "AttributeError",
     "evalue": "'list' object has no attribute 'WordCloud'",
     "output_type": "error",
     "traceback": [
      "\u001b[1;31m---------------------------------------------------------------------------\u001b[0m",
      "\u001b[1;31mAttributeError\u001b[0m                            Traceback (most recent call last)",
      "\u001b[1;32m<ipython-input-120-23fa9d2c40e7>\u001b[0m in \u001b[0;36m<module>\u001b[1;34m\u001b[0m\n\u001b[1;32m----> 1\u001b[1;33m \u001b[0mwordcloud\u001b[0m \u001b[1;33m=\u001b[0m \u001b[0mword_list\u001b[0m\u001b[1;33m.\u001b[0m\u001b[0mWordCloud\u001b[0m\u001b[1;33m(\u001b[0m\u001b[0mbackground_color\u001b[0m\u001b[1;33m=\u001b[0m\u001b[1;34m\"white\"\u001b[0m\u001b[1;33m,\u001b[0m\u001b[0mwidth\u001b[0m\u001b[1;33m=\u001b[0m\u001b[1;36m1000\u001b[0m\u001b[1;33m,\u001b[0m \u001b[0mheight\u001b[0m\u001b[1;33m=\u001b[0m\u001b[1;36m860\u001b[0m\u001b[1;33m,\u001b[0m \u001b[0mmargin\u001b[0m\u001b[1;33m=\u001b[0m\u001b[1;36m2\u001b[0m\u001b[1;33m)\u001b[0m\u001b[1;33m\u001b[0m\u001b[1;33m\u001b[0m\u001b[0m\n\u001b[0m",
      "\u001b[1;31mAttributeError\u001b[0m: 'list' object has no attribute 'WordCloud'"
     ]
    }
   ],
   "source": [
    "for i in wo_list:\n",
    "    if len(i) < 2:\n",
    "        wo_list."
   ]
  },
  {
   "cell_type": "code",
   "execution_count": 122,
   "metadata": {},
   "outputs": [
    {
     "data": {
      "text/plain": [
       "cx_Oracle.LOB"
      ]
     },
     "execution_count": 122,
     "metadata": {},
     "output_type": "execute_result"
    }
   ],
   "source": [
    "type(wo_list)"
   ]
  },
  {
   "cell_type": "code",
   "execution_count": null,
   "metadata": {},
   "outputs": [],
   "source": []
  }
 ],
 "metadata": {
  "kernelspec": {
   "display_name": "nlp",
   "language": "python",
   "name": "nlp"
  },
  "language_info": {
   "codemirror_mode": {
    "name": "ipython",
    "version": 3
   },
   "file_extension": ".py",
   "mimetype": "text/x-python",
   "name": "python",
   "nbconvert_exporter": "python",
   "pygments_lexer": "ipython3",
   "version": "3.6.8"
  }
 },
 "nbformat": 4,
 "nbformat_minor": 2
}
