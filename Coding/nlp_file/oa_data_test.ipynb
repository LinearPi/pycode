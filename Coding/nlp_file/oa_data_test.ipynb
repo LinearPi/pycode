{
 "cells": [
  {
   "cell_type": "code",
   "execution_count": null,
   "metadata": {},
   "outputs": [],
   "source": [
    "#  cx_Oracle.connect('SP_93_YULIN_190806', 'SP_93_YULIN_190806', '192.168.1.11:1521/orclpdb')"
   ]
  },
  {
   "cell_type": "code",
   "execution_count": 39,
   "metadata": {
    "scrolled": true
   },
   "outputs": [],
   "source": [
    "import cx_Oracle \n",
    "import pandas.io.sql as sql\n",
    "#引用模块cx_Oracle\n",
    "conn = cx_Oracle.connect('OA_CLOUDEV4_180917', 'OA_CLOUDEV4_180917', '192.168.1.16:1521/orcl')    #连接数据库\n",
    "c = conn.cursor()                                           #获取cursor\n",
    "# x = c.execute('select TASKREMARK from task where length(TASKREMARK) > 30')                   #使用cursor进行各种操作\n",
    "# x.fetchone()\n",
    "# c.close()                                                 #关闭cursor\n",
    "# conn.close()"
   ]
  },
  {
   "cell_type": "code",
   "execution_count": 40,
   "metadata": {},
   "outputs": [],
   "source": [
    "data = sql.read_sql('select TASKREMARK from task where length(TASKREMARK) > 30', conn)"
   ]
  },
  {
   "cell_type": "code",
   "execution_count": 1,
   "metadata": {},
   "outputs": [],
   "source": [
    "import cx_Oracle \n",
    "import pandas as pd\n",
    "import os \n",
    "import time\n",
    "import jieba\n",
    "\n",
    "os.environ['NLS_LANG'] = 'SIMPLIFIED CHINESE_CHINA.ZHS16GBK'"
   ]
  },
  {
   "cell_type": "code",
   "execution_count": 2,
   "metadata": {},
   "outputs": [],
   "source": [
    "db=cx_Oracle.connect('OA_CLOUDEV4_180917','OA_CLOUDEV4_180917','192.168.1.16:1521/orcl')  \n",
    "cr=db.cursor()  "
   ]
  },
  {
   "cell_type": "code",
   "execution_count": 3,
   "metadata": {},
   "outputs": [],
   "source": [
    "sql='select TASKREMARK from task where length(TASKREMARK) > 30'\n",
    "cr.execute(sql)  \n",
    "rs=cr.fetchall()  \n",
    "df=pd.DataFrame(rs)"
   ]
  },
  {
   "cell_type": "code",
   "execution_count": null,
   "metadata": {},
   "outputs": [],
   "source": []
  },
  {
   "cell_type": "code",
   "execution_count": 5,
   "metadata": {},
   "outputs": [],
   "source": [
    "word_list = []"
   ]
  },
  {
   "cell_type": "code",
   "execution_count": 6,
   "metadata": {},
   "outputs": [
    {
     "data": {
      "text/plain": [
       "'根据个人使用习惯有一下几个建议\\r\\n1、任务列表默认进来查询执行人是自己的任务\\r\\n2、第二个菜单可以显示自己负责的任务\\r\\n3、第三个菜单显示自己参与过的任务'"
      ]
     },
     "execution_count": 6,
     "metadata": {},
     "output_type": "execute_result"
    }
   ],
   "source": [
    "ll = df[0][0]\n",
    "ll.read()"
   ]
  },
  {
   "cell_type": "code",
   "execution_count": 7,
   "metadata": {
    "scrolled": true
   },
   "outputs": [
    {
     "name": "stderr",
     "output_type": "stream",
     "text": [
      "Building prefix dict from the default dictionary ...\n",
      "Loading model from cache C:\\Users\\ADMINI~1\\AppData\\Local\\Temp\\jieba.cache\n",
      "Loading model cost 0.778 seconds.\n",
      "Prefix dict has been built succesfully.\n"
     ]
    },
    {
     "name": "stdout",
     "output_type": "stream",
     "text": [
      "根据 个人 使用 习惯 有 一下 几个 建议 \r\n",
      " 1 、 任务 列表 默认 进来 查询 执行 人 是 自己 的 任务 \r\n",
      " 2 、 第二个 菜单 可以 显示 自己 负责 的 任务 \r\n",
      " 3 、 第三个 菜单 显示 自己 参与 过 的 任务\n"
     ]
    }
   ],
   "source": [
    "seg_list = jieba.cut(ll.read())\n",
    "print(\" \".join(seg_list))  # 全模式、"
   ]
  },
  {
   "cell_type": "code",
   "execution_count": 90,
   "metadata": {},
   "outputs": [
    {
     "data": {
      "text/plain": [
       "'根据 个人 使用 习惯 有 一下 几个 建议 \\r\\n 1 、 任务 列表 默认 进来 查询 执行 人 是 自己 的 任务 \\r\\n 2 、 第二个 菜单 可以 显示 自己 负责 的 任务 \\r\\n 3 、 第三个 菜单 显示 自己 参与 过 的 任务'"
      ]
     },
     "execution_count": 90,
     "metadata": {},
     "output_type": "execute_result"
    }
   ],
   "source": [
    "seg_list = jieba.cut(ll.read())\n",
    "ss = \" \".join(seg_list)\n",
    "ss"
   ]
  },
  {
   "cell_type": "code",
   "execution_count": 93,
   "metadata": {},
   "outputs": [
    {
     "data": {
      "text/plain": [
       "['根据', '个人', '使用', '习惯', '有']"
      ]
     },
     "execution_count": 93,
     "metadata": {},
     "output_type": "execute_result"
    }
   ],
   "source": [
    "ss.split(\" \")[0:5]"
   ]
  },
  {
   "cell_type": "code",
   "execution_count": 8,
   "metadata": {},
   "outputs": [
    {
     "name": "stdout",
     "output_type": "stream",
     "text": [
      "2376446\n",
      "['根据', '个人', '使用', '习惯', '有', '一下', '几个', '建议', '\\r\\n', '1', '、', '任务', '列表', '默认', '进来', '查询', '执行', '人', '是', '自己', '的', '任务', '\\r\\n', '2', '、', '第二个', '菜单', '可以', '显示', '自己', '负责', '的', '任务', '\\r\\n', '3', '、', '第三个', '菜单', '显示', '自己', '参与', '过', '的', '任务', '任务', '标记', '完成', '以后', '，', '进度', '还是', '0%', '，', '而且', '从', '任务', '列表', '看不出来', '任务', '的', '状态', '，', '只', '哟', '点击', '进去', '了', '才', '知道', '是', '已经', '完成', '的', '任务', '，', '感觉', '不是', '很', '方便', '，', '希望', '能', '在', '任务', '列表', '里面', '直观', '的', '看出', '任务', '是否', '已经', '完成', '企业', '成员', '列表', '翻页', '问题', '：', '第一页']\n",
      "21.89300012588501\n"
     ]
    }
   ],
   "source": [
    "st = time.time()\n",
    "\n",
    "for wo_list in df[0]:\n",
    "    seg_list = jieba.cut(wo_list.read())\n",
    "    ss = \" \".join(seg_list).split(\" \")\n",
    "    word_list.extend(ss)\n",
    "et = time.time()\n",
    "print(len(word_list))\n",
    "print(word_list[0:100])\n",
    "spendtime = et - st\n",
    "print(spendtime)"
   ]
  },
  {
   "cell_type": "code",
   "execution_count": 9,
   "metadata": {},
   "outputs": [
    {
     "data": {
      "text/plain": [
       "2376446"
      ]
     },
     "execution_count": 9,
     "metadata": {},
     "output_type": "execute_result"
    }
   ],
   "source": [
    "len(word_list)"
   ]
  },
  {
   "cell_type": "code",
   "execution_count": 117,
   "metadata": {},
   "outputs": [],
   "source": [
    "import matplotlib.pyplot as plt\n",
    "from wordcloud import WordCloud"
   ]
  },
  {
   "cell_type": "code",
   "execution_count": null,
   "metadata": {},
   "outputs": [],
   "source": [
    "for i in word_list:\n",
    "    if len(i) < 2:\n",
    "        word_list.remove(i)"
   ]
  },
  {
   "cell_type": "code",
   "execution_count": 122,
   "metadata": {},
   "outputs": [
    {
     "data": {
      "text/plain": [
       "cx_Oracle.LOB"
      ]
     },
     "execution_count": 122,
     "metadata": {},
     "output_type": "execute_result"
    }
   ],
   "source": [
    "len(word_list)"
   ]
  },
  {
   "cell_type": "code",
   "execution_count": null,
   "metadata": {},
   "outputs": [],
   "source": []
  }
 ],
 "metadata": {
  "kernelspec": {
   "display_name": "nlp",
   "language": "python",
   "name": "nlp"
  },
  "language_info": {
   "codemirror_mode": {
    "name": "ipython",
    "version": 3
   },
   "file_extension": ".py",
   "mimetype": "text/x-python",
   "name": "python",
   "nbconvert_exporter": "python",
   "pygments_lexer": "ipython3",
   "version": "3.6.8"
  }
 },
 "nbformat": 4,
 "nbformat_minor": 2
}
