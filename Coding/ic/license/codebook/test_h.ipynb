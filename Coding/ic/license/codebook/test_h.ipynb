{
 "cells": [
  {
   "cell_type": "code",
   "execution_count": 10,
   "metadata": {},
   "outputs": [],
   "source": [
    "import numpy as np\n",
    "import cv2\n",
    "\n",
    "from matplotlib import pyplot as plt\n",
    "img_url = r\"F:\\PYcode\\Coding\\ic\\license\\source_img\\AAxwarped.jpg\"\n",
    " \n",
    "def getImageHorizontalAndVerticalSum(ImageThre):\n",
    "    rows, cols = ImageThre.shape\n",
    "    horsum = []\n",
    "    versum = []\n",
    "    for i in range(cols):\n",
    "        val = np.array(ImageThre[:, i]).sum()\n",
    "        horsum.append(val)\n",
    "        # print(val)\n",
    "    for i in range(rows):\n",
    "        val = np.array(ImageThre[i, :]).sum()\n",
    "        versum.append(val)\n",
    "        # print(val)\n",
    "    return horsum,versum\n",
    " \n",
    "#这个函数我们最终需要找到一个区间表示字符的竖直分布情况\n",
    "def getVerticalCharPosition(versum):\n",
    "    result=[] #用来保存找到的结果：位置，区间大小\n",
    "    i=0\n",
    "    while i<len(versum):\n",
    "        if(versum[i]!=0):\n",
    "            j=1 #代表这个区间的大小\n",
    "            sum=versum[i] #代表这整个区间的像素和是多少\n",
    "            while(versum[i+j]!=0):\n",
    "                sum=sum+versum[i+j]\n",
    "                j=j+1\n",
    "            if j > 10 and sum > 500: result.append([i, j])\n",
    "            i=i+j+1 #跳过这整个不为0的区间，开始寻找下一个区间\n",
    "        i=i+1\n",
    "    return result\n",
    " \n",
    "#这个函数我们最终需要找到四个区间表示字符的水平分布情况\n",
    "def getHorizontalCharPosition(horsum):\n",
    "    result = []  # 用来保存找到的结果：位置，区间大小\n",
    "    i = 0\n",
    "    while i < len(horsum):\n",
    "        if(horsum[i] != 0):\n",
    "            j = 1 #代表这个区间的大小\n",
    "            sum1 = horsum[i] #代表这整个区间的像素和是多少\n",
    "            while(horsum[i+j] != 0):\n",
    "                sum1 = sum1 + horsum[i+j]\n",
    "                j=j+1\n",
    "                if j > 10 and sum1 > 500 :\n",
    "                    result.append([i,j])\n",
    "                i=i+j+1 #跳过这整个不为0的区间，开始寻找下一个区间\n",
    "        i=i+1\n",
    "    return result\n",
    "\n",
    " \n",
    "#这个函数返回所有可能是字符的图片区域\n",
    "def getCharImages(verticalCharPosition,horizontalCharPosition,image):\n",
    "    charImages=[]\n",
    "    #v,h:[position,width]\n",
    "    for v in verticalCharPosition:\n",
    "        for h in horizontalCharPosition:\n",
    "            charImages.append(image[v[0]:v[0]+v[1],h[0]:h[0]+h[1]])\n",
    "    return charImages\n",
    "\n",
    "\n"
   ]
  },
  {
   "cell_type": "code",
   "execution_count": null,
   "metadata": {},
   "outputs": [],
   "source": []
  },
  {
   "cell_type": "code",
   "execution_count": null,
   "metadata": {},
   "outputs": [],
   "source": []
  },
  {
   "cell_type": "code",
   "execution_count": 13,
   "metadata": {},
   "outputs": [],
   "source": [
    " \n",
    "# load raw image to gray\n",
    "RawImageGray=cv2.imread(img_url,0)\n",
    "#scale gray image to a comment scale\n",
    "# Image=cv2.resize(RawImageGray,(400,400))\n",
    "#then get down to Image\n",
    "#threshold\n",
    "ret,ImageThre=cv2.threshold(RawImageGray,150,255,cv2.THRESH_BINARY_INV)\n",
    "\n",
    "horsum,versum = getImageHorizontalAndVerticalSum(ImageThre)"
   ]
  },
  {
   "cell_type": "code",
   "execution_count": 14,
   "metadata": {},
   "outputs": [
    {
     "data": {
      "image/png": "[encoded data removed]",
      "text/plain": [
       "<Figure size 432x288 with 1 Axes>"
      ]
     },
     "metadata": {
      "needs_background": "light"
     },
     "output_type": "display_data"
    }
   ],
   "source": [
    " \n",
    "#输出函数曲线图，这里输出了水平方向和竖直方向上的像素情况，可以很明显的知道数字的分布\n",
    "rows, cols = ImageThre.shape\n",
    "# X=np.arange(0,cols,1)\n",
    "# plt.plot(X,horsum)\n",
    "X=np.arange(0,rows,1)\n",
    "plt.plot(versum,X)\n",
    "plt.show()"
   ]
  },
  {
   "cell_type": "code",
   "execution_count": 29,
   "metadata": {},
   "outputs": [
    {
     "ename": "IndexError",
     "evalue": "list index out of range",
     "output_type": "error",
     "traceback": [
      "\u001b[1;31m---------------------------------------------------------------------------\u001b[0m",
      "\u001b[1;31mIndexError\u001b[0m                                Traceback (most recent call last)",
      "\u001b[1;32m<ipython-input-29-ed3d6c6cc8b3>\u001b[0m in \u001b[0;36m<module>\u001b[1;34m()\u001b[0m\n\u001b[0;32m      3\u001b[0m \u001b[1;31m#遍历求和数组，找到连续的不为0的一个区间，这个区间就很可能是字符区间，但是总是会有噪声的，去除噪声可以根据区间大小和区间整体像素和来筛选\u001b[0m\u001b[1;33m\u001b[0m\u001b[1;33m\u001b[0m\u001b[0m\n\u001b[0;32m      4\u001b[0m \u001b[1;31m#遍历竖直区间\u001b[0m\u001b[1;33m\u001b[0m\u001b[1;33m\u001b[0m\u001b[0m\n\u001b[1;32m----> 5\u001b[1;33m \u001b[0mverticalCharPosition\u001b[0m\u001b[1;33m=\u001b[0m\u001b[0mgetVerticalCharPosition\u001b[0m\u001b[1;33m(\u001b[0m\u001b[0mversum\u001b[0m\u001b[1;33m)\u001b[0m\u001b[1;33m\u001b[0m\u001b[0m\n\u001b[0m\u001b[0;32m      6\u001b[0m \u001b[0mhorizontalCharPosition\u001b[0m\u001b[1;33m=\u001b[0m\u001b[0mgetHorizontalCharPosition\u001b[0m\u001b[1;33m(\u001b[0m\u001b[0mhorsum\u001b[0m\u001b[1;33m)\u001b[0m\u001b[1;33m\u001b[0m\u001b[0m\n\u001b[0;32m      7\u001b[0m \u001b[1;31m#从这里我们得到了区间，可以开始切字符了\u001b[0m\u001b[1;33m\u001b[0m\u001b[1;33m\u001b[0m\u001b[0m\n",
      "\u001b[1;32m<ipython-input-10-652ba2982c3b>\u001b[0m in \u001b[0;36mgetVerticalCharPosition\u001b[1;34m(versum)\u001b[0m\n\u001b[0;32m     27\u001b[0m             \u001b[0mj\u001b[0m\u001b[1;33m=\u001b[0m\u001b[1;36m1\u001b[0m \u001b[1;31m#代表这个区间的大小\u001b[0m\u001b[1;33m\u001b[0m\u001b[0m\n\u001b[0;32m     28\u001b[0m             \u001b[0msum\u001b[0m\u001b[1;33m=\u001b[0m\u001b[0mversum\u001b[0m\u001b[1;33m[\u001b[0m\u001b[0mi\u001b[0m\u001b[1;33m]\u001b[0m \u001b[1;31m#代表这整个区间的像素和是多少\u001b[0m\u001b[1;33m\u001b[0m\u001b[0m\n\u001b[1;32m---> 29\u001b[1;33m             \u001b[1;32mwhile\u001b[0m\u001b[1;33m(\u001b[0m\u001b[0mversum\u001b[0m\u001b[1;33m[\u001b[0m\u001b[0mi\u001b[0m\u001b[1;33m+\u001b[0m\u001b[0mj\u001b[0m\u001b[1;33m]\u001b[0m\u001b[1;33m!=\u001b[0m\u001b[1;36m0\u001b[0m\u001b[1;33m)\u001b[0m\u001b[1;33m:\u001b[0m\u001b[1;33m\u001b[0m\u001b[0m\n\u001b[0m\u001b[0;32m     30\u001b[0m                 \u001b[0msum\u001b[0m\u001b[1;33m=\u001b[0m\u001b[0msum\u001b[0m\u001b[1;33m+\u001b[0m\u001b[0mversum\u001b[0m\u001b[1;33m[\u001b[0m\u001b[0mi\u001b[0m\u001b[1;33m+\u001b[0m\u001b[0mj\u001b[0m\u001b[1;33m]\u001b[0m\u001b[1;33m\u001b[0m\u001b[0m\n\u001b[0;32m     31\u001b[0m                 \u001b[0mj\u001b[0m\u001b[1;33m=\u001b[0m\u001b[0mj\u001b[0m\u001b[1;33m+\u001b[0m\u001b[1;36m1\u001b[0m\u001b[1;33m\u001b[0m\u001b[0m\n",
      "\u001b[1;31mIndexError\u001b[0m: list index out of range"
     ]
    }
   ],
   "source": [
    " \n",
    "#开始求出水平和竖直两个方向上的字符的方位\n",
    "#遍历求和数组，找到连续的不为0的一个区间，这个区间就很可能是字符区间，但是总是会有噪声的，去除噪声可以根据区间大小和区间整体像素和来筛选\n",
    "#遍历竖直区间\n",
    "verticalCharPosition=getVerticalCharPosition(versum)\n",
    "horizontalCharPosition=getHorizontalCharPosition(horsum)\n",
    "#从这里我们得到了区间，可以开始切字符了\n",
    "charImages = getCharImages(verticalCharPosition, horizontalCharPosition, RawImageGray)\n",
    "\n",
    "#显示所有字符\n",
    "for i in range(len(charImages)):\n",
    "    cv2.imshow(str(i),charImages[i])\n",
    "cv2.imshow('raw image',ImageThre)\n",
    "cv2.waitKey(0)\n",
    "cv2.destroyAllWindows()"
   ]
  },
  {
   "cell_type": "code",
   "execution_count": 35,
   "metadata": {},
   "outputs": [],
   "source": [
    "v = np.array(versum)"
   ]
  },
  {
   "cell_type": "code",
   "execution_count": 36,
   "metadata": {},
   "outputs": [
    {
     "data": {
      "text/plain": [
       "33047.00690954774"
      ]
     },
     "execution_count": 36,
     "metadata": {},
     "output_type": "execute_result"
    }
   ],
   "source": [
    "v.mean()"
   ]
  },
  {
   "cell_type": "code",
   "execution_count": null,
   "metadata": {},
   "outputs": [],
   "source": []
  }
 ],
 "metadata": {
  "kernelspec": {
   "display_name": "img",
   "language": "python",
   "name": "img"
  },
  "language_info": {
   "codemirror_mode": {
    "name": "ipython",
    "version": 3
   },
   "file_extension": ".py",
   "mimetype": "text/x-python",
   "name": "python",
   "nbconvert_exporter": "python",
   "pygments_lexer": "ipython3",
   "version": "3.5.6"
  }
 },
 "nbformat": 4,
 "nbformat_minor": 2
}
