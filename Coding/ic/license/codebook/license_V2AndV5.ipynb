{
 "cells": [
  {
   "cell_type": "markdown",
   "metadata": {},
   "source": [
    "## 证照识别V2.1\n",
    "1. 由于现在的证照的与原来的证照的图片有点不一样, 上次的的营业执照的图片有一个长方形的图片在外面,可以很好的识别出来这个,\n",
    "2. 现在的营业执照上面也有一个长方形的外框,不过在这个外壳上面有一个国徽.\n",
    "3. 如果和以前一样识别那种长方形的框,这个框会识别不出来.\n",
    "4. 觉得采用新的识别方式,先识别出有字的地方,然后在识别出对应的字\n",
    "5. 参考:https://blog.csdn.net/dcrmg/article/details/52095508\n",
    "6. 步骤如下:\n",
    "    1. 先识别二维码的信息\n",
    "    2. 在识别具体的信息\n",
    "        1. 通过最大池化，保留图片的最大属性\n",
    "        1. 原图像大小调整，提高运算效率\n",
    "        2. 转化为灰度图\n",
    "        3. 高斯平滑滤波\n",
    "        4. 求得水平和垂直方向灰度图像的梯度差,使用Sobel算子\n",
    "        5. 均值滤波，消除高频噪声\n",
    "        6. 二值化\n",
    "        7. 闭运算，填充条形码间隙\n",
    "        8. 腐蚀，去除孤立的点\n",
    "        9. 膨胀，填充条形码间空隙，根据核的大小，有可能需要2~3次膨胀操作\n",
    "        10. 通过findContours找到条形码区域的矩形边界\n"
   ]
  },
  {
   "cell_type": "code",
   "execution_count": 207,
   "metadata": {},
   "outputs": [],
   "source": [
    "import cv2\n",
    "import numpy as np\n",
    "import pyzbar.pyzbar as pz\n",
    "\n",
    "import torch\n",
    "from torch import nn\n",
    "from torchvision import transforms\n",
    "\n",
    "from PIL import Image, ImageChops\n",
    "import matplotlib.pyplot as plt \n",
    "\n",
    "\n",
    "import pytesseract\n",
    "pytesseract.pytesseract.tesseract_cmd = \"C:/Program Files (x86)/Tesseract-OCR/tesseract.exe\"\n",
    "\n",
    "import imutils\n",
    "from imutils.perspective import four_point_transform\n"
   ]
  },
  {
   "cell_type": "code",
   "execution_count": 208,
   "metadata": {},
   "outputs": [],
   "source": [
    "img_url = r\"F:\\PYcode\\Coding\\ic\\license\\source_img\\4.jpg\""
   ]
  },
  {
   "cell_type": "code",
   "execution_count": 209,
   "metadata": {},
   "outputs": [],
   "source": [
    "# 四边形矫正\n",
    "def change_size(image):\n",
    "    # 读取图片\n",
    "    width1, height1 = image.shape[:2]\n",
    "    # 转灰色\n",
    "    gray = cv2.cvtColor(image, cv2.COLOR_BGR2GRAY)\n",
    "    # 高斯滤波\n",
    "    blurred = cv2.GaussianBlur(gray, (5, 5), 0)\n",
    "    # 自适应二值化方法\n",
    "    blurred=cv2.adaptiveThreshold(blurred,255,cv2.ADAPTIVE_THRESH_MEAN_C,cv2.THRESH_BINARY,51,2)\n",
    "    # 找到边框\n",
    "    edged = cv2.Canny(blurred, 10, 100)\n",
    "    # 找到矩阵\n",
    "    cnts = cv2.findContours(edged, cv2.RETR_EXTERNAL,cv2.CHAIN_APPROX_SIMPLE)\n",
    "    cnts = cnts[0] if imutils.is_cv2() else cnts[1]\n",
    "    docCnt = None\n",
    "    \n",
    "    if len(cnts) > 0:\n",
    "#         将轮廓按大小降序排序\n",
    "        cnts = sorted(cnts, key=cv2.contourArea, reverse=True)\n",
    "#         # 对排序后的轮廓循环处理\n",
    "        for c in cnts:\n",
    "#             # 获取近似的轮廓\n",
    "         \n",
    "\n",
    "            peri = cv2.arcLength(c, True)\n",
    "            approx = cv2.approxPolyDP(c, 0.02 * peri, True)\n",
    "            # 如果近似轮廓有四个顶点，那么就认为找到了图片\n",
    "\n",
    "            if len(approx) == 4:\n",
    "                docCnt = approx\n",
    "                break\n",
    "    newimage = image.copy()\n",
    "    for i in docCnt:\n",
    "        #circle函数为在图像上作图，新建了一个图像用来演示四角选取\n",
    "        cv2.circle(newimage, (i[0][0],i[0][1]), 10, (255, 0, 0), -1)\n",
    "    # 使用transform 做映射\n",
    "    paper = four_point_transform(image, docCnt.reshape(4, 2))\n",
    "    outimg = paper[int(paper.shape[0]*0.02):int(paper.shape[0]*0.98), int(paper.shape[1]*0.02):int(paper.shape[1]*0.98)]\n",
    "    \n",
    "    cv2.imwrite(\"resoutlicence.jpg\", outimg)\n",
    "    return outimg"
   ]
  },
  {
   "cell_type": "code",
   "execution_count": 210,
   "metadata": {},
   "outputs": [],
   "source": [
    "def get_contours(img):\n",
    "    # 高斯模糊一下\n",
    "    img_g = cv2.GaussianBlur(img,(25,25), 0)   \n",
    "\n",
    "    # 均值滤波，消除高频噪声 blur\n",
    "\n",
    "#     #  sobelx = cv2.Sobel(frame,cv2.CV_64F,1,0,ksize=5)\n",
    "    imageX = cv2.Sobel(img_g, cv2.CV_64F,1,0,ksize=5)\n",
    "    imageY = cv2.Sobel(img_g, cv2.CV_64F,0,1,ksize=5)\n",
    "    # convertScaleAbs(imageX16S,imageSobelX,1,0);\n",
    "    imageSobelX = cv2.convertScaleAbs(imageX, 1.0)\n",
    "    imageSobelY = cv2.convertScaleAbs(imageY, 1.0)\n",
    "    imageSobelOut = imageSobelX + imageSobelY\n",
    "#     cv2.imwrite(\"bur.jpg\", imageSobelOut)\n",
    "    bur = cv2.blur(imageSobelOut, (25,25))\n",
    "    bur = cv2.cvtColor(bur, cv2.COLOR_BGR2GRAY)\n",
    "#     # 二值化 threshold\n",
    "    retval,threshold = cv2.threshold(bur,125,255,cv2.THRESH_BINARY + cv2.THRESH_OTSU)\n",
    "    \n",
    "#     # 闭运算，\n",
    "    kernel = np.ones((5,5),np.uint8)  \n",
    "    imgc = cv2.morphologyEx(threshold,cv2.MORPH_CLOSE, kernel)\n",
    "    # 腐蚀，去除孤立的点 erode\n",
    "    kernel2 = np.ones((15,15),np.uint8) \n",
    "    imge = cv2.erode(imgc, kernel2, iterations = 2) \n",
    "#     # 膨胀，填充字体之间空隙，根据核的大小，有可能需要2~3次膨胀操作 dilate\n",
    "    imgd = cv2.dilate(imge, kernel, iterations = 9)\n",
    "#     cv2.imwrite(\"imgd.jpg\", imgd)\n",
    "\n",
    "    # 通过findContours找到条形码区域的矩形边界\n",
    "    img, contours, hierarchy = cv2.findContours(imgd,cv2.RETR_EXTERNAL,cv2.CHAIN_APPROX_NONE) \n",
    "    cv2.imwrite(\"img.jpg\", imgd)\n",
    "\n",
    "    return contours"
   ]
  },
  {
   "cell_type": "code",
   "execution_count": 219,
   "metadata": {},
   "outputs": [],
   "source": [
    "# 对数据进行筛选\n",
    "def filter_data(dataes):\n",
    "    xy_sort_data = []\n",
    "    for data in dataes:\n",
    "        rect = cv2.minAreaRect(data)\n",
    "        box = cv2.boxPoints(rect)\n",
    "        x, y, w, h = cv2.boundingRect(box)\n",
    "        if w/h > 0.75:\n",
    "            xy_sort_data.append([x, y, w, h])\n",
    "    xy_sort_data.sort(key = lambda x: x[1])\n",
    "#     xy_sort_data.sort(key = lambda x: x[2])\n",
    "\n",
    "    return xy_sort_data\n",
    "list_data = filter_data(contours)"
   ]
  },
  {
   "cell_type": "code",
   "execution_count": 220,
   "metadata": {},
   "outputs": [],
   "source": [
    "# 读取图片\n",
    "source_img = cv2.imread(img_url, cv2.IMREAD_UNCHANGED)\n",
    "# 改变图片的形状\n",
    "img_changed = change_size(source_img)\n",
    "# 获取到有四边形的点\n",
    "contours = get_contours(img_changed)\n",
    "# 参看有多少个形状\n",
    "list_data = filter_data(contours)"
   ]
  },
  {
   "cell_type": "code",
   "execution_count": 221,
   "metadata": {
    "scrolled": true
   },
   "outputs": [
    {
     "data": {
      "text/plain": [
       "True"
      ]
     },
     "execution_count": 221,
     "metadata": {},
     "output_type": "execute_result"
    }
   ],
   "source": [
    "i =1\n",
    "for x, y, w, h in list_data:\n",
    "    cv2.rectangle(img_changed,(x,y),(x+w,y+h),(i*4,i*3,255-i*3),1) \n",
    "    cv2.putText(img_changed, str(i), (x,y), font, 0.5, (11,0,255), 2, cv2.LINE_AA)\n",
    "    i += 1          \n",
    "cv2.imwrite(\"img_changed.jpg\", img_changed)"
   ]
  },
  {
   "cell_type": "code",
   "execution_count": 216,
   "metadata": {},
   "outputs": [],
   "source": [
    "for contour in contours:\n",
    "    rect = cv2.minAreaRect(contour)\n",
    "    box = cv2.boxPoints(rect)\n",
    "    x, y, w, h = cv2.boundingRect(box)\n",
    "    cv2.rectangle(img_changed,(x,y),(x+w,y+h),(0,0,255),1) \n",
    "    \n",
    "cv2.imwrite(\"img_changed.jpg\", img_changed)\n",
    "cv2.imshow(\"sss\", img_changed)\n",
    "cv2.waitKey(0)\n",
    "cv2.destroyAllWindows()"
   ]
  },
  {
   "cell_type": "code",
   "execution_count": 225,
   "metadata": {
    "scrolled": false
   },
   "outputs": [
    {
     "name": "stdout",
     "output_type": "stream",
     "text": [
      "1\n",
      "平均值为：419.000000\n",
      "方差为：0.000000\n",
      "标准差为:nan\n",
      "********************\n",
      "2\n",
      "平均值为：460.500000\n",
      "方差为：1722.250000\n",
      "标准差为:58.689863\n",
      "********************\n",
      "3\n",
      "平均值为：567.333333\n",
      "方差为：23974.888889\n",
      "标准差为:189.637373\n",
      "********************\n",
      "4\n",
      "平均值为：623.000000\n",
      "方差为：27277.500000\n",
      "标准差为:190.709203\n",
      "********************\n",
      "5\n",
      "平均值为：657.600000\n",
      "方差为：26610.640000\n",
      "标准差为:182.382291\n",
      "********************\n",
      "6\n",
      "平均值为：681.666667\n",
      "方差为：25071.555556\n",
      "标准差为:173.452779\n",
      "********************\n",
      "7\n",
      "平均值为：709.142857\n",
      "方差为：26019.551020\n",
      "标准差为:174.230143\n",
      "********************\n",
      "8\n",
      "平均值为：762.000000\n",
      "方差为：42324.250000\n",
      "标准差为:219.933107\n",
      "********************\n",
      "9\n",
      "平均值为：814.000000\n",
      "方差为：59253.555556\n",
      "标准差为:258.186464\n",
      "********************\n",
      "10\n",
      "平均值为：860.200000\n",
      "方差为：72538.160000\n",
      "标准差为:283.897791\n",
      "********************\n",
      "11\n",
      "平均值为：898.090909\n",
      "方差为：80300.991736\n",
      "标准差为:297.205469\n",
      "********************\n",
      "12\n",
      "平均值为：930.500000\n",
      "方差为：85163.083333\n",
      "标准差为:304.803513\n",
      "********************\n",
      "13\n",
      "平均值为：972.615385\n",
      "方差为：99896.544379\n",
      "标准差为:328.969993\n",
      "********************\n",
      "14\n",
      "平均值为：1009.500000\n",
      "方差为：110447.250000\n",
      "标准差为:344.881418\n",
      "********************\n",
      "15\n",
      "平均值为：1043.800000\n",
      "方差为：119554.960000\n",
      "标准差为:357.903060\n",
      "********************\n",
      "16\n",
      "平均值为：1081.312500\n",
      "方差为：133190.589844\n",
      "标准差为:376.921693\n",
      "********************\n",
      "17\n",
      "平均值为：1115.117647\n",
      "方差为：143640.456747\n",
      "标准差为:390.663519\n",
      "********************\n",
      "18\n",
      "平均值为：1146.055556\n",
      "方差为：151932.052469\n",
      "标准差为:401.085068\n",
      "********************\n",
      "19\n",
      "平均值为：1180.526316\n",
      "方差为：165323.828255\n",
      "标准差为:417.742128\n",
      "********************\n",
      "20\n",
      "平均值为：1212.300000\n",
      "方差为：176239.410000\n",
      "标准差为:430.714718\n",
      "********************\n",
      "21\n",
      "平均值为：1241.809524\n",
      "方差为：185263.297052\n",
      "标准差为:441.051541\n",
      "********************\n",
      "22\n",
      "平均值为：1274.681818\n",
      "方差为：199534.580579\n",
      "标准差为:457.204798\n",
      "********************\n",
      "23\n",
      "平均值为：1305.913043\n",
      "方差为：212317.731569\n",
      "标准差为:471.135371\n",
      "********************\n",
      "24\n",
      "平均值为：1340.291667\n",
      "方差为：230654.623264\n",
      "标准差为:490.594624\n",
      "********************\n",
      "25\n",
      "平均值为：1371.920000\n",
      "方差为：245436.873600\n",
      "标准差为:505.631694\n",
      "********************\n",
      "26\n",
      "平均值为：1401.192308\n",
      "方差为：257418.693787\n",
      "标准差为:517.412255\n",
      "********************\n",
      "27\n",
      "平均值为：1428.666667\n",
      "方差为：267510.518519\n",
      "标准差为:527.066774\n",
      "********************\n",
      "28\n",
      "平均值为：1454.607143\n",
      "方差为：276125.095663\n",
      "标准差为:535.118633\n",
      "********************\n",
      "29\n",
      "平均值为：1483.310345\n",
      "方差为：289672.007134\n",
      "标准差为:547.738474\n",
      "********************\n",
      "30\n",
      "平均值为：1510.466667\n",
      "方差为：301402.782222\n",
      "标准差为:558.386946\n",
      "********************\n",
      "31\n",
      "平均值为：1535.903226\n",
      "方差为：311090.668054\n",
      "标准差为:566.974741\n",
      "********************\n",
      "32\n",
      "平均值为：1560.031250\n",
      "方差为：319416.092773\n",
      "标准差为:574.212363\n",
      "********************\n",
      "33\n",
      "平均值为：1583.060606\n",
      "方差为：326708.056933\n",
      "标准差为:580.446108\n",
      "********************\n",
      "34\n",
      "平均值为：1608.794118\n",
      "方差为：338952.045848\n",
      "标准差为:590.951199\n",
      "********************\n",
      "35\n",
      "平均值为：1633.200000\n",
      "方差为：349519.702857\n",
      "标准差为:599.833055\n",
      "********************\n",
      "36\n",
      "平均值为：1656.444444\n",
      "方差为：358721.469136\n",
      "标准差为:607.429547\n",
      "********************\n",
      "37\n",
      "平均值为：1678.810811\n",
      "方差为：367035.450694\n",
      "标准差为:614.191240\n",
      "********************\n",
      "38\n",
      "平均值为：1700.000000\n",
      "方差为：373988.947368\n",
      "标准差为:619.755401\n",
      "********************\n",
      "39\n",
      "平均值为：1722.897436\n",
      "方差为：384322.604865\n",
      "标准差为:628.041685\n",
      "********************\n",
      "40\n",
      "平均值为：1745.475000\n",
      "方差为：394594.649375\n",
      "标准差为:636.170151\n",
      "********************\n",
      "41\n",
      "平均值为：1766.975610\n",
      "方差为：403461.438430\n",
      "标准差为:643.076958\n",
      "********************\n",
      "42\n",
      "平均值为：1787.452381\n",
      "方差为：411046.438209\n",
      "标准差为:648.900579\n",
      "********************\n",
      "43\n",
      "平均值为：1807.023256\n",
      "方差为：417574.022715\n",
      "标准差为:653.847277\n",
      "********************\n",
      "44\n",
      "平均值为：1825.772727\n",
      "方差为：423200.039256\n",
      "标准差为:658.059192\n",
      "********************\n",
      "45\n",
      "平均值为：1843.777778\n",
      "方差为：428059.595062\n",
      "标准差为:661.655667\n",
      "********************\n",
      "46\n",
      "平均值为：1870.391304\n",
      "方差为：450626.542533\n",
      "标准差为:678.704992\n",
      "********************\n",
      "47\n",
      "平均值为：1902.680851\n",
      "方差为：488999.025804\n",
      "标准差为:706.844707\n",
      "********************\n",
      "48\n",
      "平均值为：1936.479167\n",
      "方差为：532500.874566\n",
      "标准差为:737.448765\n",
      "********************\n",
      "49\n",
      "平均值为：1969.020408\n",
      "方差为：572462.264890\n",
      "标准差为:764.453113\n",
      "********************\n",
      "50\n",
      "平均值为：2000.280000\n",
      "方差为：608893.961600\n",
      "标准差为:788.238777\n",
      "********************\n",
      "51\n",
      "平均值为：2030.352941\n",
      "方差为：642173.953864\n",
      "标准差为:809.331473\n",
      "********************\n",
      "52\n",
      "平均值为：2061.346154\n",
      "方差为：678813.995562\n",
      "标准差为:831.939946\n",
      "********************\n",
      "53\n",
      "平均值为：2092.566038\n",
      "方差为：716689.604130\n",
      "标准差为:854.676603\n",
      "********************\n"
     ]
    }
   ],
   "source": [
    "i =1\n",
    "xlist = []\n",
    "for x, y, w, h in list_data:\n",
    "    xlist.append(y)\n",
    "    arr_mean = np.mean(xlist)\n",
    "    arr_var = np.var(xlist)\n",
    "    arr_std = np.std(xlist,ddof=1)\n",
    "    print(i)\n",
    "\n",
    "    print(\"平均值为：%f\" % arr_mean)\n",
    "    print(\"方差为：%f\" % arr_var)\n",
    "    print(\"标准差为:%f\" % arr_std)\n",
    "    print(\"*\"*20)\n",
    "#     cv2.rectangle(img_changed,(x,y),(x+w,y+h),(i*4,i*3,255-i*3),1) \n",
    "#     cv2.putText(img_changed, str(i), (x,y), font, 0.5, (11,0,255), 2, cv2.LINE_AA)\n",
    "    i += 1"
   ]
  },
  {
   "cell_type": "code",
   "execution_count": null,
   "metadata": {},
   "outputs": [],
   "source": []
  },
  {
   "cell_type": "markdown",
   "metadata": {},
   "source": [
    "import numpy as np\n",
    "arr = [1,2,3,4,5,6]\n",
    "#求均值\n",
    "arr_mean = np.mean(arr)\n",
    "#求方差\n",
    "arr_var = np.var(arr)\n",
    "#求标准差\n",
    "arr_std = np.std(arr,ddof=1)\n",
    "print(\"平均值为：%f\" % arr_mean)\n",
    "print(\"方差为：%f\" % arr_var)\n",
    "print(\"标准差为:%f\" % arr_std)"
   ]
  },
  {
   "cell_type": "markdown",
   "metadata": {},
   "source": [
    "# 123\n"
   ]
  },
  {
   "cell_type": "code",
   "execution_count": 145,
   "metadata": {},
   "outputs": [],
   "source": [
    "img_g = cv2.cvtColor(img_changed, cv2.COLOR_BGR2GRAY)\n",
    "#     retval,threshold = cv2.threshold(img_g,125,255,cv2.THRESH_BINARY + cv2.THRESH_OTSU)\n",
    "threshold = cv2.adaptiveThreshold(img_g, 255, cv2.ADAPTIVE_THRESH_MEAN_C, cv2.THRESH_BINARY, 111, 1)\n",
    "img_g = cv2.medianBlur(threshold,ksize =7)\n",
    "# img_g = cv2.Laplacian(img_g, cv2.CV_64F)\n",
    "img_g = cv2.medianBlur(img_g,ksize =7)"
   ]
  },
  {
   "cell_type": "code",
   "execution_count": 161,
   "metadata": {},
   "outputs": [
    {
     "data": {
      "text/plain": [
       "True"
      ]
     },
     "execution_count": 161,
     "metadata": {},
     "output_type": "execute_result"
    }
   ],
   "source": [
    "# cv2.imshow(\"sss\", img_g)\n",
    "# cv2.waitKey(0)\n",
    "# cv2.destroyAllWindows()\n",
    "\n",
    "cv2.imwrite(\"img_changed.jpg\", img_changed)"
   ]
  },
  {
   "cell_type": "code",
   "execution_count": 79,
   "metadata": {},
   "outputs": [
    {
     "name": "stdout",
     "output_type": "stream",
     "text": [
      "1269\n",
      "********************\n"
     ]
    },
    {
     "data": {
      "text/plain": [
       "True"
      ]
     },
     "execution_count": 79,
     "metadata": {},
     "output_type": "execute_result"
    }
   ],
   "source": [
    "# 使用原始图片的大小做一个判断\n",
    "area = int(img_changed.shape[0]*img_changed.shape[1] / 10000)\n",
    "font = cv2.FONT_HERSHEY_SIMPLEX \n",
    "\n",
    "print(area)\n",
    "print(\"*\"*20)\n",
    "\n",
    "xy_sort_list = []\n",
    "box_list = []\n",
    "i = 1\n",
    "rect = cv2.minAreaRect(contour)\n",
    "box = cv2.boxPoints(rect)\n",
    "x, y, w, h = cv2.boundingRect(box)\n",
    "\n",
    "\n",
    "for contour in contours:\n",
    "#     rect = cv2.minAreaRect(contour)\n",
    "#     print(rect)\n",
    "#     if cv2.contourArea(contour) > area:\n",
    "        \n",
    "    x, y, w, h = cv2.boundingRect(contour)\n",
    "#         if w/h> 0.75:\n",
    "    xy_sort_list.append([x, y, w, h])\n",
    "    cv2.rectangle(img_changed,(x,y),(x+w,y+h),(i*4,i*3,255-i*3),1) \n",
    "\n",
    "# xy_sort_list.sort(key = lambda x:x[1])\n",
    "        \n",
    "# for x, y, w, h in xy_sort_list:\n",
    "#     cv2.rectangle(img_changed,(x,y),(x+w,y+h),(i*4,i*3,255-i*3),1) \n",
    "    cv2.putText(img_changed, str(i), (x,y), font, 0.5, (11,0,255), 2, cv2.LINE_AA)\n",
    "    i += 1          \n",
    "cv2.imwrite(\"img_changed.jpg\", img_changed)\n",
    "# for i in range(len(contours)):\n",
    "#     print(cv2.contourArea(contours[i]))\n",
    "#     x, y, w, h = cv2.boundingRect(contours[i])\n",
    "#     print(w*h)\n",
    "#     print(\"*\"*20)\n",
    "\n",
    "# i = 1\n",
    "\n",
    "    \n",
    "# for i in range(len(xy_sort_list)-1):\n",
    "#     x, y, w, h = xy_sort_list[i]\n",
    "#     x_1, y_1, w_1, h_1 = xy_sort_list[i+1]\n",
    "#     if w/h > 0.75:\n",
    "#         print(((y_1 - y)**2 +(x_1 -x)**2)**0.5)\n",
    "    "
   ]
  },
  {
   "cell_type": "code",
   "execution_count": 50,
   "metadata": {},
   "outputs": [],
   "source": [
    "cv2.imshow(\"sss\", img_changed)\n",
    "cv2.waitKey(0)\n",
    "cv2.destroyAllWindows()\n",
    "\n",
    "# cv2.imwrite(\"finish.jpg\", img1)"
   ]
  },
  {
   "cell_type": "code",
   "execution_count": null,
   "metadata": {},
   "outputs": [],
   "source": []
  },
  {
   "cell_type": "code",
   "execution_count": 53,
   "metadata": {},
   "outputs": [],
   "source": [
    "# 识别时候用的图片\n",
    "img2 = cv2.cvtColor(img1, cv2.COLOR_BGR2GRAY)\n",
    "_, img3 = cv2.threshold(img2,125,255, cv2.THRESH_BINARY)\n",
    "# img3 = cv2.morphologyEx(threshold,cv2.MORPH_CLOSE, (3,3))\n",
    "# img3 = cv2.erode(img3, (5,5), iterations = 2) \n",
    "# img3 = cv2.dilate(imge, (3,3), iterations = 5)"
   ]
  },
  {
   "cell_type": "code",
   "execution_count": 54,
   "metadata": {},
   "outputs": [
    {
     "name": "stdout",
     "output_type": "stream",
     "text": [
      "统一社会信用代码：91510100MA63DEFJ00\r\n",
      "企业注册号：510109001599590\r\n",
      "名称：成都西辰易督科技有限公司\r\n",
      "登记机关：成都市高新工商行政管理局\r\n",
      "登记日期：2019-01-23\r\n",
      "企业信用信息公示系统网址：http://www.cdgs.gov.cn  http://gsxt.cdcredit.gov.cn\n",
      "Rect(left=928, top=3282, width=372, height=374)\n",
      "[Point(x=928, y=3649), Point(x=1295, y=3656), Point(x=1300, y=3287), Point(x=935, y=3282)]\n"
     ]
    }
   ],
   "source": [
    "if pz.decode(img1):    \n",
    "    for i in pz.decode(img1):\n",
    "        print(i.data.decode('utf-8'))\n",
    "        print(i.rect)\n",
    "        print(i.polygon)"
   ]
  },
  {
   "cell_type": "markdown",
   "metadata": {},
   "source": [
    "# 结束"
   ]
  },
  {
   "cell_type": "code",
   "execution_count": null,
   "metadata": {},
   "outputs": [],
   "source": []
  },
  {
   "cell_type": "code",
   "execution_count": null,
   "metadata": {},
   "outputs": [],
   "source": []
  },
  {
   "cell_type": "code",
   "execution_count": null,
   "metadata": {},
   "outputs": [],
   "source": []
  },
  {
   "cell_type": "code",
   "execution_count": null,
   "metadata": {},
   "outputs": [],
   "source": []
  },
  {
   "cell_type": "code",
   "execution_count": 73,
   "metadata": {},
   "outputs": [],
   "source": [
    "# 图片转灰色\n",
    "img1= cv2.imread(source_img)\n",
    "# img = cv2.cvtColor(img1, cv2.COLOR_RGB2GRAY)"
   ]
  },
  {
   "cell_type": "code",
   "execution_count": 75,
   "metadata": {},
   "outputs": [],
   "source": [
    "img1 = change_size(img1)"
   ]
  },
  {
   "cell_type": "code",
   "execution_count": 76,
   "metadata": {},
   "outputs": [],
   "source": [
    "# 高斯平滑滤波\n",
    "img = cv2.GaussianBlur(img1,(25,25), 0)\n",
    "# bur = cv2.blur(img, (7,7))"
   ]
  },
  {
   "cell_type": "code",
   "execution_count": 77,
   "metadata": {},
   "outputs": [],
   "source": [
    "# 求得水平和垂直方向灰度图像的梯度差,使用Sobel算子\n",
    "#  sobelx = cv2.Sobel(frame,cv2.CV_64F,1,0,ksize=5)\n",
    "imageX = cv2.Sobel(img, cv2.CV_64F,1,0,ksize=5)\n",
    "imageY = cv2.Sobel(img, cv2.CV_64F,0,1,ksize=5)\n",
    "# convertScaleAbs(imageX16S,imageSobelX,1,0);\n",
    "imageSobelX = cv2.convertScaleAbs(imageX, 1.0)\n",
    "imageSobelY = cv2.convertScaleAbs(imageY, 1.0)\n",
    "imageSobelOut = imageSobelX + imageSobelY\n",
    "# 相减不成功，相加成功"
   ]
  },
  {
   "cell_type": "code",
   "execution_count": 78,
   "metadata": {},
   "outputs": [],
   "source": [
    "# 均值滤波，消除高频噪声 blur\n",
    "bur = cv2.blur(imageSobelOut, (25,25))\n",
    "bur = cv2.cvtColor(bur, cv2.COLOR_BGR2GRAY)"
   ]
  },
  {
   "cell_type": "code",
   "execution_count": 79,
   "metadata": {},
   "outputs": [],
   "source": [
    "# 二值化 threshold\n",
    "retval,threshold = cv2.threshold(bur,125,255,cv2.THRESH_BINARY + cv2.THRESH_OTSU)"
   ]
  },
  {
   "cell_type": "code",
   "execution_count": 80,
   "metadata": {},
   "outputs": [],
   "source": [
    "# 闭运算，\n",
    "kernel1 = np.ones((5,5),np.uint8)  \n",
    "imgc = cv2.morphologyEx(threshold,cv2.MORPH_CLOSE, kernel1)"
   ]
  },
  {
   "cell_type": "code",
   "execution_count": 81,
   "metadata": {},
   "outputs": [],
   "source": [
    "# 腐蚀，去除孤立的点 erode\n",
    "kernel2 = np.ones((15,15),np.uint8) \n",
    "imge = cv2.erode(imgc, kernel2, iterations = 2) "
   ]
  },
  {
   "cell_type": "code",
   "execution_count": 82,
   "metadata": {},
   "outputs": [],
   "source": [
    "# 膨胀，填充条形码间空隙，根据核的大小，有可能需要2~3次膨胀操作 dilate\n",
    "imgd = cv2.dilate(imge, kernel1, iterations = 9)"
   ]
  },
  {
   "cell_type": "code",
   "execution_count": 83,
   "metadata": {},
   "outputs": [],
   "source": [
    "# 通过findContours找到条形码区域的矩形边界\n",
    "# contours, hierarchy = cv2.findContours(imgd, cv2.RETR_EXTERNAL, cv2.CHAIN_APPROX_NONE)\n",
    "_, contours, hierarchy = cv2.findContours(imgd,cv2.RETR_EXTERNAL,cv2.CHAIN_APPROX_NONE) "
   ]
  },
  {
   "cell_type": "code",
   "execution_count": 102,
   "metadata": {},
   "outputs": [],
   "source": [
    "box_list = []\n",
    "xy_list = []\n",
    "area = int(img1.shape[0]*img1.shape[1]/900)\n",
    "i = 1\n",
    "for contour in contours:\n",
    "    if cv2.contourArea(contour) > area:\n",
    "        x, y, w, h = cv2.boundingRect(box)\n",
    "        rect = cv2.minAreaRect(contour)\n",
    "        box = cv2.boxPoints(rect)\n",
    "        box = np.int0(box)\n",
    "#         cv2.drawContours(img1, [box], 0, (0, 0, 255), 1)\n",
    "        box_list.append(box)\n",
    "        x, y, w, h = cv2.boundingRect(box)\n",
    "        xy_list.append([x, y, w, h])\n",
    "        resout = pytesseract.image_to_string(img1[ y:(y+h), x:(x+w)], lang='chi_sim')\n",
    "#         if resout:\n",
    "        cv2.imwrite(r\"img_re\\aa%s.jpg\"%(i), img1[ y:(y+h), x:(x+w)])\n",
    "#         print(\"img%s\"%(i), resout)\n",
    "        cv2.imwrite(r\"img_re\\change.jpg\", img1)\n",
    "        \n",
    "    else:\n",
    "        continue\n",
    "    i += 1"
   ]
  },
  {
   "cell_type": "code",
   "execution_count": 105,
   "metadata": {},
   "outputs": [
    {
     "name": "stdout",
     "output_type": "stream",
     "text": [
      "208.25465180878913\n",
      "103.1746092796091\n",
      "882.0459171721163\n",
      "434.07372645669307\n",
      "884.0361983538909\n",
      "771.0045395456501\n",
      "269.6405014088203\n",
      "97.082439194738\n",
      "1495.707524885798\n",
      "158.00316452527144\n",
      "541.1561696959576\n",
      "1421.48689758295\n",
      "431.14034837857616\n",
      "176.91240770505613\n",
      "1592.9601376054582\n",
      "434.1658669218482\n",
      "169.85287751463028\n",
      "616.4357225210103\n",
      "433.2597373400856\n",
      "176.13914953808538\n",
      "618.4698860898565\n",
      "595.4838368923207\n",
      "613.7165469498113\n",
      "140.00357138301865\n",
      "149.00335566691106\n",
      "145.34441853748632\n",
      "184.53184007102948\n",
      "643.4757182675971\n",
      "439.11388044560834\n",
      "283.0017667789373\n",
      "159.31415505221122\n",
      "286.29530209208815\n",
      "613.4924612413749\n",
      "288.0433995077825\n",
      "156.1569723067145\n",
      "295.28630174798155\n",
      "445.0280890011326\n",
      "1591.4072388926727\n",
      "2118.2570665525936\n",
      "143.0034964607509\n",
      "289.0069203323685\n",
      "2263.0019885099528\n",
      "1666.000300120021\n",
      "154.02921800749363\n",
      "1802.7792432796646\n",
      "1514.6233855318621\n",
      "573.4003836761883\n",
      "135.1332675546625\n",
      "267.00187265260894\n",
      "138.01449199268893\n",
      "1473.3397435757986\n",
      "1573.513584307425\n"
     ]
    }
   ],
   "source": [
    "box_list = []\n",
    "xy_list = []\n",
    "area = int(img1.shape[0]*img1.shape[1]/900)\n",
    "i = 1\n",
    "for contour in contours:\n",
    "    x, y, w, h = cv2.boundingRect(contour)\n",
    "    xy_list.append([x, y, w, h])\n",
    "    xy_list.sort(key = lambda x:x[1])\n",
    "    \n",
    "for i in range(len(xy_list)-1):\n",
    "    x, y, w, h = xy_list[i]\n",
    "    x_1, y_1, w_1, h_1 = xy_list[i+1]\n",
    "    if w/h > 0.75:\n",
    "        print(((y_1 - y)**2 +(x_1 -x)**2)**0.5 )\n",
    "    \n",
    "    \n",
    "#     if cv2.contourArea(contour) > area:\n",
    "#         print(cv2.contourArea(contour))\n",
    "#         rect = cv2.minAreaRect(contour)\n",
    "#         box = cv2.boxPoints(rect)\n",
    "#         x, y, w, h = cv2.boundingRect(box)\n",
    "#         xy_list.append([x, y, w, h])\n",
    "#         xy_list.sort(key = lambda x:x[1])\n",
    "        \n",
    "#         if w/h >= 0.75:\n",
    "#             print(w)\n",
    "        \n",
    "# #             rect = cv2.minAreaRect(contour)\n",
    "# #             box = cv2.boxPoints(rect)\n",
    "# #             box = np.int0(box)\n",
    "# #     #         cv2.drawContours(img1, [box], 0, (0, 0, 255), 1)\n",
    "# #             box_list.append(box)\n",
    "#             x, y, w, h = cv2.boundingRect(box)\n",
    "#             xy_list.append([x, y, w, h])\n",
    "#             resout = pytesseract.image_to_string(img1[ y:(y+h), x:(x+w)], lang='chi_sim')\n",
    "#     #         if resout:\n",
    "#             cv2.imwrite(r\"img_re\\aa%s.jpg\"%(i), img1[ y:(y+h), x:(x+w)])\n",
    "#             print(\"img%s\"%(i), resout)\n",
    "#             cv2.imwrite(r\"img_re\\change.jpg\", img1)\n",
    "        \n",
    "#     else:\n",
    "#         continue\n",
    "#     i += 1"
   ]
  },
  {
   "cell_type": "code",
   "execution_count": 93,
   "metadata": {
    "scrolled": false
   },
   "outputs": [],
   "source": [
    "xy_list.sort(key = lambda x:x[1])\n",
    "font = cv2.FONT_HERSHEY_SIMPLEX \n",
    "for i in range(len(xy_list)):\n",
    "    x,y,w,h = xy_list[i]\n",
    "#     x_1,y_1,w_1,h_1 = xy_list[i+1]\n",
    "    if w/h >= 0.75:\n",
    "        \n",
    "\n",
    "#     cv2.rectangle(img1,(xy_list[i][0], xy_list[i][1]),(xy_list[i][0]+xy_list[i][2],xy_list[i][1]+xy_list[i][3]),(i*4,i*3,255-i*3),1)\n",
    "    \n",
    "        cv2.rectangle(img1,(x,y),(x+w,y+h),(i*4,i*3,255-i*3),1) \n",
    "\n",
    "        cv2.putText(img1, str(i), (x,y), font, 0.5, (11,0,255), 2, cv2.LINE_AA)\n",
    "#     print(i*4,i*3,255-i*2)\n",
    "    \n"
   ]
  },
  {
   "cell_type": "code",
   "execution_count": 94,
   "metadata": {},
   "outputs": [],
   "source": [
    "cv2.imshow(\"sss\", img1)\n",
    "cv2.waitKey(0)\n",
    "cv2.destroyAllWindows()"
   ]
  },
  {
   "cell_type": "code",
   "execution_count": 95,
   "metadata": {
    "scrolled": true
   },
   "outputs": [
    {
     "data": {
      "text/plain": [
       "True"
      ]
     },
     "execution_count": 95,
     "metadata": {},
     "output_type": "execute_result"
    }
   ],
   "source": [
    "cv2.imwrite(\"finish.jpg\", img1)"
   ]
  },
  {
   "cell_type": "code",
   "execution_count": 103,
   "metadata": {},
   "outputs": [
    {
     "data": {
      "text/plain": [
       "[[1955, 3716, 171, 81],\n",
       " [383, 3647, 1100, 155],\n",
       " [1852, 3534, 107, 103],\n",
       " [1990, 3532, 102, 104],\n",
       " [1723, 3531, 101, 101],\n",
       " [1588, 3525, 103, 102],\n",
       " [2146, 3393, 478, 447],\n",
       " [666, 3071, 406, 397],\n",
       " [2767, 2737, 115, 158],\n",
       " [2826, 2689, 59, 92],\n",
       " [1024, 2636, 100, 109],\n",
       " [1178, 2633, 1562, 263],\n",
       " [2844, 2632, 43, 46],\n",
       " [581, 2629, 124, 112],\n",
       " [870, 2627, 119, 123],\n",
       " [727, 2626, 123, 120],\n",
       " [2845, 2593, 37, 37],\n",
       " [2767, 2525, 46, 191],\n",
       " [1176, 2489, 700, 95],\n",
       " [731, 2484, 112, 92],\n",
       " [1026, 2471, 105, 117],\n",
       " [870, 2464, 114, 124],\n",
       " [582, 2459, 121, 127],\n",
       " [1180, 2322, 477, 85],\n",
       " [894, 2309, 82, 102],\n",
       " [735, 2299, 107, 106],\n",
       " [1018, 2298, 112, 121],\n",
       " [579, 2288, 128, 124],\n",
       " [1209, 2157, 574, 90],\n",
       " [1025, 2143, 111, 103],\n",
       " [880, 2133, 114, 118],\n",
       " [731, 2132, 123, 117],\n",
       " [591, 2131, 116, 114],\n",
       " [1189, 1993, 148, 87],\n",
       " [594, 1969, 544, 122],\n",
       " [1198, 1836, 1143, 98],\n",
       " [1023, 1816, 117, 115],\n",
       " [590, 1801, 119, 124],\n",
       " [1193, 1673, 1484, 98],\n",
       " [1024, 1656, 114, 108],\n",
       " [590, 1644, 121, 122],\n",
       " [2788, 1605, 54, 79],\n",
       " [1197, 1526, 881, 94],\n",
       " [1024, 1489, 124, 119],\n",
       " [593, 1478, 107, 118],\n",
       " [2002, 1290, 695, 80],\n",
       " [1461, 1277, 513, 103],\n",
       " [1303, 1276, 110, 100],\n",
       " [2798, 1230, 37, 41],\n",
       " [2802, 1133, 113, 80],\n",
       " [2877, 874, 41, 44],\n",
       " [2109, 806, 300, 350],\n",
       " [1225, 798, 289, 335],\n",
       " [1659, 790, 307, 367],\n",
       " [777, 781, 291, 361],\n",
       " [2876, 559, 42, 73],\n",
       " [2790, 502, 48, 45],\n",
       " [2599, 419, 231, 119],\n",
       " [216, 91, 2666, 3998]]"
      ]
     },
     "execution_count": 103,
     "metadata": {},
     "output_type": "execute_result"
    }
   ],
   "source": []
  },
  {
   "cell_type": "code",
   "execution_count": 45,
   "metadata": {},
   "outputs": [
    {
     "data": {
      "text/plain": [
       "array([[1989, 3640],\n",
       "       [1989, 3532],\n",
       "       [2091, 3532],\n",
       "       [2091, 3640]], dtype=int64)"
      ]
     },
     "execution_count": 45,
     "metadata": {},
     "output_type": "execute_result"
    }
   ],
   "source": [
    "box_list[2]"
   ]
  },
  {
   "cell_type": "code",
   "execution_count": 46,
   "metadata": {},
   "outputs": [],
   "source": [
    "img2gray = cv2.cvtColor(img1, cv2.COLOR_BGR2GRAY)\n",
    "\n",
    "imageVar = cv2.Laplacian(img2gray, cv2.CV_64F).var()\n",
    "cv2.imshow('imageVar',imageVar)\n",
    "cv2.waitKey(0)\n",
    "cv2.destroyAllWindows()"
   ]
  },
  {
   "cell_type": "code",
   "execution_count": null,
   "metadata": {},
   "outputs": [],
   "source": []
  },
  {
   "cell_type": "code",
   "execution_count": 47,
   "metadata": {},
   "outputs": [
    {
     "data": {
      "text/plain": [
       "(382, 3642, 1102, 165)"
      ]
     },
     "execution_count": 47,
     "metadata": {},
     "output_type": "execute_result"
    }
   ],
   "source": [
    "x, y, w, h = cv2.boundingRect(box_list[1])\n",
    "x, y, w, h"
   ]
  },
  {
   "cell_type": "code",
   "execution_count": 48,
   "metadata": {},
   "outputs": [],
   "source": [
    "resout = pytesseract.image_to_string(img1[y:(y+h),x:(x+w)])"
   ]
  },
  {
   "cell_type": "code",
   "execution_count": 49,
   "metadata": {},
   "outputs": [],
   "source": [
    "imgxx = img1[860:1250, 900:2700]"
   ]
  },
  {
   "cell_type": "code",
   "execution_count": 50,
   "metadata": {},
   "outputs": [],
   "source": [
    "# equ = cv2.equalizeHist(imgg) # 只能传入灰度图\n",
    "# res = np.hstack((imgg,equ))  # 图像列拼接（用于显示）\n",
    "cv2.imshow('img',img)\n",
    "cv2.waitKey(0)\n",
    "cv2.destroyAllWindows()"
   ]
  },
  {
   "cell_type": "markdown",
   "metadata": {},
   "source": [
    "### 结束\n",
    "------\n",
    "***\n"
   ]
  },
  {
   "cell_type": "code",
   "execution_count": null,
   "metadata": {},
   "outputs": [],
   "source": [
    "clahe = cv2.createCLAHE(clipLimit=2.0, tileGridSize=(8,8))\n",
    "cl1 = clahe.apply(imgg)\n",
    "\n",
    "cv2.imshow('img',imgg)\n",
    "cv2.imshow('cl1',cl1)\n",
    "cv2.waitKey(0)\n",
    "cv2.destroyAllWindows()\n"
   ]
  },
  {
   "cell_type": "code",
   "execution_count": null,
   "metadata": {},
   "outputs": [],
   "source": [
    "import numpy as np\n",
    "import cv2\n",
    " \n",
    "def ComputeHist(img):\n",
    "    h,w = img.shape\n",
    "    hist, bin_edge = np.histogram(img.reshape(1,w*h), bins=list(range(257)))\n",
    "    return hist\n",
    "    \n",
    "def ComputeMinLevel(hist, rate, pnum):\n",
    "    sum = 0\n",
    "    for i in range(256):\n",
    "        sum += hist[i]\n",
    "        if (sum >= (pnum * rate * 0.01)):\n",
    "            return i\n",
    "            \n",
    "def ComputeMaxLevel(hist, rate, pnum):\n",
    "    sum = 0\n",
    "    for i in range(256):\n",
    "        sum += hist[255-i]\n",
    "        if (sum >= (pnum * rate * 0.01)):\n",
    "            return 255-i\n",
    "            \n",
    "def LinearMap(minlevel, maxlevel):\n",
    "    if (minlevel >= maxlevel):\n",
    "        return []\n",
    "    else:\n",
    "        newmap = np.zeros(256)\n",
    "        for i in range(256):    #获取阈值外的像素值 i< minlevel，i> maxlevel\n",
    "            if (i < minlevel):\n",
    "                newmap[i] = 0\n",
    "            elif (i > maxlevel):\n",
    "                newmap[i] = 255\n",
    "            else:\n",
    "                newmap[i] = (i-minlevel)/(maxlevel-minlevel) * 255\n",
    "        return newmap\n",
    "        \n",
    "def CreateNewImg(img):\n",
    "    h,w,d = img.shape\n",
    "    newimg = np.zeros([h,w,d])\n",
    "    for i in range(d):\n",
    "        imgmin = np.min(img[:,:,i])\n",
    "        imgmax = np.max(img[:,:,i])\n",
    "        imghist = ComputeHist(img[:,:,i])\n",
    "        minlevel = ComputeMinLevel(imghist, 8.3, h*w)\n",
    "        maxlevel = ComputeMaxLevel(imghist, 2.2, h*w)\n",
    "        newmap = LinearMap(minlevel,maxlevel)\n",
    "        if (newmap.size ==0 ):\n",
    "            continue\n",
    "        for j in range(h):\n",
    "            newimg[j,:,i] = newmap[img[j,:, i]]\n",
    "    return newimg\n",
    "\n",
    "\n",
    "if __name__ == '__main__':\n",
    "    img1 = cv2.imread(r\"F:\\PYcode\\Coding\\ic\\license\\source_img\\6.jpg\")\n",
    "    img = cv2.resize(img1,(563,750))    \n",
    "    newimg = CreateNewImg(img)\n",
    "    cv2.imshow('original_img', img)\n",
    "    cv2.imshow('new_img', newimg/255)\n",
    "    cv2.waitKey(0)\n",
    "    cv2.destroyAllWindows()\n"
   ]
  },
  {
   "cell_type": "code",
   "execution_count": null,
   "metadata": {},
   "outputs": [],
   "source": [
    "imga  = cv2.imread(r'F:\\PYcode\\faceinfo\\tree.jpg')\n",
    "B,G,R = cv2.split(imga)"
   ]
  },
  {
   "cell_type": "code",
   "execution_count": null,
   "metadata": {},
   "outputs": [],
   "source": [
    "mb = B.mean()\n",
    "mg = G.mean()\n",
    "mr = R.mean()\n",
    "kb = (mb + mg + mr) / (3 * mb)\n",
    "kg = (mb + mg + mr) / (3 * mg)\n",
    "kr = (mb + mg + mr) / (3 * mr)\n",
    "B = B * kb\n",
    "G = G * kg\n",
    "R = R * kr"
   ]
  },
  {
   "cell_type": "code",
   "execution_count": null,
   "metadata": {},
   "outputs": [],
   "source": [
    "new_img = cv2.merge([R,G,B])"
   ]
  },
  {
   "cell_type": "code",
   "execution_count": 61,
   "metadata": {},
   "outputs": [],
   "source": []
  },
  {
   "cell_type": "code",
   "execution_count": null,
   "metadata": {},
   "outputs": [],
   "source": [
    "import cv2\n",
    "import numpy as np\n",
    "from matplotlib import pyplot as plt\n",
    "\n",
    "img = cv2.imread(r\"F:\\PYcode\\Coding\\ic\\license\\source_img\\6.jpg\",0)\n",
    "# img = cv2.resize(img,(563,750))\n",
    "\n",
    "img = cv2.medianBlur(img,5)\n",
    "\n",
    "ret,th1 = cv2.threshold(img,127,255,cv2.THRESH_BINARY)\n",
    "th2 = cv2.adaptiveThreshold(img,255,cv2.ADAPTIVE_THRESH_MEAN_C,\\\n",
    "            cv2.THRESH_BINARY,11,2)\n",
    "th3 = cv2.adaptiveThreshold(img,255,cv2.ADAPTIVE_THRESH_GAUSSIAN_C,\\\n",
    "            cv2.THRESH_BINARY,11,2)\n",
    "\n",
    "titles = ['Original Image', 'Global Thresholding (v = 127)',\n",
    "            'Adaptive Mean Thresholding', 'Adaptive Gaussian Thresholding']\n",
    "images = [img, th1, th2, th3]\n",
    "\n",
    "for i in range(4):\n",
    "    plt.subplot(2,2,i+1),plt.imshow(images[i],'gray')\n",
    "    plt.title(titles[i])\n",
    "    plt.xticks([]),plt.yticks([])\n",
    "plt.show()\n"
   ]
  },
  {
   "cell_type": "code",
   "execution_count": null,
   "metadata": {},
   "outputs": [],
   "source": [
    "cv2.imwrite(\"th3.jpg\",th3)\n",
    "cv2.waitKey(0)\n",
    "cv2.destroyAllWindows()"
   ]
  },
  {
   "cell_type": "code",
   "execution_count": null,
   "metadata": {},
   "outputs": [],
   "source": [
    "# 颜色各通道的直方图\n",
    "def calcAndDrawHist(image, color):  \n",
    "    hist= cv2.calcHist([image], [0], None, [256], [0.0,255.0])  \n",
    "    minVal, maxVal, minLoc, maxLoc = cv2.minMaxLoc(hist)  \n",
    "    histImg = np.zeros([256,256,3], np.uint8)  \n",
    "    hpt = int(0.9* 256);  \n",
    "\n",
    "    for h in range(256):  \n",
    "        intensity = int(hist[h]*hpt/maxVal)  \n",
    "        cv2.line(histImg,(h,256), (h,256-intensity), color)  \n",
    "\n",
    "    return histImg\n",
    "import numpy as np\n",
    "b, g, r = cv2.split(imga)  \n",
    "histImgB = calcAndDrawHist(b, [255, 0, 0])  \n",
    "histImgG = calcAndDrawHist(g, [0, 255, 0])  \n",
    "histImgR = calcAndDrawHist(r, [0, 0, 255])  \n",
    "\n",
    "cv2.imshow(\"histImgB\", histImgB)  \n",
    "cv2.imshow(\"histImgG\", histImgG)  \n",
    "cv2.imshow(\"histImgR\", histImgR)  \n",
    "cv2.imshow(\"Img\", img)  \n",
    "cv2.waitKey(0)  \n",
    "cv2.destroyAllWindows() "
   ]
  },
  {
   "cell_type": "code",
   "execution_count": null,
   "metadata": {},
   "outputs": [],
   "source": []
  },
  {
   "cell_type": "code",
   "execution_count": 21,
   "metadata": {},
   "outputs": [],
   "source": [
    "import cv2  \n",
    "  \n",
    "img = cv2.imread(r'F:\\PYcode\\faceinfo\\4.jpg')  \n",
    "gray = cv2.cvtColor(img,cv2.COLOR_BGR2GRAY)  \n",
    "ret, binary = cv2.threshold(gray,127,255,cv2.THRESH_BINARY)  \n",
    "  \n",
    "_, contours, hierarchy = cv2.findContours(binary,cv2.RETR_TREE,cv2.CHAIN_APPROX_SIMPLE)  \n",
    "cv2.drawContours(img,contours,-1,(0,0,255),1)  \n",
    "  \n",
    "cv2.imshow(\"img\", img)  \n",
    "cv2.waitKey(0)  \n",
    "cv2.destroyAllWindows() "
   ]
  },
  {
   "cell_type": "code",
   "execution_count": 25,
   "metadata": {},
   "outputs": [],
   "source": [
    "\n",
    "for contour in contours:\n",
    "    #计算一个简单的边界框\n",
    "    x,y,w,h = cv2.boundingRect(contour)\n",
    "    #画出边界框\n",
    "    cv2.rectangle(img, (x,y), (x+w, y+h),(0,0,255),2)\n",
    "    #计算包围目标的最小矩形区域\n",
    "    rect = cv2.minAreaRect(contour)\n",
    "    box = cv2.boxPoints(rect)\n",
    "    box = np.int0(box)\n",
    "    cv2.drawContours(img, [box], 0, (255, 255, 255), 2)\n",
    "    #cv2.minEnclosingCircle函数返回一个二元组，第一个元组为圆心坐标，第二个为半径\n",
    "    (x0,y0), radius = cv2.minEnclosingCircle(contour)\n",
    "    \n",
    "    center = (int(x0), int(y0))\n",
    "    radius = int(radius)\n",
    "    img = cv2.circle(img, center, radius, (0,255,0))\n",
    "\n",
    "cv2.drawContours(img, contours, -1, (255,0,0), 1)\n",
    "cv2.imwrite(\"findcontour.jpg\",img)\n",
    "cv2.imshow(\"img\", img)  \n",
    "cv2.waitKey(0)  \n",
    "cv2.destroyAllWindows() "
   ]
  },
  {
   "cell_type": "code",
   "execution_count": null,
   "metadata": {},
   "outputs": [],
   "source": []
  }
 ],
 "metadata": {
  "kernelspec": {
   "display_name": "img",
   "language": "python",
   "name": "img"
  },
  "language_info": {
   "codemirror_mode": {
    "name": "ipython",
    "version": 3
   },
   "file_extension": ".py",
   "mimetype": "text/x-python",
   "name": "python",
   "nbconvert_exporter": "python",
   "pygments_lexer": "ipython3",
   "version": "3.6.8"
  }
 },
 "nbformat": 4,
 "nbformat_minor": 2
}
