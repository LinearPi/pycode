{
 "cells": [
  {
   "cell_type": "code",
   "execution_count": 2,
   "metadata": {},
   "outputs": [
    {
     "ename": "ImportError",
     "evalue": "cannot import name 'geometry'\nIt seems that scikit-image has not been built correctly.\n\nYour install of scikit-image appears to be broken.\nTry re-installing the package following the instructions at:\nhttps://scikit-image.org/docs/stable/install.html ",
     "output_type": "error",
     "traceback": [
      "\u001b[1;31m---------------------------------------------------------------------------\u001b[0m",
      "\u001b[1;31mImportError\u001b[0m                               Traceback (most recent call last)",
      "\u001b[1;32mC:\\ProgramData\\Anaconda3\\envs\\img\\lib\\site-packages\\skimage\\__init__.py\u001b[0m in \u001b[0;36m<module>\u001b[1;34m\u001b[0m\n\u001b[0;32m    120\u001b[0m     \u001b[1;32mtry\u001b[0m\u001b[1;33m:\u001b[0m\u001b[1;33m\u001b[0m\u001b[0m\n\u001b[1;32m--> 121\u001b[1;33m         \u001b[1;32mfrom\u001b[0m \u001b[1;33m.\u001b[0m\u001b[0m_shared\u001b[0m \u001b[1;32mimport\u001b[0m \u001b[0mgeometry\u001b[0m\u001b[1;33m\u001b[0m\u001b[0m\n\u001b[0m\u001b[0;32m    122\u001b[0m         \u001b[1;32mdel\u001b[0m \u001b[0mgeometry\u001b[0m\u001b[1;33m\u001b[0m\u001b[0m\n",
      "\u001b[1;31mImportError\u001b[0m: cannot import name 'geometry'",
      "\nDuring handling of the above exception, another exception occurred:\n",
      "\u001b[1;31mImportError\u001b[0m                               Traceback (most recent call last)",
      "\u001b[1;32m<ipython-input-2-03747dcae522>\u001b[0m in \u001b[0;36m<module>\u001b[1;34m\u001b[0m\n\u001b[0;32m      1\u001b[0m \u001b[1;31m# _*_ coding: utf-8 _*_\u001b[0m\u001b[1;33m\u001b[0m\u001b[1;33m\u001b[0m\u001b[0m\n\u001b[0;32m      2\u001b[0m \u001b[1;33m\u001b[0m\u001b[0m\n\u001b[1;32m----> 3\u001b[1;33m \u001b[1;32mfrom\u001b[0m \u001b[0mskimage\u001b[0m \u001b[1;32mimport\u001b[0m \u001b[0mio\u001b[0m\u001b[1;33m,\u001b[0m \u001b[0mcolor\u001b[0m\u001b[1;33m\u001b[0m\u001b[0m\n\u001b[0m\u001b[0;32m      4\u001b[0m \u001b[1;32mimport\u001b[0m \u001b[0mnumpy\u001b[0m \u001b[1;32mas\u001b[0m \u001b[0mnp\u001b[0m\u001b[1;33m\u001b[0m\u001b[0m\n\u001b[0;32m      5\u001b[0m \u001b[1;32mimport\u001b[0m \u001b[0mmath\u001b[0m\u001b[1;33m\u001b[0m\u001b[0m\n",
      "\u001b[1;32mC:\\ProgramData\\Anaconda3\\envs\\img\\lib\\site-packages\\skimage\\__init__.py\u001b[0m in \u001b[0;36m<module>\u001b[1;34m\u001b[0m\n\u001b[0;32m    122\u001b[0m         \u001b[1;32mdel\u001b[0m \u001b[0mgeometry\u001b[0m\u001b[1;33m\u001b[0m\u001b[0m\n\u001b[0;32m    123\u001b[0m     \u001b[1;32mexcept\u001b[0m \u001b[0mImportError\u001b[0m \u001b[1;32mas\u001b[0m \u001b[0me\u001b[0m\u001b[1;33m:\u001b[0m\u001b[1;33m\u001b[0m\u001b[0m\n\u001b[1;32m--> 124\u001b[1;33m         \u001b[0m_raise_build_error\u001b[0m\u001b[1;33m(\u001b[0m\u001b[0me\u001b[0m\u001b[1;33m)\u001b[0m\u001b[1;33m\u001b[0m\u001b[0m\n\u001b[0m\u001b[0;32m    125\u001b[0m \u001b[1;33m\u001b[0m\u001b[0m\n\u001b[0;32m    126\u001b[0m     \u001b[1;31m# All skimage root imports go here\u001b[0m\u001b[1;33m\u001b[0m\u001b[1;33m\u001b[0m\u001b[0m\n",
      "\u001b[1;32mC:\\ProgramData\\Anaconda3\\envs\\img\\lib\\site-packages\\skimage\\__init__.py\u001b[0m in \u001b[0;36m_raise_build_error\u001b[1;34m(e)\u001b[0m\n\u001b[0;32m    102\u001b[0m     raise ImportError(\"\"\"%s\n\u001b[0;32m    103\u001b[0m \u001b[0mIt\u001b[0m \u001b[0mseems\u001b[0m \u001b[0mthat\u001b[0m \u001b[0mscikit\u001b[0m\u001b[1;33m-\u001b[0m\u001b[0mimage\u001b[0m \u001b[0mhas\u001b[0m \u001b[1;32mnot\u001b[0m \u001b[0mbeen\u001b[0m \u001b[0mbuilt\u001b[0m \u001b[0mcorrectly\u001b[0m\u001b[1;33m.\u001b[0m\u001b[1;33m\u001b[0m\u001b[0m\n\u001b[1;32m--> 104\u001b[1;33m %s\"\"\" % (e, msg))\n\u001b[0m\u001b[0;32m    105\u001b[0m \u001b[1;33m\u001b[0m\u001b[0m\n\u001b[0;32m    106\u001b[0m \u001b[1;33m\u001b[0m\u001b[0m\n",
      "\u001b[1;31mImportError\u001b[0m: cannot import name 'geometry'\nIt seems that scikit-image has not been built correctly.\n\nYour install of scikit-image appears to be broken.\nTry re-installing the package following the instructions at:\nhttps://scikit-image.org/docs/stable/install.html "
     ]
    }
   ],
   "source": [
    "# _*_ coding: utf-8 _*_\n",
    "\n",
    "from skimage import io, color\n",
    "import numpy as np\n",
    "import math\n",
    "import time\n",
    "# import matplotlib as mpl\n",
    "# mpl.use('Agg')\n",
    "\n",
    "import matplotlib.pyplot as plt\n",
    "\n",
    "time1 = time.time()\n",
    "def conv2d(gray, kernel):\n",
    "    \"\"\" implement equation in Q1.1 \"\"\"\n",
    "\n",
    "    # zero-padding first\n",
    "    ker_row = kernel.shape[0]\n",
    "    ker_col = kernel.shape[1]\n",
    "    img_row = gray.shape[0]\n",
    "    img_col = gray.shape[1]\n",
    "    #print(gray.max(), gray.min())\n",
    "    #print(kernel.shape, gray.shape)\n",
    "    result = np.zeros_like(gray, dtype=np.float32)\n",
    "\n",
    "    gray = np.pad(gray, [(0, ker_row-1), (0, ker_col-1), (0, 0)], 'constant')\n",
    "\n",
    "    # remove mean from kernel\n",
    "    kernel = kernel - kernel.mean()\n",
    "    std_ker = np.mean(kernel ** 2)\n",
    "\n",
    "    max_corr = 0.0\n",
    "    for i in range(0, img_row):\n",
    "        for j in range(0, img_col):\n",
    "            patch = gray[i:i+ker_row, j:j+ker_col]\n",
    "            # print(patch.mean())\n",
    "            patch = patch - patch.mean()\n",
    "            num = np.mean(patch * kernel)\n",
    "            den1 = np.mean(patch ** 2)\n",
    "            den = math.sqrt(den1 * std_ker)\n",
    "            corr = num / den\n",
    "            if corr > max_corr:\n",
    "                max_corr = corr\n",
    "                opt_pos = (i, j)\n",
    "\n",
    "            result[i, j] = corr\n",
    "\n",
    "    return result, opt_pos\n",
    "\n"
   ]
  },
  {
   "cell_type": "code",
   "execution_count": 3,
   "metadata": {},
   "outputs": [
    {
     "ename": "NameError",
     "evalue": "name 'conv2d' is not defined",
     "output_type": "error",
     "traceback": [
      "\u001b[1;31m---------------------------------------------------------------------------\u001b[0m",
      "\u001b[1;31mNameError\u001b[0m                                 Traceback (most recent call last)",
      "\u001b[1;32m<ipython-input-3-7bd92f2e8956>\u001b[0m in \u001b[0;36m<module>\u001b[1;34m\u001b[0m\n\u001b[0;32m      5\u001b[0m     \u001b[0mkernel\u001b[0m \u001b[1;33m=\u001b[0m \u001b[0mcv2\u001b[0m\u001b[1;33m.\u001b[0m\u001b[0mimread\u001b[0m\u001b[1;33m(\u001b[0m\u001b[1;34m'Wally.png'\u001b[0m\u001b[1;33m)\u001b[0m\u001b[1;33m\u001b[0m\u001b[0m\n\u001b[0;32m      6\u001b[0m \u001b[1;33m\u001b[0m\u001b[0m\n\u001b[1;32m----> 7\u001b[1;33m     \u001b[0mresult\u001b[0m\u001b[1;33m,\u001b[0m \u001b[0mopt_pos\u001b[0m \u001b[1;33m=\u001b[0m \u001b[0mconv2d\u001b[0m\u001b[1;33m(\u001b[0m\u001b[0mgray\u001b[0m\u001b[1;33m,\u001b[0m \u001b[0mkernel\u001b[0m\u001b[1;33m)\u001b[0m\u001b[1;33m\u001b[0m\u001b[0m\n\u001b[0m\u001b[0;32m      8\u001b[0m     \u001b[0mx\u001b[0m\u001b[1;33m,\u001b[0m \u001b[0my\u001b[0m \u001b[1;33m=\u001b[0m \u001b[0mopt_pos\u001b[0m\u001b[1;33m\u001b[0m\u001b[0m\n\u001b[0;32m      9\u001b[0m     \u001b[0mprint\u001b[0m\u001b[1;33m(\u001b[0m\u001b[0mx\u001b[0m\u001b[1;33m,\u001b[0m \u001b[0my\u001b[0m\u001b[1;33m)\u001b[0m\u001b[1;33m\u001b[0m\u001b[0m\n",
      "\u001b[1;31mNameError\u001b[0m: name 'conv2d' is not defined"
     ]
    }
   ],
   "source": [
    "import cv2\n",
    "\n",
    "if __name__ == \"__main__\":\n",
    "    gray = cv2.imread('Wheres_Wally.jpg')\n",
    "    kernel = cv2.imread('Wally.png')\n",
    "    \n",
    "    result, opt_pos = conv2d(gray, kernel)\n",
    "    x, y = opt_pos\n",
    "    print(x, y)\n",
    "#     # plot bounding box\n",
    "#     bb = np.zeros(gray.shape, dtype=np.int8)\n",
    "#     bb[x:x+kernel.shape[0], y:y+kernel.shape[1]] = 1\n",
    "\n",
    "#     plt.figure()\n",
    "#     plt.imshow(gray, cmap='gray')\n",
    "#     cv2.rectangle(gray, (bb[x], bb[y]), (bb[x+kernel.shape[0]], bb[y+kernel.shape[1]]), (255, 0,0), 8)\n",
    "#     plt.savefig(\"./wuhi.png\")\n",
    "\n",
    "#     plt.figure()\n",
    "#     plt.imshow(result, cmap='seismic')\n",
    "#     plt.savefig(\"./wuhi.png\")\n",
    "    \n",
    "#     time2 = time.time()\n",
    "#     use_time = time2 - time1\n",
    "#     print(use_time)"
   ]
  },
  {
   "cell_type": "code",
   "execution_count": 29,
   "metadata": {},
   "outputs": [],
   "source": [
    "import cv2\n",
    "import numpy as np\n",
    "\n",
    "img = cv2.imread(\"Wheres_Wally.jpg\", cv2.IMREAD_UNCHANGED)\n",
    "img_g = cv2.cvtColor(img, cv2.COLOR_BGR2GRAY)\n",
    "tem = cv2.imread(\"Wally.png\",cv2.IMREAD_GRAYSCALE)\n",
    "w,h = tem.shape[::-1]\n",
    "\n",
    "res = cv2.matchTemplate(img_g, tem , cv2.TM_CCORR_NORMED)\n",
    "threshold = 0.9\n",
    "loc = np.where(res >= threshold)\n",
    "\n",
    "for pt in zip(*loc[::-1]):\n",
    "    cv2.rectangle(img, pt, (pt[0]+w, pt[1]+h), (0,0,0), 10)\n",
    "cv2.imshow(\"img\", img)\n",
    "cv2.imwrite(\"img.jpg\",img)\n",
    "cv2.waitKey(0)\n",
    "cv2.destroyAllWindows()"
   ]
  },
  {
   "cell_type": "code",
   "execution_count": null,
   "metadata": {},
   "outputs": [],
   "source": []
  }
 ],
 "metadata": {
  "kernelspec": {
   "display_name": "img",
   "language": "python",
   "name": "img"
  },
  "language_info": {
   "codemirror_mode": {
    "name": "ipython",
    "version": 3
   },
   "file_extension": ".py",
   "mimetype": "text/x-python",
   "name": "python",
   "nbconvert_exporter": "python",
   "pygments_lexer": "ipython3",
   "version": "3.6.0"
  }
 },
 "nbformat": 4,
 "nbformat_minor": 2
}
