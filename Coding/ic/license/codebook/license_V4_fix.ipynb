{
 "cells": [
  {
   "cell_type": "markdown",
   "metadata": {},
   "source": [
    "## 证照识别V4.0\n",
    "\n",
    "####  操作：\n",
    "1. 识别二维码\n",
    "\n",
    "***\n",
    "1. A4纸边缘顶点提取\n",
    "2. A4纸矫正\n",
    "3. 数字按顺序分割\n",
    "    1. 图像二值化\n",
    "    2. 基于垂直方向直方图，把原图进行行分割为多张行子图，每张行子图包含一行数字（可能有多列）\n",
    "    3. 基于水平方向直方图，把行子图进行列分割为多张真子图，每张真子图包含单行单列的数字\n",
    "    4. 对每张子图，进行扩张(dilation)，并进行断裂字符修复\n",
    "    5. 对每张子图，用连通区域标记方法(connected-component_labeling algorithm)从左到右分割数字\n",
    "    6. 对每张子图，存储单个数字以及一个图像名列表文本\n",
    "    7. 对每张子图，识别对应的文字\n",
    "\n",
    "4. 参考: https://blog.csdn.net/qq_33000225/article/details/73123880\n",
    "5. 参考: https://blog.csdn.net/OnceMonkey/article/details/79996687\n",
    "\n",
    "\n",
    "\n",
    "### 操作步骤:\n",
    "\n",
    "    1、先对输入图像进行灰度化处理，再按一定比例下采样（即对图像插值压缩）\n",
    "\n",
    "    2、利用上一次作业的Canny算法提取边缘（得到的边缘有噪点且不完整）\n",
    "\n",
    "    3、对ImageSpace做HoughSpace（极坐标）变换，并做voting投票（矩阵累加）\n",
    "\n",
    "    4、对累加矩阵取最大的一些值，得到边缘直线的斜率、截距，并画出边缘直线\n",
    "\n",
    "    5、求每两条直线之间交点，并累计该交点的直线交叉次数\n",
    "\n",
    "    6、取交叉次数最多的4个点，即为A4纸的四个顶点\n",
    "\n",
    "    7、把顶点坐标上采样并放回原图，最后4个顶点之间连线，形成边缘\n",
    "\n"
   ]
  },
  {
   "cell_type": "code",
   "execution_count": 10,
   "metadata": {},
   "outputs": [],
   "source": [
    "import cv2\n",
    "import numpy as np\n",
    "import pyzbar.pyzbar as pyzbar\n",
    "import pytesseract\n",
    "import matplotlib.pyplot as plt\n",
    "# from torch import nn\n",
    "# import torch\n",
    "import imutils\n",
    "from imutils.perspective import four_point_transform\n",
    "pytesseract.pytesseract.tesseract_cmd = \"C:/Program Files (x86)/Tesseract-OCR/tesseract.exe\""
   ]
  },
  {
   "cell_type": "code",
   "execution_count": 250,
   "metadata": {},
   "outputs": [
    {
     "data": {
      "text/plain": [
       "(1592, 1044, 3)"
      ]
     },
     "execution_count": 250,
     "metadata": {},
     "output_type": "execute_result"
    }
   ],
   "source": [
    "# img_url = r\"F:\\PYcode\\Coding\\ic\\license\\source_img\\4.jpg\"\n",
    "\n",
    "\n",
    "img = cv2.imread(img_url)\n",
    "img.shape\n"
   ]
  },
  {
   "cell_type": "code",
   "execution_count": 251,
   "metadata": {},
   "outputs": [],
   "source": [
    "# 识别二维码程序\n",
    "def QR_image(img):\n",
    "    identification = []\n",
    "    inforesout = pyzbar.decode(img)\n",
    "    for dadada in inforesout:\n",
    "        identification.append(dadada.data.decode(\"utf-8\"))\n",
    "#             print(dadada.data.decode(\"utf-8\"))\n",
    "    return identification"
   ]
  },
  {
   "cell_type": "code",
   "execution_count": 252,
   "metadata": {},
   "outputs": [],
   "source": [
    "img = cv2.imread(img_url, 0)\n",
    "message = QR_image(img)"
   ]
  },
  {
   "cell_type": "code",
   "execution_count": 253,
   "metadata": {},
   "outputs": [
    {
     "data": {
      "text/plain": [
       "['统一社会信用代码：91510100MA6AQPBR8H\\r\\n企业注册号：510109001600056\\r\\n名称：成都西辰易通科技有限公司\\r\\n登记机关：成都市高新工商行政管理局\\r\\n登记日期：2019-01-28\\r\\n企业信用信息公示系统网址：http://gsxt.scaic.gov.cn  http://gsxt.cdcredit.gov.cn']"
      ]
     },
     "execution_count": 253,
     "metadata": {},
     "output_type": "execute_result"
    }
   ],
   "source": [
    "message"
   ]
  },
  {
   "cell_type": "code",
   "execution_count": 254,
   "metadata": {},
   "outputs": [],
   "source": [
    "# 四边形矫正\n",
    "def change_size(image):\n",
    "    # 读取图片\n",
    "    width1, height1 = image.shape[1], image.shape[0]\n",
    "    # 转灰色\n",
    "    gray = cv2.cvtColor(image, cv2.COLOR_BGR2GRAY)\n",
    "    # 高斯滤波\n",
    "    blurred = cv2.GaussianBlur(gray, (5, 5), 0)\n",
    "    # 自适应二值化方法\n",
    "    blurred=cv2.adaptiveThreshold(blurred,255,cv2.ADAPTIVE_THRESH_MEAN_C,cv2.THRESH_BINARY,51,2)\n",
    "#     blurred=cv2.copyMakeBorder(blurred,5,5,5,5,cv2.BORDER_CONSTANT,value=(255,255,255))\n",
    "    # 找到边框\n",
    "    edged = cv2.Canny(blurred, 10, 100)\n",
    "    # 找到矩阵\n",
    "    cnts = cv2.findContours(edged, cv2.RETR_EXTERNAL,cv2.CHAIN_APPROX_SIMPLE)\n",
    "    cnts = cnts[0] if imutils.is_cv2() else cnts[1]\n",
    "    docCnt = None\n",
    "\n",
    "    if len(cnts) > 0:\n",
    "        # 将轮廓按大小降序排序\n",
    "        cnts = sorted(cnts, key=cv2.contourArea, reverse=True)\n",
    "        # 对排序后的轮廓循环处理\n",
    "        for c in cnts:\n",
    "            # 获取近似的轮廓\n",
    "            peri = cv2.arcLength(c, True)\n",
    "            approx = cv2.approxPolyDP(c, 0.02 * peri, True)\n",
    "            # 如果近似轮廓有四个顶点，那么就认为找到了图片\n",
    "            if len(approx) == 4:\n",
    "                docCnt = approx\n",
    "                break\n",
    "                \n",
    "    newimage = image.copy()\n",
    "    for i in docCnt:\n",
    "        #circle函数为在图像上作图，新建了一个图像用来演示四角选取\n",
    "        cv2.circle(newimage, (i[0][0],i[0][1]), 10, (255, 0, 0), -1)\n",
    "        \n",
    "    paper = four_point_transform(image, docCnt.reshape(4, 2))\n",
    "    warped = four_point_transform(gray, docCnt.reshape(4, 2))\n",
    "\n",
    "    # 对灰度图应用二值化算法\n",
    "    thresh = cv2.adaptiveThreshold(warped,255,cv2.ADAPTIVE_THRESH_MEAN_C,cv2.THRESH_BINARY,53,2)\n",
    "    #重塑可能用到的图像\n",
    "#     thresh = cv2.resize(thresh, (width1, height1), cv2.INTER_LANCZOS4)\n",
    "    paper = cv2.resize(paper, (width1, height1), cv2.INTER_LANCZOS4)\n",
    "#     warped = cv2.resize(warped, (width1, height1), cv2.INTER_LANCZOS4)\n",
    "    \n",
    "#     paper = cv2.copyMakeBorder(paper,100,100,100,100,cv2.BORDER_CONSTANT, value=(255,255,255))\n",
    "#     paper = paper[50:height1-50, 50:width1-50]\n",
    "    cv2.imwrite(\"resoutlicence.jpg\", paper)\n",
    "    paper = cv2.cvtColor(paper, cv2.COLOR_RGB2GRAY)\n",
    "    return paper"
   ]
  },
  {
   "cell_type": "code",
   "execution_count": 366,
   "metadata": {},
   "outputs": [],
   "source": [
    "#  从上倒下分隔图片\n",
    "def getImageHorizontalAndVerticalSum(image):\n",
    "    ImageThre = image\n",
    "    ret, ImageThre=cv2.threshold(ImageThre, 125,255, cv2.THRESH_BINARY_INV)\n",
    "    rows, cols = ImageThre.shape\n",
    "    horsum = []\n",
    "    versum = []\n",
    "    for i in range(cols):\n",
    "        val = np.array(ImageThre[:, i]).sum()\n",
    "        horsum.append(val)\n",
    "#         print(val)\n",
    "\n",
    "    for i in range(rows):\n",
    "        val = np.array(ImageThre[i, :]).sum()\n",
    "        versum.append(val)\n",
    "        # print(val)\n",
    "    return horsum,versum    \n",
    "#     return versum\n",
    "\n",
    " \n",
    "#这个函数我们最终需要找到一个区间表示字符的竖直分布情况\n",
    "def getVerticalCharPosition(versum):\n",
    "    result=[] #用来保存找到的结果：位置，区间大小\n",
    "    i = 0\n",
    "    while i< len(versum):\n",
    "        if(versum[i] > max(versum)/15):\n",
    "            j=1 #代表这个区间的大小\n",
    "            sumver = versum[i] #代表这整个区间的像素和是多少\n",
    "            while(versum[i+j] > max(versum)/15):\n",
    "                sumver = sumver + versum[i + j]\n",
    "                j = j + 1     \n",
    "                if i+j == len(versum):\n",
    "                    break\n",
    "            if j > 10 and sumver > 4000: \n",
    "                result.append([i, j])\n",
    "\n",
    "            i = i + j + 1 #跳过这整个不为0的区间，开始寻找下一个区间\n",
    "        i = i + 1\n",
    "    return result\n",
    " \n",
    "# #这个函数我们最终需要找到四个区间表示字符的水平分布情况\n",
    "# 水平切割暂时不需要 \n",
    "# def getHorizontalCharPosition(horsum):\n",
    "#     result = []  # 用来保存找到的结果：位置，区间大小\n",
    "#     i = 0 \n",
    "#     while  i < len(horsum):\n",
    "#         if(versum[i] != 0):\n",
    "#             j = 1 #代表这个区间的大小\n",
    "#             sumver = versum[i] #代表这整个区间的像素和是多少\n",
    "#             while(versum[i+j] != 0):\n",
    "#                 sumver = sumver + versum[i+j]\n",
    "#                 j = j + 1     \n",
    "#                 if i+j == len(versum):\n",
    "#                     break\n",
    "#             if j > 60 and sumver > 4000: \n",
    "#                 result.append([i, j])\n",
    "\n",
    "#             i = i+j+1 #跳过这整个不为0的区间，开始寻找下一个区间\n",
    "#         i = i+1\n",
    "#     return result\n",
    " \n",
    "def getHorizontalCharPosition(horsum):\n",
    "    result = []  # 用来保存找到的结果：位置，区间大小\n",
    "    i = 0 \n",
    "    while  i < len(horsum):\n",
    "        if(horsum[i] > 2000):\n",
    "            result.append(i)\n",
    "         #跳过这整个不为0的区间，开始寻找下一个区间\n",
    "        i = i+1\n",
    "    return min(result), max(result)\n",
    "#这个函数返回所有可能是字符的图片区域\n",
    "#这个函数返回所有可能是字符的图片区域\n",
    "# def getCharImages(verticalCharPosition,horizontalCharPosition,image):\n",
    "#     charImages = []\n",
    "#     #v,h:[position,width]\n",
    "#     for v in verticalCharPosition:\n",
    "#         for h in horizontalCharPosition:\n",
    "#             charImages.append(image[v[0] : v[0]+v[1], h[0] : h[0]+h[1]])\n",
    "#     return charImages \n",
    "\n",
    "def getCharImages(verticalCharPosition, image):\n",
    "    weight, height = image.shape[:2]\n",
    "    _, image = cv2.threshold(image, 0, 255, cv2.THRESH_BINARY + cv2.THRESH_OTSU)\n",
    "    charImages = []\n",
    "    #v,h:[position,width]\n",
    "    for v in verticalCharPosition:\n",
    "        charImages.append(image[max(v[0]-20, 0): min(v[0]+v[1]+20, height),0: weight])\n",
    "    return charImages \n"
   ]
  },
  {
   "cell_type": "code",
   "execution_count": 367,
   "metadata": {},
   "outputs": [],
   "source": [
    "img_url = r\"F:/PYcode/Coding/ic/license/source_img/5.jpg\""
   ]
  },
  {
   "cell_type": "code",
   "execution_count": 368,
   "metadata": {},
   "outputs": [
    {
     "data": {
      "text/plain": [
       "(4608, 3456)"
      ]
     },
     "execution_count": 368,
     "metadata": {},
     "output_type": "execute_result"
    }
   ],
   "source": [
    "img = cv2.imread(img_url, cv2.IMREAD_COLOR)\n",
    "image = change_size(img)\n",
    "image.shape"
   ]
  },
  {
   "cell_type": "code",
   "execution_count": 369,
   "metadata": {},
   "outputs": [],
   "source": [
    "horsum,versum = getImageHorizontalAndVerticalSum(image)"
   ]
  },
  {
   "cell_type": "code",
   "execution_count": null,
   "metadata": {},
   "outputs": [],
   "source": []
  },
  {
   "cell_type": "code",
   "execution_count": 370,
   "metadata": {},
   "outputs": [],
   "source": [
    "verticalCharPosition = getVerticalCharPosition(versum)"
   ]
  },
  {
   "cell_type": "code",
   "execution_count": 371,
   "metadata": {},
   "outputs": [],
   "source": [
    "catimg = getCharImages(verticalCharPosition, image)"
   ]
  },
  {
   "cell_type": "code",
   "execution_count": 323,
   "metadata": {},
   "outputs": [
    {
     "data": {
      "text/plain": [
       "[[128, 196],\n",
       " [355, 121],\n",
       " [525, 13],\n",
       " [582, 25],\n",
       " [671, 25],\n",
       " [724, 26],\n",
       " [777, 25],\n",
       " [829, 24],\n",
       " [881, 26],\n",
       " [932, 25],\n",
       " [985, 25],\n",
       " [1035, 50],\n",
       " [1090, 23],\n",
       " [1118, 23],\n",
       " [1280, 223],\n",
       " [1505, 25],\n",
       " [1557, 19]]"
      ]
     },
     "execution_count": 323,
     "metadata": {},
     "output_type": "execute_result"
    }
   ],
   "source": [
    "verticalCharPosition"
   ]
  },
  {
   "cell_type": "code",
   "execution_count": 372,
   "metadata": {},
   "outputs": [
    {
     "ename": "AttributeError",
     "evalue": "'NoneType' object has no attribute 'shape'",
     "output_type": "error",
     "traceback": [
      "\u001b[1;31m---------------------------------------------------------------------------\u001b[0m",
      "\u001b[1;31mAttributeError\u001b[0m                            Traceback (most recent call last)",
      "\u001b[1;32m<ipython-input-372-cd40138324e7>\u001b[0m in \u001b[0;36m<module>\u001b[1;34m()\u001b[0m\n\u001b[0;32m      2\u001b[0m \u001b[1;32mfor\u001b[0m \u001b[0mi\u001b[0m \u001b[1;32min\u001b[0m \u001b[0mrange\u001b[0m\u001b[1;33m(\u001b[0m\u001b[0mlen\u001b[0m\u001b[1;33m(\u001b[0m\u001b[0mcatimg\u001b[0m\u001b[1;33m)\u001b[0m\u001b[1;33m)\u001b[0m\u001b[1;33m:\u001b[0m\u001b[1;33m\u001b[0m\u001b[0m\n\u001b[0;32m      3\u001b[0m     \u001b[0mh\u001b[0m \u001b[1;33m=\u001b[0m \u001b[0mcatimg\u001b[0m\u001b[1;33m[\u001b[0m\u001b[0mi\u001b[0m\u001b[1;33m]\u001b[0m\u001b[1;33m.\u001b[0m\u001b[0mshape\u001b[0m\u001b[1;33m[\u001b[0m\u001b[1;36m0\u001b[0m\u001b[1;33m]\u001b[0m\u001b[1;33m\u001b[0m\u001b[0m\n\u001b[1;32m----> 4\u001b[1;33m     \u001b[0mhorsumv\u001b[0m\u001b[1;33m,\u001b[0m \u001b[0mversumv\u001b[0m \u001b[1;33m=\u001b[0m \u001b[0mgetImageHorizontalAndVerticalSum\u001b[0m\u001b[1;33m(\u001b[0m\u001b[0mcatimg\u001b[0m\u001b[1;33m[\u001b[0m\u001b[0mi\u001b[0m\u001b[1;33m]\u001b[0m\u001b[1;33m)\u001b[0m\u001b[1;33m\u001b[0m\u001b[0m\n\u001b[0m\u001b[0;32m      5\u001b[0m     \u001b[0ms\u001b[0m\u001b[1;33m,\u001b[0m \u001b[0me\u001b[0m \u001b[1;33m=\u001b[0m \u001b[0mgetHorizontalCharPosition\u001b[0m\u001b[1;33m(\u001b[0m\u001b[0mhorsumv\u001b[0m\u001b[1;33m)\u001b[0m\u001b[1;33m\u001b[0m\u001b[0m\n\u001b[0;32m      6\u001b[0m     \u001b[0mcv2\u001b[0m\u001b[1;33m.\u001b[0m\u001b[0mimwrite\u001b[0m\u001b[1;33m(\u001b[0m\u001b[1;34m'%s.jpg'\u001b[0m\u001b[1;33m%\u001b[0m\u001b[1;33m(\u001b[0m\u001b[0mi\u001b[0m\u001b[1;33m)\u001b[0m\u001b[1;33m,\u001b[0m \u001b[0mcatimg\u001b[0m\u001b[1;33m[\u001b[0m\u001b[0mi\u001b[0m\u001b[1;33m]\u001b[0m\u001b[1;33m[\u001b[0m\u001b[1;36m0\u001b[0m\u001b[1;33m:\u001b[0m \u001b[0mh\u001b[0m\u001b[1;33m,\u001b[0m \u001b[0mmax\u001b[0m\u001b[1;33m(\u001b[0m\u001b[0ms\u001b[0m\u001b[1;33m-\u001b[0m\u001b[1;36m50\u001b[0m\u001b[1;33m,\u001b[0m\u001b[1;36m0\u001b[0m\u001b[1;33m)\u001b[0m\u001b[1;33m:\u001b[0m \u001b[0me\u001b[0m\u001b[1;33m+\u001b[0m\u001b[1;36m50\u001b[0m\u001b[1;33m]\u001b[0m\u001b[1;33m)\u001b[0m\u001b[1;33m\u001b[0m\u001b[0m\n",
      "\u001b[1;32m<ipython-input-366-d3c612c2b5e6>\u001b[0m in \u001b[0;36mgetImageHorizontalAndVerticalSum\u001b[1;34m(image)\u001b[0m\n\u001b[0;32m      3\u001b[0m     \u001b[0mImageThre\u001b[0m \u001b[1;33m=\u001b[0m \u001b[0mimage\u001b[0m\u001b[1;33m\u001b[0m\u001b[0m\n\u001b[0;32m      4\u001b[0m     \u001b[0mret\u001b[0m\u001b[1;33m,\u001b[0m \u001b[0mImageThre\u001b[0m\u001b[1;33m=\u001b[0m\u001b[0mcv2\u001b[0m\u001b[1;33m.\u001b[0m\u001b[0mthreshold\u001b[0m\u001b[1;33m(\u001b[0m\u001b[0mImageThre\u001b[0m\u001b[1;33m,\u001b[0m \u001b[1;36m125\u001b[0m\u001b[1;33m,\u001b[0m\u001b[1;36m255\u001b[0m\u001b[1;33m,\u001b[0m \u001b[0mcv2\u001b[0m\u001b[1;33m.\u001b[0m\u001b[0mTHRESH_BINARY_INV\u001b[0m\u001b[1;33m)\u001b[0m\u001b[1;33m\u001b[0m\u001b[0m\n\u001b[1;32m----> 5\u001b[1;33m     \u001b[0mrows\u001b[0m\u001b[1;33m,\u001b[0m \u001b[0mcols\u001b[0m \u001b[1;33m=\u001b[0m \u001b[0mImageThre\u001b[0m\u001b[1;33m.\u001b[0m\u001b[0mshape\u001b[0m\u001b[1;33m\u001b[0m\u001b[0m\n\u001b[0m\u001b[0;32m      6\u001b[0m     \u001b[0mhorsum\u001b[0m \u001b[1;33m=\u001b[0m \u001b[1;33m[\u001b[0m\u001b[1;33m]\u001b[0m\u001b[1;33m\u001b[0m\u001b[0m\n\u001b[0;32m      7\u001b[0m     \u001b[0mversum\u001b[0m \u001b[1;33m=\u001b[0m \u001b[1;33m[\u001b[0m\u001b[1;33m]\u001b[0m\u001b[1;33m\u001b[0m\u001b[0m\n",
      "\u001b[1;31mAttributeError\u001b[0m: 'NoneType' object has no attribute 'shape'"
     ]
    }
   ],
   "source": [
    "lis = []\n",
    "for i in range(len(catimg)):\n",
    "    h = catimg[i].shape[0]\n",
    "    horsumv, versumv = getImageHorizontalAndVerticalSum(catimg[i])\n",
    "    s, e = getHorizontalCharPosition(horsumv)\n",
    "    cv2.imwrite('%s.jpg'%(i), catimg[i][0: h, max(s-50,0): e+50])\n",
    "    lis.append(''.join(pytesseract.image_to_string(catimg[i][0:h, max(s-50,0): e+50], lang=\"chi_sim\").split()))"
   ]
  },
  {
   "cell_type": "code",
   "execution_count": 339,
   "metadata": {},
   "outputs": [
    {
     "data": {
      "text/plain": [
       "['命r子-.′入一',\n",
       " '',\n",
       " '纳一社会信用代砌91510100MA6AQPBKRS8H',\n",
       " '丨成都西辰易通科技有限八耐',\n",
       " 'As“有限资任公司(的然人投资或控股的法人犯资)',\n",
       " '一成都高新区科园三路4号1栋12尿2命',\n",
       " ':人“张义',\n",
       " 'laˇ祉卅资杨“(人民币)善佰万元',\n",
       " '肌7口刘2019年1月23日',\n",
       " '“s5\\\\厄兰【氏2019年1月23日至永久',\n",
       " \"'′3行围仑舞机状件技术升友、技术咨询、技术转让、技术服务;申丁产品的心2巳设计、开发及技术服务;批发计算机及玛酮件、申一史:“门伯设发\",\n",
       " '(个吾无统厂描电侠发射及卫星地丽接收设备》,借恺系绒伊成月失',\n",
       " '。《伏芳须经批佩的项目,经相关邱门批准后方可开厂纲魅江书),',\n",
       " '',\n",
       " '',\n",
       " '',\n",
       " 'T',\n",
       " '',\n",
       " '',\n",
       " ',芸吴genoniqnigoqinoiguaniiiiolnignloy刑吴命CNFangprlerao[',\n",
       " '中协人民共和国国家工寇行政算埕心局相剧',\n",
       " '连页',\n",
       " '']"
      ]
     },
     "execution_count": 339,
     "metadata": {},
     "output_type": "execute_result"
    }
   ],
   "source": [
    "lis"
   ]
  },
  {
   "cell_type": "code",
   "execution_count": 340,
   "metadata": {},
   "outputs": [],
   "source": [
    "import re\n",
    "def get_start():\n",
    "    for index in range(len(lis)):\n",
    "        pattern = re.compile('\\d{6}')\n",
    "        if pattern.search(lis[index]):\n",
    "            ss = index\n",
    "    return ss\n",
    "start = get_start()"
   ]
  },
  {
   "cell_type": "code",
   "execution_count": 34,
   "metadata": {},
   "outputs": [],
   "source": [
    "import cv2\n",
    "image = cv2.imread(r\"F:\\PYcode\\Coding\\ic\\license\\3.jpg\", cv2.IMREAD_GRAYSCALE)\n",
    "image = cv2.resize(image,(0, 0), fx=0.8, fy=0.8, interpolation=cv2.INTER_NEAREST)\n",
    "_, image = cv2.threshold(image, 0, 255, cv2.THRESH_BINARY + cv2.THRESH_OTSU)\n",
    "img = cv2.adaptiveThreshold(image,255,cv2.ADAPTIVE_THRESH_GAUSSIAN_C, cv2.THRESH_BINARY,11,2)\n",
    "opened2 = cv2.morphologyEx(img, cv2.MORPH_OPEN, kernel,iterations=2)     #开运算1"
   ]
  },
  {
   "cell_type": "code",
   "execution_count": 35,
   "metadata": {},
   "outputs": [
    {
     "data": {
      "text/plain": [
       "'名 称 成 都 西 辰 易 通 科 技 有 限 公 闭'"
      ]
     },
     "execution_count": 35,
     "metadata": {},
     "output_type": "execute_result"
    }
   ],
   "source": [
    "pytesseract.image_to_string(img, lang=\"chi_sim\")"
   ]
  },
  {
   "cell_type": "code",
   "execution_count": 19,
   "metadata": {},
   "outputs": [],
   "source": [
    "\n",
    "\n",
    "kernel = cv2.getStructuringElement(cv2.MORPH_RECT,(3,3))              #定义矩形结构元素(核大小为3效果好)\n",
    "TOPHAT_img = cv2.morphologyEx(img, cv2.MORPH_TOPHAT, kernel)     #顶帽运算\n",
    "BLACKHAT_img = cv2.morphologyEx(img, cv2.MORPH_BLACKHAT, kernel) #黒帽运算\n",
    "\n",
    "bitwiseXor_gray = cv2.bitwise_xor(img,TOPHAT_img)\n",
    "\n",
    "closed1 = cv2.morphologyEx(img, cv2.MORPH_CLOSE, kernel,iterations=1)    #闭运算1\n",
    "closed2 = cv2.morphologyEx(img, cv2.MORPH_CLOSE, kernel,iterations=3)    #闭运算2\n",
    "opened1 = cv2.morphologyEx(img, cv2.MORPH_OPEN, kernel,iterations=1)     #开运算1\n",
    "opened2 = cv2.morphologyEx(img, cv2.MORPH_OPEN, kernel,iterations=2)     #开运算1\n"
   ]
  },
  {
   "cell_type": "code",
   "execution_count": 383,
   "metadata": {},
   "outputs": [
    {
     "data": {
      "text/plain": [
       "True"
      ]
     },
     "execution_count": 383,
     "metadata": {},
     "output_type": "execute_result"
    }
   ],
   "source": [
    "cv2.imwrite(\"12.jpg\",img)\n",
    "cv2.imwrite(\"13.jpg\",TOPHAT_img)\n",
    "cv2.imwrite(\"14.jpg\",BLACKHAT_img)\n",
    "cv2.imwrite(\"15.jpg\",bitwiseXor_gray)"
   ]
  },
  {
   "cell_type": "code",
   "execution_count": 20,
   "metadata": {},
   "outputs": [],
   "source": [
    "\n",
    "#显示如下腐蚀后的图像\n",
    "cv2.imshow(\"closed1\", closed1)\n",
    "cv2.imshow(\"closed2\", closed2)\n",
    "cv2.imshow(\"opened1\", opened1)\n",
    "cv2.imshow(\"opened2\", opened2)\n",
    "\n",
    "\n",
    "cv2.waitKey(0)\n",
    "cv2.destroyAllWindows()"
   ]
  },
  {
   "cell_type": "code",
   "execution_count": null,
   "metadata": {},
   "outputs": [],
   "source": [
    "lis1 = lis[start:start+8]\n",
    "lis1"
   ]
  },
  {
   "cell_type": "code",
   "execution_count": null,
   "metadata": {},
   "outputs": [],
   "source": [
    "import re\n",
    "pattern = re.compile(ur'(\\d{6})')\n",
    "str = u''\n",
    "print(pattern.search(str))"
   ]
  },
  {
   "cell_type": "code",
   "execution_count": 13,
   "metadata": {
    "scrolled": false
   },
   "outputs": [],
   "source": [
    "for i in range(len(catimg)):\n",
    "    cv2.imshow(str(i),catimg[i]) \n",
    "#     res = pytesseract.image_to_string(catimg[i], lang=\"chi_sim\")\n",
    "#     cv2.imwrite(\"img_out\\b%s.jpg\"%(i), catimg[i])\n",
    "#     cv2.imwrite(\"img_out\\q%s.jpg\"%(i), img1[ y:(y+h), x:(x+w)])\n",
    "#     print(res)\n",
    "    \n",
    "# cv2.imshow('raw image',image)\n",
    "cv2.waitKey(0)\n",
    "cv2.destroyAllWindows()\n",
    "\n",
    "# 统一社会信用代码：91510100MA63DEFJ00\\r\\n企业注册号：510109001599590\\r\\n\n",
    "# 名称：成都西辰易督科技有限公司\\r\\n登记机关：成都市高新工商行政管"
   ]
  },
  {
   "cell_type": "code",
   "execution_count": 276,
   "metadata": {},
   "outputs": [
    {
     "data": {
      "text/plain": [
       "4"
      ]
     },
     "execution_count": 276,
     "metadata": {},
     "output_type": "execute_result"
    }
   ],
   "source": [
    "versum.count(0)\n"
   ]
  },
  {
   "cell_type": "code",
   "execution_count": 312,
   "metadata": {},
   "outputs": [
    {
     "data": {
      "image/png": "[encoded data removed]",
      "text/plain": [
       "<Figure size 432x288 with 1 Axes>"
      ]
     },
     "metadata": {
      "needs_background": "light"
     },
     "output_type": "display_data"
    }
   ],
   "source": [
    "#输出函数曲线图，这里输出了水平方向和竖直方向上的像素情况，可以很明显的知道数字的分布\n",
    "rows, cols = image.shape\n",
    "# X = np.arange(0,cols,1)\n",
    "# plt.plot(X,versum)\n",
    "X = np.arange(0,rows,1)\n",
    "plt.plot(X,versum)\n",
    "plt.show()"
   ]
  },
  {
   "cell_type": "code",
   "execution_count": null,
   "metadata": {},
   "outputs": [],
   "source": []
  },
  {
   "cell_type": "code",
   "execution_count": null,
   "metadata": {},
   "outputs": [],
   "source": []
  },
  {
   "cell_type": "code",
   "execution_count": 303,
   "metadata": {},
   "outputs": [
    {
     "data": {
      "image/png": "[encoded data removed]",
      "text/plain": [
       "<Figure size 432x288 with 1 Axes>"
      ]
     },
     "metadata": {
      "needs_background": "light"
     },
     "output_type": "display_data"
    }
   ],
   "source": [
    "import numpy as np\n",
    "import cv2 as cv\n",
    "from matplotlib import pyplot as plt\n",
    "\n",
    "img = cv.imread(img_url, 0)\n",
    "\n",
    "hist, bins = np.histogram(img.flatten(), 256, [0,256])\n",
    "\n",
    "cdf = hist.cumsum()\n",
    "cdf_normalized = cdf*float(hist.max())/cdf.max()\n",
    "\n",
    "plt.plot(cdf_normalized, color = 'b')\n",
    "plt.hist(img.flatten(),256,[0,256], color = 'r')\n",
    "plt.xlim([0,256])\n",
    "plt.legend(('cdf','histogram'), loc = 'upper left')\n",
    "plt.title(\"cdf&&histogram\")\n",
    "plt.show()"
   ]
  },
  {
   "cell_type": "code",
   "execution_count": 80,
   "metadata": {},
   "outputs": [],
   "source": [
    "cdf_m = np.ma.masked_equal(cdf, 0)\n",
    "cdf_m = (cdf_m-cdf_m.min()) * 255 / (cdf_m.max()-cdf_m.min())\n",
    "cdf = np.ma.filled(cdf_m, 0).astype('uint8')"
   ]
  },
  {
   "cell_type": "code",
   "execution_count": 81,
   "metadata": {},
   "outputs": [],
   "source": [
    "img2 = cdf[img]"
   ]
  },
  {
   "cell_type": "code",
   "execution_count": 83,
   "metadata": {},
   "outputs": [
    {
     "data": {
      "text/plain": [
       "True"
      ]
     },
     "execution_count": 83,
     "metadata": {},
     "output_type": "execute_result"
    }
   ],
   "source": [
    "img = cv.imread(img_url, 0)\n",
    "equ = cv.equalizeHist(img)\n",
    "res = np.hstack((img, equ)) # 并排叠加图片\n",
    "cv.imwrite('res.png', res)"
   ]
  },
  {
   "cell_type": "code",
   "execution_count": 84,
   "metadata": {},
   "outputs": [
    {
     "data": {
      "text/plain": [
       "True"
      ]
     },
     "execution_count": 84,
     "metadata": {},
     "output_type": "execute_result"
    }
   ],
   "source": [
    "import numpy as np\n",
    "import cv2 as cv\n",
    "\n",
    "img = cv.imread(img_url, 0)\n",
    "\n",
    "# create a CLAHE object (Arguments are optional).\n",
    "clahe = cv.createCLAHE(clipLimit=2.0, tileGridSize=(8,8))\n",
    "cl1 = clahe.apply(img)\n",
    "\n",
    "cv.imwrite('clahe_2.jpg', cl1)"
   ]
  },
  {
   "cell_type": "code",
   "execution_count": null,
   "metadata": {},
   "outputs": [],
   "source": []
  }
 ],
 "metadata": {
  "kernelspec": {
   "display_name": "img",
   "language": "python",
   "name": "img"
  },
  "language_info": {
   "codemirror_mode": {
    "name": "ipython",
    "version": 3
   },
   "file_extension": ".py",
   "mimetype": "text/x-python",
   "name": "python",
   "nbconvert_exporter": "python",
   "pygments_lexer": "ipython3",
   "version": "3.5.6"
  }
 },
 "nbformat": 4,
 "nbformat_minor": 2
}
