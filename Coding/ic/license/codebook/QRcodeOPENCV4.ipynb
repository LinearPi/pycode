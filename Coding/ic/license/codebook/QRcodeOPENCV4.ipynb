{
 "cells": [
  {
   "cell_type": "code",
   "execution_count": 2,
   "metadata": {},
   "outputs": [],
   "source": [
    "import cv2\n",
    "import numpy as np\n",
    "import pandas as pd\n",
    "import pyzbar.pyzbar as pyzbar"
   ]
  },
  {
   "cell_type": "code",
   "execution_count": 3,
   "metadata": {},
   "outputs": [],
   "source": [
    "import sys\n",
    "import time\n",
    "import matplotlib.pyplot as plt"
   ]
  },
  {
   "cell_type": "code",
   "execution_count": 3,
   "metadata": {},
   "outputs": [],
   "source": [
    "inputimage = cv2.imread(\"code2.jpg\")"
   ]
  },
  {
   "cell_type": "code",
   "execution_count": 4,
   "metadata": {},
   "outputs": [],
   "source": [
    "def display(im, bbox):\n",
    "    n = len(bbox)\n",
    "    for j in range(n):\n",
    "        cv2.line(im. tuple(bbox[j][0]), tuple(bbox[(j+1)% n][0]),(255,0,0,),3)\n",
    "    cv2.imshow(\"results\", im)"
   ]
  },
  {
   "cell_type": "code",
   "execution_count": 5,
   "metadata": {},
   "outputs": [
    {
     "name": "stdout",
     "output_type": "stream",
     "text": [
      "\n"
     ]
    }
   ],
   "source": [
    "qrDecoder = cv2.QRCodeDetector()\n",
    "data, bbox, rectifiedImage = qrDecoder.detectAndDecode(inputimage)\n",
    "print(data)\n",
    "if len(data) > 0:\n",
    "    print(\"Decoded Data : {}\".format(data))\n",
    "    display(inputimage, bbox)\n",
    "    rectifiedImage = np.uint8(rectifiedImage)\n",
    "cv2.imshow(\"Rectified QRCODE\", inputimage)\n",
    "cv2.waitKey(0)\n",
    "cv2.destroyAllWindows()"
   ]
  },
  {
   "cell_type": "code",
   "execution_count": 2,
   "metadata": {},
   "outputs": [
    {
     "name": "stdout",
     "output_type": "stream",
     "text": [
      "https://u.wechat.com/EGFL8LwEP3ABrPOHZX1K89E\n",
      "https://u.wechat.com/EGFL8LwEP3ABrPOHZX1K89E\n",
      "https://u.wechat.com/EGFL8LwEP3ABrPOHZX1K89E\n",
      "https://u.wechat.com/EGFL8LwEP3ABrPOHZX1K89E\n",
      "https://u.wechat.com/EGFL8LwEP3ABrPOHZX1K89E\n",
      "https://u.wechat.com/EGFL8LwEP3ABrPOHZX1K89E\n",
      "https://u.wechat.com/EGFL8LwEP3ABrPOHZX1K89E\n",
      "https://u.wechat.com/EGFL8LwEP3ABrPOHZX1K89E\n",
      "https://u.wechat.com/EGFL8LwEP3ABrPOHZX1K89E\n",
      "https://u.wechat.com/EGFL8LwEP3ABrPOHZX1K89E\n",
      "https://u.wechat.com/EGFL8LwEP3ABrPOHZX1K89E\n",
      "https://u.wechat.com/EGFL8LwEP3ABrPOHZX1K89E\n",
      "https://u.wechat.com/EGFL8LwEP3ABrPOHZX1K89E\n",
      "https://u.wechat.com/EGFL8LwEP3ABrPOHZX1K89E\n",
      "https://u.wechat.com/EGFL8LwEP3ABrPOHZX1K89E\n",
      "https://u.wechat.com/EGFL8LwEP3ABrPOHZX1K89E\n",
      "https://u.wechat.com/EGFL8LwEP3ABrPOHZX1K89E\n",
      "https://u.wechat.com/EGFL8LwEP3ABrPOHZX1K89E\n",
      "https://u.wechat.com/EGFL8LwEP3ABrPOHZX1K89E\n",
      "https://u.wechat.com/EGFL8LwEP3ABrPOHZX1K89E\n",
      "https://u.wechat.com/EGFL8LwEP3ABrPOHZX1K89E\n",
      "https://u.wechat.com/EGFL8LwEP3ABrPOHZX1K89E\n",
      "https://u.wechat.com/EGFL8LwEP3ABrPOHZX1K89E\n",
      "https://u.wechat.com/EGFL8LwEP3ABrPOHZX1K89E\n",
      "https://u.wechat.com/EGFL8LwEP3ABrPOHZX1K89E\n",
      "https://u.wechat.com/EGFL8LwEP3ABrPOHZX1K89E\n",
      "https://u.wechat.com/EGFL8LwEP3ABrPOHZX1K89E\n",
      "https://u.wechat.com/EGFL8LwEP3ABrPOHZX1K89E\n",
      "https://u.wechat.com/MCk3tNr16oM0ZsnWN6zh4NI\n",
      "https://u.wechat.com/MCk3tNr16oM0ZsnWN6zh4NI\n",
      "https://u.wechat.com/MCk3tNr16oM0ZsnWN6zh4NI\n",
      "https://u.wechat.com/MCk3tNr16oM0ZsnWN6zh4NI\n",
      "https://u.wechat.com/MCk3tNr16oM0ZsnWN6zh4NI\n",
      "https://u.wechat.com/MCk3tNr16oM0ZsnWN6zh4NI\n",
      "https://u.wechat.com/MCk3tNr16oM0ZsnWN6zh4NI\n",
      "https://u.wechat.com/MCk3tNr16oM0ZsnWN6zh4NI\n",
      "https://u.wechat.com/MCk3tNr16oM0ZsnWN6zh4NI\n",
      "https://u.wechat.com/MCk3tNr16oM0ZsnWN6zh4NI\n",
      "https://u.wechat.com/MCk3tNr16oM0ZsnWN6zh4NI\n",
      "https://u.wechat.com/MCk3tNr16oM0ZsnWN6zh4NI\n",
      "https://u.wechat.com/MCk3tNr16oM0ZsnWN6zh4NI\n",
      "https://u.wechat.com/MCk3tNr16oM0ZsnWN6zh4NI\n",
      "https://u.wechat.com/MCk3tNr16oM0ZsnWN6zh4NI\n",
      "https://u.wechat.com/MCk3tNr16oM0ZsnWN6zh4NI\n",
      "https://u.wechat.com/MCk3tNr16oM0ZsnWN6zh4NI\n",
      "https://u.wechat.com/MCk3tNr16oM0ZsnWN6zh4NI\n",
      "https://u.wechat.com/MCk3tNr16oM0ZsnWN6zh4NI\n",
      "https://u.wechat.com/MCk3tNr16oM0ZsnWN6zh4NI\n",
      "https://u.wechat.com/MCk3tNr16oM0ZsnWN6zh4NI\n",
      "https://u.wechat.com/MCk3tNr16oM0ZsnWN6zh4NI\n",
      "https://u.wechat.com/MCk3tNr16oM0ZsnWN6zh4NI\n",
      "https://u.wechat.com/MCk3tNr16oM0ZsnWN6zh4NI\n",
      "https://u.wechat.com/MCk3tNr16oM0ZsnWN6zh4NI\n",
      "https://u.wechat.com/MCk3tNr16oM0ZsnWN6zh4NI\n",
      "https://u.wechat.com/MCk3tNr16oM0ZsnWN6zh4NI\n",
      "https://u.wechat.com/MCk3tNr16oM0ZsnWN6zh4NI\n",
      "https://u.wechat.com/MCk3tNr16oM0ZsnWN6zh4NI\n",
      "https://u.wechat.com/MCk3tNr16oM0ZsnWN6zh4NI\n",
      "https://u.wechat.com/MCk3tNr16oM0ZsnWN6zh4NI\n",
      "https://u.wechat.com/MCk3tNr16oM0ZsnWN6zh4NI\n",
      "https://u.wechat.com/MCk3tNr16oM0ZsnWN6zh4NI\n",
      "https://u.wechat.com/MCk3tNr16oM0ZsnWN6zh4NI\n",
      "https://u.wechat.com/MCk3tNr16oM0ZsnWN6zh4NI\n",
      "https://u.wechat.com/MCk3tNr16oM0ZsnWN6zh4NI\n",
      "https://u.wechat.com/MCk3tNr16oM0ZsnWN6zh4NI\n",
      "658308\n"
     ]
    }
   ],
   "source": [
    "import numpy as np\n",
    "import cv2\n",
    "cap = cv2.VideoCapture(1)\n",
    "# fourcc = cv2.VideoWriter_fourcc(*'XVID')\n",
    "# out = cv2.VideoWriter('output.avi',fourcc, 20.0, (640,480))\n",
    "while(True): \n",
    "    ret, frame = cap.read() \n",
    "    gray = cv2.cvtColor(frame, cv2.COLOR_BGR2GRAY) \n",
    "#     qrDecoder = cv2.QRCodeDetector()\n",
    "#     data, bbox, rectifiedImage = qrDecoder.detectAndDecode(gray)\n",
    "    inforesout = pyzbar.decode(gray)\n",
    "    for dadada in inforesout:\n",
    "        print(dadada.data.decode(\"utf-8\"))\n",
    "#     if len(data) > 0:\n",
    "#         print(\"Decoded Data : {}\".format(data))\n",
    "#         display(gray, bbox)\n",
    "#         rectifiedImage = np.uint8(rectifiedImage)\n",
    "\n",
    "# #         out.write(frame) \n",
    "    cv2.imshow('frame',gray) \n",
    "    if cv2.waitKey(1) & 0xFF == ord('q'): \n",
    "        break\n",
    "cap.release()\n",
    "# out.release()\n",
    "cv2.destroyAllWindows()"
   ]
  },
  {
   "cell_type": "code",
   "execution_count": 4,
   "metadata": {},
   "outputs": [
    {
     "name": "stdout",
     "output_type": "stream",
     "text": [
      "统一社会信用代码：91510100MA6AQPBR8H\r\n",
      "企业注册号：510109001600056\r\n",
      "名称：成都西辰易通科技有限公司\r\n",
      "登记机关：成都市高新工商行政管理局\r\n",
      "登记日期：2019-01-28\r\n",
      "企业信用信息公示系统网址：http://gsxt.scaic.gov.cn  http://gsxt.cdcredit.gov.cn\n",
      "统一社会信用代码：91510100MA6AQPBR8H\r\n",
      "企业注册号：510109001600056\r\n",
      "名称：成都西辰易通科技有限公司\r\n",
      "登记机关：成都市高新工商行政管理局\r\n",
      "登记日期：2019-01-28\r\n",
      "企业信用信息公示系统网址：http://gsxt.scaic.gov.cn  http://gsxt.cdcredit.gov.cn\n"
     ]
    }
   ],
   "source": [
    "inputimage = cv2.imread(\"F:\\PYcode\\Coding\\ic\\license\\source_img\\AAA.jpg\")\n",
    "inforesout = pyzbar.decode(inputimage)\n",
    "for dadada in inforesout:\n",
    "    print(dadada.data.decode(\"utf-8\"))\n",
    "    "
   ]
  },
  {
   "cell_type": "code",
   "execution_count": null,
   "metadata": {},
   "outputs": [],
   "source": [
    "# -*- coding: utf-8 -*-\n",
    "\"\"\"\n",
    "Created on Wed Jul 26 13:56:41 2017\n",
    "\n",
    "@author: cross\n",
    "\"\"\"\n",
    "import numpy as np\n",
    "import cv2\n",
    "import random\n",
    "\n",
    "if __name__ == '__main__':\n",
    "\n",
    "    img = cv2.imread( r\"F:\\PYcode\\Coding\\ic\\license\\source_img\\4.jpg\",4)\n",
    "    h, w = img.shape[:2]\n",
    "    mask = np.zeros((h+2, w+2), np.uint8)\n",
    "    seed_pt = None\n",
    "    fixed_range = True\n",
    "    connectivity = 4\n",
    "\n",
    "    def update(dummy=None):\n",
    "        if seed_pt is None:\n",
    "            cv2.imshow('floodfill', img)\n",
    "            return\n",
    "        flooded = img.copy()\n",
    "        mask[:] = 1\n",
    "        lo = cv2.getTrackbarPos('lo', 'floodfill')\n",
    "        hi = cv2.getTrackbarPos('hi', 'floodfill')\n",
    "        flags = connectivity\n",
    "        if fixed_range:\n",
    "            flags |= cv2.FLOODFILL_FIXED_RANGE \n",
    "\n",
    "        cv2.floodFill(flooded, mask, seed_pt, (random.randint(0,255), random.randint(0,255), random.randint(0,255)), (lo,)*3, (hi,)*3, flags)\n",
    "\n",
    "        cv2.circle(flooded, seed_pt, 2, (0, 0, 255), -1)#选定基准点用红色圆点标出\n",
    "        cv2.imshow('floodfill', flooded)\n",
    "\n",
    "    def onmouse(event, x, y, flags, param):#鼠标响应函数\n",
    "        global seed_pt\n",
    "        if flags & cv2.EVENT_FLAG_LBUTTON:#鼠标左键响应，选择漫水填充基准点\n",
    "            seed_pt = x, y\n",
    "            update()\n",
    "\n",
    "    update()\n",
    "    cv2.setMouseCallback('floodfill', onmouse)\n",
    "    cv2.createTrackbar('lo', 'floodfill', 20, 255, update)\n",
    "    cv2.createTrackbar('hi', 'floodfill', 20, 255, update)\n",
    "\n",
    "    while True:\n",
    "        ch = 0xFF & cv2.waitKey()\n",
    "        if ch == 27:\n",
    "            break\n",
    "        if ch == ord('f'):\n",
    "            fixed_range = not fixed_range #选定时flags的高位比特位0，也就是邻域的选定为当前像素与相邻像素的的差，这样的效果就是联通区域会很大\n",
    "            print('using %s range' % ('floating', 'fixed')[fixed_range])\n",
    "            update()\n",
    "        if ch == ord('c'):\n",
    "            connectivity = 12-connectivity #选择4方向或则8方向种子扩散\n",
    "            print('connectivity =', connectivity)\n",
    "            update()\n",
    "    cv2.destroyAllWindows()   "
   ]
  },
  {
   "cell_type": "code",
   "execution_count": null,
   "metadata": {},
   "outputs": [],
   "source": []
  }
 ],
 "metadata": {
  "kernelspec": {
   "display_name": "ic",
   "language": "python",
   "name": "ic"
  },
  "language_info": {
   "codemirror_mode": {
    "name": "ipython",
    "version": 3
   },
   "file_extension": ".py",
   "mimetype": "text/x-python",
   "name": "python",
   "nbconvert_exporter": "python",
   "pygments_lexer": "ipython3",
   "version": "3.7.2"
  }
 },
 "nbformat": 4,
 "nbformat_minor": 2
}
