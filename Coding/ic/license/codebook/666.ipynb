{
 "cells": [
  {
   "cell_type": "code",
   "execution_count": 26,
   "metadata": {},
   "outputs": [],
   "source": [
    "import cv2\n",
    "import matplotlib.pyplot as plt\n",
    "import numpy as np\n",
    "\n",
    "import glob\n",
    "import os\n",
    "import imutils\n",
    "from imutils.perspective import four_point_transform\n",
    "\n",
    "%matplotlib inline\n"
   ]
  },
  {
   "cell_type": "code",
   "execution_count": 30,
   "metadata": {},
   "outputs": [],
   "source": [
    "def map_img(image_url):\n",
    "    # 读取图片\n",
    "    image = cv2.imread(image_url)\n",
    "    width, height = image.shape[:2]\n",
    "    # 转灰色\n",
    "    gray = cv2.cvtColor(image, cv2.COLOR_BGR2GRAY)\n",
    "    # 高斯滤波\n",
    "    blurred = cv2.GaussianBlur(gray, (5, 5), 0)\n",
    "    # 自适应二值化方法\n",
    "    blurred = cv2.adaptiveThreshold(blurred, 255, cv2.ADAPTIVE_THRESH_MEAN_C, cv2.THRESH_BINARY, 51, 2)\n",
    "    # 找到边框\n",
    "    edged = cv2.Canny(blurred, 10, 100)\n",
    "    # 找到矩阵\n",
    "    cnts = cv2.findContours(edged, cv2.RETR_EXTERNAL, cv2.CHAIN_APPROX_SIMPLE)\n",
    "    cnts = cnts[0] if imutils.is_cv2() else cnts[1]\n",
    "    docCnt = None\n",
    "    if len(cnts) > 0:\n",
    "        # 将轮廓按大小降序排序\n",
    "        cnts = sorted(cnts, key=cv2.contourArea, reverse=True)\n",
    "        # 对排序后的轮廓循环处理\n",
    "    for c in cnts:\n",
    "        # 获取近似的轮廓\n",
    "        peri = cv2.arcLength(c, True)\n",
    "        approx = cv2.approxPolyDP(c, 0.02 * peri, True)\n",
    "        # 如果近似轮廓有四个顶点，那么就认为找到了图片\n",
    "        if len(approx) == 4:\n",
    "            docCnt = approx\n",
    "            break\n",
    "    newimage = image.copy()\n",
    "    for i in docCnt:\n",
    "        # circle函数为在图像上作图，新建了一个图像用来演示四角选取\n",
    "        cv2.circle(newimage, (i[0][0], i[0][1]), 10, (255, 0, 0), -1)\n",
    "    # 使用transform 做映射\n",
    "    paper = four_point_transform(image, docCnt.reshape(4, 2))\n",
    "    outimg = paper[int(paper.shape[0] * 0.02):int(paper.shape[0] * 0.98),\n",
    "             int(paper.shape[1] * 0.02):int(paper.shape[1] * 0.98)]\n",
    "    cv2.imwrite(image_url, outimg)\n",
    "    return outimg"
   ]
  },
  {
   "cell_type": "code",
   "execution_count": 20,
   "metadata": {},
   "outputs": [],
   "source": [
    "DATA_DIR = r\"F:\\PYcode\\coding\\ic\\license\\codebook\"\n",
    "\n",
    "im_names = glob.glob(os.path.join(DATA_DIR, 'sou', '*.png')) + \\\n",
    "               glob.glob(os.path.join(DATA_DIR, 'sou', '*.jpg'))\n"
   ]
  },
  {
   "cell_type": "code",
   "execution_count": 31,
   "metadata": {},
   "outputs": [],
   "source": [
    "for im_name in im_names:\n",
    "    map_img(im_name)"
   ]
  },
  {
   "cell_type": "code",
   "execution_count": 32,
   "metadata": {},
   "outputs": [],
   "source": [
    "sam_img = cv2.imread(r\"001.png\",cv2.IMREAD_GRAYSCALE)"
   ]
  },
  {
   "cell_type": "code",
   "execution_count": 41,
   "metadata": {},
   "outputs": [],
   "source": [
    "big_img = cv2.imread(r\"F:/PYcode/coding/ic/license/codebook/sou/002.jpg\")"
   ]
  },
  {
   "cell_type": "code",
   "execution_count": 42,
   "metadata": {},
   "outputs": [],
   "source": [
    "big_img = cv2.cvtColor(img_rgb, cv2.COLOR_RGB2GRAY)\n",
    "\n",
    "w, h = sam_img.shape[::-1]\n",
    "\n",
    "\n",
    "res = cv2.matchTemplate(big_img,sam_img,cv2.TM_CCOEFF_NORMED)\n",
    "threshold = 0.8\n",
    "loc = np.where( res >= threshold)\n",
    "\n",
    "\n",
    "\n",
    "for pt in zip(*loc[::-1]): \n",
    "    cv2.rectangle(img_rgb, pt, (pt[0] + w, pt[1] + h), (0,255,255), 2)\n",
    "    cv2.imshow('Detected',img_rgb)\n",
    "cv2.imwrite(\"new.jpg\", img_rgb)\n",
    "cv2.waitKey(0)\n",
    "cv2.destroyAllWindows()"
   ]
  },
  {
   "cell_type": "code",
   "execution_count": 1,
   "metadata": {},
   "outputs": [],
   "source": [
    "def rec(n):\n",
    "    if n < 2:\n",
    "        return 1\n",
    "    return rec(n//2)+rec(n//4)\n"
   ]
  },
  {
   "cell_type": "code",
   "execution_count": null,
   "metadata": {},
   "outputs": [],
   "source": [
    "sa = rec(12345678987654321)"
   ]
  },
  {
   "cell_type": "code",
   "execution_count": null,
   "metadata": {},
   "outputs": [],
   "source": []
  }
 ],
 "metadata": {
  "kernelspec": {
   "display_name": "img",
   "language": "python",
   "name": "img"
  },
  "language_info": {
   "codemirror_mode": {
    "name": "ipython",
    "version": 3
   },
   "file_extension": ".py",
   "mimetype": "text/x-python",
   "name": "python",
   "nbconvert_exporter": "python",
   "pygments_lexer": "ipython3",
   "version": "3.6.8"
  }
 },
 "nbformat": 4,
 "nbformat_minor": 2
}
