{
 "cells": [
  {
   "cell_type": "markdown",
   "metadata": {},
   "source": [
    "## 证照识别V2.1\n",
    "1. 由于现在的证照的与原来的证照的图片有点不一样, 上次的的营业执照的图片有一个长方形的图片在外面,可以很好的识别出来这个,\n",
    "2. 现在的营业执照上面也有一个长方形的外框,不过在这个外壳上面有一个国徽.\n",
    "3. 如果和以前一样识别那种长方形的框,这个框会识别不出来.\n",
    "4. 觉得采用新的识别方式,先识别出有字的地方,然后在识别出对应的字\n",
    "5. 参考:https://blog.csdn.net/dcrmg/article/details/52095508\n",
    "6. 步骤如下:\n",
    "    1. 先识别二维码的信息\n",
    "    2. 在识别具体的信息\n",
    "        1. 通过最大池化，保留图片的最大属性\n",
    "        1. 原图像大小调整，提高运算效率\n",
    "        2. 转化为灰度图\n",
    "        3. 高斯平滑滤波\n",
    "        4. 求得水平和垂直方向灰度图像的梯度差,使用Sobel算子\n",
    "        5. 均值滤波，消除高频噪声\n",
    "        6. 二值化\n",
    "        7. 闭运算，填充条形码间隙\n",
    "        8. 腐蚀，去除孤立的点\n",
    "        9. 膨胀，填充条形码间空隙，根据核的大小，有可能需要2~3次膨胀操作\n",
    "        10. 通过findContours找到条形码区域的矩形边界\n"
   ]
  },
  {
   "cell_type": "code",
   "execution_count": 4,
   "metadata": {},
   "outputs": [],
   "source": [
    "import cv2\n",
    "import numpy as np\n",
    "import pyzbar.pyzbar as pz\n",
    "\n",
    "import torch\n",
    "from torch import nn\n",
    "from torchvision import transforms\n",
    "\n",
    "from PIL import Image, ImageChops\n",
    "import matplotlib.pyplot as plt\n",
    "\n",
    "import pytesseract\n",
    "pytesseract.pytesseract.tesseract_cmd = \"C:/Program Files (x86)/Tesseract-OCR/tesseract.exe\""
   ]
  },
  {
   "cell_type": "code",
   "execution_count": 60,
   "metadata": {},
   "outputs": [],
   "source": [
    "source_img = r\"F:\\PYcode\\Coding\\ic\\license\\source_img\\4.jpg\"\n",
    "maxpool = nn.MaxPool2d(kernel_size=(3,3),stride=2)\n",
    "loader = transforms.Compose([transforms.ToTensor()])"
   ]
  },
  {
   "cell_type": "code",
   "execution_count": 67,
   "metadata": {},
   "outputs": [],
   "source": [
    "# 对于前后背景比较好分离的图片\n"
   ]
  },
  {
   "cell_type": "code",
   "execution_count": 61,
   "metadata": {},
   "outputs": [],
   "source": [
    "# 1.以RGB格式读取图片后 2.反向 3.归一化 4.池化两次。保留最大数据\n",
    "img1= Image.open(source_img).convert(\"RGB\")\n",
    "img1 = ImageChops.invert(img1)\n",
    "image = loader(img1).unsqueeze(0)\n",
    "image_our = maxpool(image)\n",
    "image_our1 = maxpool(image_our)\n",
    "img = image_our1.mul(255).byte().cpu().numpy().squeeze(0).transpose((1, 2, 0))"
   ]
  },
  {
   "cell_type": "code",
   "execution_count": 62,
   "metadata": {},
   "outputs": [],
   "source": [
    "_, img3 = cv2.threshold(img,125,255, cv2.THRESH_BINARY)"
   ]
  },
  {
   "cell_type": "code",
   "execution_count": 64,
   "metadata": {},
   "outputs": [],
   "source": [
    "img4 = 255 - img3\n",
    "cv2.imwrite('save4.jpg',img4)\n",
    "cv2.imshow('img3',img4)\n",
    "cv2.waitKey(0)\n",
    "cv2.destroyAllWindows()"
   ]
  },
  {
   "cell_type": "code",
   "execution_count": 70,
   "metadata": {},
   "outputs": [
    {
     "data": {
      "image/png": "[encoded data removed]",
      "text/plain": [
       "<Figure size 432x288 with 1 Axes>"
      ]
     },
     "metadata": {
      "needs_background": "light"
     },
     "output_type": "display_data"
    }
   ],
   "source": [
    "\n",
    "plt.hist(img4.ravel(),256,[0,256]);\n",
    "plt.show()"
   ]
  },
  {
   "cell_type": "code",
   "execution_count": 72,
   "metadata": {},
   "outputs": [
    {
     "data": {
      "image/png": "[encoded data removed]",
      "text/plain": [
       "<Figure size 432x288 with 1 Axes>"
      ]
     },
     "metadata": {
      "needs_background": "light"
     },
     "output_type": "display_data"
    }
   ],
   "source": [
    "\n",
    "color = ('b','g','r')\n",
    "\n",
    "for i,col in enumerate(color):\n",
    "    histr = cv2.calcHist([img4],[i],None,[256],[0,256])\n",
    "    plt.plot(histr,color = col)\n",
    "    plt.xlim([0,256])\n",
    "plt.show()\n"
   ]
  },
  {
   "cell_type": "code",
   "execution_count": 77,
   "metadata": {},
   "outputs": [
    {
     "data": {
      "text/plain": [
       "(<matplotlib.axes._subplots.AxesSubplot at 0x14715908>,\n",
       " [<matplotlib.lines.Line2D at 0x14a4d6a0>])"
      ]
     },
     "execution_count": 77,
     "metadata": {},
     "output_type": "execute_result"
    },
    {
     "data": {
      "image/png": "[encoded data removed]",
      "text/plain": [
       "<Figure size 432x288 with 4 Axes>"
      ]
     },
     "metadata": {
      "needs_background": "light"
     },
     "output_type": "display_data"
    }
   ],
   "source": [
    "# mg = cv2.imread('flower.jpg',0) #直接读为灰度图像\n",
    "#opencv方法读取-cv2.calcHist（速度最快）\n",
    "#图像，通道[0]-灰度图，掩膜-无，灰度级，像素范围\n",
    "hist_cv = cv2.calcHist([img3],[0],None,[256],[0,256])\n",
    "#numpy方法读取-np.histogram()\n",
    "hist_np,bins = np.histogram(img3.ravel(),256,[0,256])\n",
    "#numpy的另一种方法读取-np.bincount()（速度=10倍法2）\n",
    "hist_np2 = np.bincount(img3.ravel(),minlength=256)\n",
    "plt.subplot(221),plt.imshow(img3,'gray')\n",
    "plt.subplot(222),plt.plot(hist_cv)\n",
    "plt.subplot(223),plt.plot(hist_np)\n",
    "plt.subplot(224),plt.plot(hist_np2)\n"
   ]
  },
  {
   "cell_type": "code",
   "execution_count": null,
   "metadata": {},
   "outputs": [],
   "source": []
  },
  {
   "cell_type": "code",
   "execution_count": null,
   "metadata": {},
   "outputs": [],
   "source": []
  },
  {
   "cell_type": "code",
   "execution_count": null,
   "metadata": {},
   "outputs": [],
   "source": []
  },
  {
   "cell_type": "code",
   "execution_count": 78,
   "metadata": {},
   "outputs": [],
   "source": [
    "# 识别时候用的图片\n",
    "img2 = cv2.cvtColor(img1, cv2.COLOR_BGR2GRAY)\n",
    "_, img3 = cv2.threshold(img2,125,255, cv2.THRESH_BINARY)\n",
    "# img3 = cv2.morphologyEx(threshold,cv2.MORPH_CLOSE, (3,3))\n",
    "# img3 = cv2.erode(img3, (5,5), iterations = 2) \n",
    "# img3 = cv2.dilate(imge, (3,3), iterations = 5)"
   ]
  },
  {
   "cell_type": "code",
   "execution_count": 79,
   "metadata": {},
   "outputs": [],
   "source": [
    "if pz.decode(img1):    \n",
    "    for i in pz.decode(img1):\n",
    "        print(i.data.decode('utf-8'))\n",
    "        print(i.rect)\n",
    "        print(i.polygon)"
   ]
  },
  {
   "cell_type": "code",
   "execution_count": 80,
   "metadata": {},
   "outputs": [],
   "source": [
    "# 图片转灰色\n",
    "img = cv2.cvtColor(img1, cv2.COLOR_RGB2GRAY)"
   ]
  },
  {
   "cell_type": "code",
   "execution_count": 81,
   "metadata": {},
   "outputs": [],
   "source": [
    "# 高斯平滑滤波\n",
    "img = cv2.GaussianBlur(img,(25,25), 0)\n",
    "# bur = cv2.blur(img, (7,7))"
   ]
  },
  {
   "cell_type": "code",
   "execution_count": 82,
   "metadata": {},
   "outputs": [],
   "source": [
    "# 求得水平和垂直方向灰度图像的梯度差,使用Sobel算子\n",
    "#  sobelx = cv2.Sobel(frame,cv2.CV_64F,1,0,ksize=5)\n",
    "imageX = cv2.Sobel(img, cv2.CV_64F,1,0,ksize=5)\n",
    "imageY = cv2.Sobel(img, cv2.CV_64F,0,1,ksize=5)\n",
    "# convertScaleAbs(imageX16S,imageSobelX,1,0);\n",
    "imageSobelX = cv2.convertScaleAbs(imageX, 1.0)\n",
    "imageSobelY = cv2.convertScaleAbs(imageY, 1.0)\n",
    "imageSobelOut = imageSobelX + imageSobelY\n",
    "# 相减不成功，相加成功"
   ]
  },
  {
   "cell_type": "code",
   "execution_count": 83,
   "metadata": {},
   "outputs": [],
   "source": [
    "# 均值滤波，消除高频噪声 blur\n",
    "bur = cv2.blur(imageSobelOut, (25,25))"
   ]
  },
  {
   "cell_type": "code",
   "execution_count": 84,
   "metadata": {},
   "outputs": [],
   "source": [
    "# 二值化 threshold\n",
    "retval,threshold = cv2.threshold(bur,125,255,cv2.THRESH_BINARY + cv2.THRESH_OTSU)"
   ]
  },
  {
   "cell_type": "code",
   "execution_count": 85,
   "metadata": {},
   "outputs": [],
   "source": [
    "# 闭运算，\n",
    "kernel1 = np.ones((5,5),np.uint8)  \n",
    "imgc = cv2.morphologyEx(threshold,cv2.MORPH_CLOSE, kernel1)"
   ]
  },
  {
   "cell_type": "code",
   "execution_count": 86,
   "metadata": {},
   "outputs": [],
   "source": [
    "# 腐蚀，去除孤立的点 erode\n",
    "kernel2 = np.ones((15,15),np.uint8) \n",
    "imge = cv2.erode(imgc, kernel2, iterations = 2) "
   ]
  },
  {
   "cell_type": "code",
   "execution_count": 87,
   "metadata": {},
   "outputs": [],
   "source": [
    "# 膨胀，填充条形码间空隙，根据核的大小，有可能需要2~3次膨胀操作 dilate\n",
    "imgd = cv2.dilate(imge, kernel1, iterations = 15)"
   ]
  },
  {
   "cell_type": "code",
   "execution_count": 73,
   "metadata": {},
   "outputs": [],
   "source": [
    "# 通过findContours找到条形码区域的矩形边界\n",
    "# contours, hierarchy = cv2.findContours(imgd, cv2.RETR_EXTERNAL, cv2.CHAIN_APPROX_NONE)\n",
    "\n",
    "a, contours, hierarchy = cv2.findContours(imgd,cv2.RETR_EXTERNAL,cv2.CHAIN_APPROX_NONE) "
   ]
  },
  {
   "cell_type": "code",
   "execution_count": 89,
   "metadata": {},
   "outputs": [
    {
     "name": "stdout",
     "output_type": "stream",
     "text": [
      "img2 业 执 照\n",
      "\n",
      "统 一 社 会 信 用 代 码 91510100MA6AQPBRSH\n",
      "\n",
      "名 称 成 都 西 辰 易 通 科 技 有 限 公 司\n",
      ": 娄 型 有 限 资 任 公 司 自然 人 投 资 或 控 股 的 法 人 独 资 )\n",
      "口 位 , 所 MB 新 区 科 园 三 路 4 吏 1 栋 12 层 2 号\n",
      "\n",
      "法 定 代 表 人 张 :\n",
      "\n",
      "“ 注 册 资 本 人 R 酉 竖 7 元\n",
      "司 成 立 日 期 2ols#f1 月 s\n",
      "\n",
      "营 业 期 限 20184f1 月 23 日 至 办 么\n",
      "\n",
      ": 计 朱林 拐 永基 。 技 案 淇 。 技 札 转 出 、 技 术 服 务 , 电 丁 产 的\n",
      "经 苛 范 国 红 语\n",
      "。 ( 技 沥 , 撸撸扇万j齐l幄l晒耐\n",
      "\n",
      " \n",
      "    \n",
      "\n",
      "4\n",
      "鳢l‖l‖疃噱【龋巽鄢=′ ˇ 巾 余 人 华科 医 国 梁 工 直行 政 算 玲 走 故 剑\n",
      "\n",
      "__) iii\n"
     ]
    }
   ],
   "source": [
    "box_list = []\n",
    "i = 1\n",
    "for contour in contours:\n",
    "    if cv2.contourArea(contour) < 100:\n",
    "        continue\n",
    "    else:\n",
    "        rect = cv2.minAreaRect(contour)\n",
    "        box = cv2.boxPoints(rect)\n",
    "        box = np.int0(box)\n",
    "        cv2.drawContours(img1, [box], 0, (0, 0, 255), 2)\n",
    "        box_list.append(box)\n",
    "        x, y, w, h = cv2.boundingRect(box)\n",
    "        resout = pytesseract.image_to_string(img1[ y:(y+h), x:(x+w)], lang='chi_sim')\n",
    "        if resout:\n",
    "            cv2.imwrite(\"img_out\\q%s.jpg\"%(i), img1[ y:(y+h), x:(x+w)])\n",
    "            print(\"img%s\"%(i), resout)\n",
    "        i += 1\n"
   ]
  },
  {
   "cell_type": "code",
   "execution_count": 23,
   "metadata": {
    "scrolled": true
   },
   "outputs": [
    {
     "data": {
      "text/plain": [
       "True"
      ]
     },
     "execution_count": 23,
     "metadata": {},
     "output_type": "execute_result"
    }
   ],
   "source": [
    "cv2.imwrite('save3.jpg',img3)"
   ]
  },
  {
   "cell_type": "code",
   "execution_count": null,
   "metadata": {},
   "outputs": [],
   "source": [
    "img2gray = cv2.cvtColor(img1, cv2.COLOR_BGR2GRAY)\n",
    "\n",
    "imageVar = cv2.Laplacian(img2gray, cv2.CV_64F).var()\n",
    "cv2.imshow('imageVar',imageVar)\n",
    "cv2.waitKey(0)\n",
    "cv2.destroyAllWindows()"
   ]
  },
  {
   "cell_type": "code",
   "execution_count": null,
   "metadata": {},
   "outputs": [],
   "source": []
  },
  {
   "cell_type": "code",
   "execution_count": 43,
   "metadata": {},
   "outputs": [
    {
     "data": {
      "text/plain": [
       "(3111, 4574, 87, 34)"
      ]
     },
     "execution_count": 43,
     "metadata": {},
     "output_type": "execute_result"
    }
   ],
   "source": [
    "x, y, w, h = cv2.boundingRect(box_list[1])\n",
    "x, y, w, h"
   ]
  },
  {
   "cell_type": "code",
   "execution_count": 45,
   "metadata": {},
   "outputs": [],
   "source": [
    "resout = pytesseract.image_to_string(img1[y:(y+h),x:(x+w)])"
   ]
  },
  {
   "cell_type": "code",
   "execution_count": 31,
   "metadata": {},
   "outputs": [],
   "source": [
    "imgxx = img1[860:1250, 900:2700]"
   ]
  },
  {
   "cell_type": "code",
   "execution_count": 9,
   "metadata": {},
   "outputs": [],
   "source": [
    "# equ = cv2.equalizeHist(imgg) # 只能传入灰度图\n",
    "# res = np.hstack((imgg,equ))  # 图像列拼接（用于显示）\n",
    "cv2.imshow('img',img)\n",
    "cv2.waitKey(0)\n",
    "cv2.destroyAllWindows()"
   ]
  },
  {
   "cell_type": "markdown",
   "metadata": {},
   "source": [
    "### 结束\n",
    "------\n",
    "***\n"
   ]
  },
  {
   "cell_type": "code",
   "execution_count": null,
   "metadata": {},
   "outputs": [],
   "source": [
    "clahe = cv2.createCLAHE(clipLimit=2.0, tileGridSize=(8,8))\n",
    "cl1 = clahe.apply(imgg)\n",
    "\n",
    "cv2.imshow('img',imgg)\n",
    "cv2.imshow('cl1',cl1)\n",
    "cv2.waitKey(0)\n",
    "cv2.destroyAllWindows()\n"
   ]
  },
  {
   "cell_type": "code",
   "execution_count": null,
   "metadata": {},
   "outputs": [],
   "source": [
    "import numpy as np\n",
    "import cv2\n",
    " \n",
    "def ComputeHist(img):\n",
    "    h,w = img.shape\n",
    "    hist, bin_edge = np.histogram(img.reshape(1,w*h), bins=list(range(257)))\n",
    "    return hist\n",
    "    \n",
    "def ComputeMinLevel(hist, rate, pnum):\n",
    "    sum = 0\n",
    "    for i in range(256):\n",
    "        sum += hist[i]\n",
    "        if (sum >= (pnum * rate * 0.01)):\n",
    "            return i\n",
    "            \n",
    "def ComputeMaxLevel(hist, rate, pnum):\n",
    "    sum = 0\n",
    "    for i in range(256):\n",
    "        sum += hist[255-i]\n",
    "        if (sum >= (pnum * rate * 0.01)):\n",
    "            return 255-i\n",
    "            \n",
    "def LinearMap(minlevel, maxlevel):\n",
    "    if (minlevel >= maxlevel):\n",
    "        return []\n",
    "    else:\n",
    "        newmap = np.zeros(256)\n",
    "        for i in range(256):    #获取阈值外的像素值 i< minlevel，i> maxlevel\n",
    "            if (i < minlevel):\n",
    "                newmap[i] = 0\n",
    "            elif (i > maxlevel):\n",
    "                newmap[i] = 255\n",
    "            else:\n",
    "                newmap[i] = (i-minlevel)/(maxlevel-minlevel) * 255\n",
    "        return newmap\n",
    "        \n",
    "def CreateNewImg(img):\n",
    "    h,w,d = img.shape\n",
    "    newimg = np.zeros([h,w,d])\n",
    "    for i in range(d):\n",
    "        imgmin = np.min(img[:,:,i])\n",
    "        imgmax = np.max(img[:,:,i])\n",
    "        imghist = ComputeHist(img[:,:,i])\n",
    "        minlevel = ComputeMinLevel(imghist, 8.3, h*w)\n",
    "        maxlevel = ComputeMaxLevel(imghist, 2.2, h*w)\n",
    "        newmap = LinearMap(minlevel,maxlevel)\n",
    "        if (newmap.size ==0 ):\n",
    "            continue\n",
    "        for j in range(h):\n",
    "            newimg[j,:,i] = newmap[img[j,:, i]]\n",
    "    return newimg\n",
    "\n",
    "\n",
    "if __name__ == '__main__':\n",
    "    img1 = cv2.imread(r\"F:\\PYcode\\Coding\\ic\\license\\source_img\\6.jpg\")\n",
    "    img = cv2.resize(img1,(563,750))    \n",
    "    newimg = CreateNewImg(img)\n",
    "    cv2.imshow('original_img', img)\n",
    "    cv2.imshow('new_img', newimg/255)\n",
    "    cv2.waitKey(0)\n",
    "    cv2.destroyAllWindows()\n"
   ]
  },
  {
   "cell_type": "code",
   "execution_count": null,
   "metadata": {},
   "outputs": [],
   "source": [
    "imga  = cv2.imread(r'F:\\PYcode\\faceinfo\\tree.jpg')\n",
    "B,G,R = cv2.split(imga)"
   ]
  },
  {
   "cell_type": "code",
   "execution_count": null,
   "metadata": {},
   "outputs": [],
   "source": [
    "mb = B.mean()\n",
    "mg = G.mean()\n",
    "mr = R.mean()\n",
    "kb = (mb + mg + mr) / (3 * mb)\n",
    "kg = (mb + mg + mr) / (3 * mg)\n",
    "kr = (mb + mg + mr) / (3 * mr)\n",
    "B = B * kb\n",
    "G = G * kg\n",
    "R = R * kr"
   ]
  },
  {
   "cell_type": "code",
   "execution_count": null,
   "metadata": {},
   "outputs": [],
   "source": [
    "new_img = cv2.merge([R,G,B])"
   ]
  },
  {
   "cell_type": "code",
   "execution_count": 61,
   "metadata": {},
   "outputs": [],
   "source": []
  },
  {
   "cell_type": "code",
   "execution_count": null,
   "metadata": {},
   "outputs": [],
   "source": [
    "import cv2\n",
    "import numpy as np\n",
    "from matplotlib import pyplot as plt\n",
    "\n",
    "img = cv2.imread(r\"F:\\PYcode\\Coding\\ic\\license\\source_img\\6.jpg\",0)\n",
    "# img = cv2.resize(img,(563,750))\n",
    "\n",
    "img = cv2.medianBlur(img,5)\n",
    "\n",
    "ret,th1 = cv2.threshold(img,127,255,cv2.THRESH_BINARY)\n",
    "th2 = cv2.adaptiveThreshold(img,255,cv2.ADAPTIVE_THRESH_MEAN_C,\\\n",
    "            cv2.THRESH_BINARY,11,2)\n",
    "th3 = cv2.adaptiveThreshold(img,255,cv2.ADAPTIVE_THRESH_GAUSSIAN_C,\\\n",
    "            cv2.THRESH_BINARY,11,2)\n",
    "\n",
    "titles = ['Original Image', 'Global Thresholding (v = 127)',\n",
    "            'Adaptive Mean Thresholding', 'Adaptive Gaussian Thresholding']\n",
    "images = [img, th1, th2, th3]\n",
    "\n",
    "for i in range(4):\n",
    "    plt.subplot(2,2,i+1),plt.imshow(images[i],'gray')\n",
    "    plt.title(titles[i])\n",
    "    plt.xticks([]),plt.yticks([])\n",
    "plt.show()\n"
   ]
  },
  {
   "cell_type": "code",
   "execution_count": null,
   "metadata": {},
   "outputs": [],
   "source": [
    "cv2.imwrite(\"th3.jpg\",th3)\n",
    "cv2.waitKey(0)\n",
    "cv2.destroyAllWindows()"
   ]
  },
  {
   "cell_type": "code",
   "execution_count": null,
   "metadata": {},
   "outputs": [],
   "source": [
    "# 颜色各通道的直方图\n",
    "def calcAndDrawHist(image, color):  \n",
    "    hist= cv2.calcHist([image], [0], None, [256], [0.0,255.0])  \n",
    "    minVal, maxVal, minLoc, maxLoc = cv2.minMaxLoc(hist)  \n",
    "    histImg = np.zeros([256,256,3], np.uint8)  \n",
    "    hpt = int(0.9* 256);  \n",
    "\n",
    "    for h in range(256):  \n",
    "        intensity = int(hist[h]*hpt/maxVal)  \n",
    "        cv2.line(histImg,(h,256), (h,256-intensity), color)  \n",
    "\n",
    "    return histImg\n",
    "import numpy as np\n",
    "b, g, r = cv2.split(imga)  \n",
    "histImgB = calcAndDrawHist(b, [255, 0, 0])  \n",
    "histImgG = calcAndDrawHist(g, [0, 255, 0])  \n",
    "histImgR = calcAndDrawHist(r, [0, 0, 255])  \n",
    "\n",
    "cv2.imshow(\"histImgB\", histImgB)  \n",
    "cv2.imshow(\"histImgG\", histImgG)  \n",
    "cv2.imshow(\"histImgR\", histImgR)  \n",
    "cv2.imshow(\"Img\", img)  \n",
    "cv2.waitKey(0)  \n",
    "cv2.destroyAllWindows() "
   ]
  },
  {
   "cell_type": "code",
   "execution_count": null,
   "metadata": {},
   "outputs": [],
   "source": []
  },
  {
   "cell_type": "code",
   "execution_count": 21,
   "metadata": {},
   "outputs": [],
   "source": [
    "import cv2  \n",
    "  \n",
    "img = cv2.imread(r'F:\\PYcode\\faceinfo\\4.jpg')  \n",
    "gray = cv2.cvtColor(img,cv2.COLOR_BGR2GRAY)  \n",
    "ret, binary = cv2.threshold(gray,127,255,cv2.THRESH_BINARY)  \n",
    "  \n",
    "_, contours, hierarchy = cv2.findContours(binary,cv2.RETR_TREE,cv2.CHAIN_APPROX_SIMPLE)  \n",
    "cv2.drawContours(img,contours,-1,(0,0,255),1)  \n",
    "  \n",
    "cv2.imshow(\"img\", img)  \n",
    "cv2.waitKey(0)  \n",
    "cv2.destroyAllWindows() "
   ]
  },
  {
   "cell_type": "code",
   "execution_count": 25,
   "metadata": {},
   "outputs": [],
   "source": [
    "\n",
    "for contour in contours:\n",
    "    #计算一个简单的边界框\n",
    "    x,y,w,h = cv2.boundingRect(contour)\n",
    "    #画出边界框\n",
    "    cv2.rectangle(img, (x,y), (x+w, y+h),(0,0,255),2)\n",
    "    #计算包围目标的最小矩形区域\n",
    "    rect = cv2.minAreaRect(contour)\n",
    "    box = cv2.boxPoints(rect)\n",
    "    box = np.int0(box)\n",
    "    cv2.drawContours(img, [box], 0, (255, 255, 255), 2)\n",
    "    #cv2.minEnclosingCircle函数返回一个二元组，第一个元组为圆心坐标，第二个为半径\n",
    "    (x0,y0), radius = cv2.minEnclosingCircle(contour)\n",
    "    \n",
    "    center = (int(x0), int(y0))\n",
    "    radius = int(radius)\n",
    "    img = cv2.circle(img, center, radius, (0,255,0))\n",
    "\n",
    "cv2.drawContours(img, contours, -1, (255,0,0), 1)\n",
    "cv2.imwrite(\"findcontour.jpg\",img)\n",
    "cv2.imshow(\"img\", img)  \n",
    "cv2.waitKey(0)  \n",
    "cv2.destroyAllWindows() "
   ]
  },
  {
   "cell_type": "code",
   "execution_count": null,
   "metadata": {},
   "outputs": [],
   "source": []
  }
 ],
 "metadata": {
  "kernelspec": {
   "display_name": "ic",
   "language": "python",
   "name": "ic"
  },
  "language_info": {
   "codemirror_mode": {
    "name": "ipython",
    "version": 3
   },
   "file_extension": ".py",
   "mimetype": "text/x-python",
   "name": "python",
   "nbconvert_exporter": "python",
   "pygments_lexer": "ipython3",
   "version": "3.7.2"
  }
 },
 "nbformat": 4,
 "nbformat_minor": 2
}
