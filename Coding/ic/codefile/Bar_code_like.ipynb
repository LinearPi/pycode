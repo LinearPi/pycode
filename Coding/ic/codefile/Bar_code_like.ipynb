{
 "cells": [
  {
   "cell_type": "code",
   "execution_count": 3,
   "metadata": {},
   "outputs": [],
   "source": [
    "# with open(\"C:/Users/Administrator/Desktop/常见文字.txt\", 'r') as f:\n",
    "#     data = f.read()\n",
    "# dd = data.replace(\"\\n\", \" \")\n",
    "# with open(\"C:/Users/Administrator/Desktop/常见文字1.txt\", 'w+') as f:\n",
    "#     f.write(dd)"
   ]
  },
  {
   "cell_type": "code",
   "execution_count": null,
   "metadata": {},
   "outputs": [],
   "source": []
  },
  {
   "cell_type": "code",
   "execution_count": null,
   "metadata": {},
   "outputs": [],
   "source": [
    "\n",
    "    "
   ]
  },
  {
   "cell_type": "markdown",
   "metadata": {},
   "source": [
    "1. 原图像大小调整，提高运算效率\n",
    "2. 转化为灰度图\n",
    "3. 高斯平滑滤波\n",
    "4. 求得水平和垂直方向灰度图像的梯度差,使用Sobel算子\n",
    "5. 均值滤波，消除高频噪声\n",
    "6. 二值化\n",
    "7. 闭运算，填充条形码间隙\n",
    "8. 腐蚀，去除孤立的点\n",
    "9. 膨胀，填充条形码间空隙，根据核的大小，有可能需要2~3次膨胀操作\n",
    "10. 通过findContours找到条形码区域的矩形边界"
   ]
  },
  {
   "cell_type": "code",
   "execution_count": 1,
   "metadata": {},
   "outputs": [],
   "source": [
    "import cv2\n",
    "import pprint\n",
    "import matplotlib\n",
    "import matplotlib.pyplot as plt\n",
    "import numpy as np\n",
    "\n",
    "%matplotlib inline"
   ]
  },
  {
   "cell_type": "code",
   "execution_count": 2,
   "metadata": {},
   "outputs": [],
   "source": [
    "img = 'result_done41.jpg'\n",
    "image_r = cv2.imread(img, cv2.IMREAD_GRAYSCALE)"
   ]
  },
  {
   "cell_type": "code",
   "execution_count": 3,
   "metadata": {},
   "outputs": [],
   "source": [
    "blurr = cv2.GaussianBlur(image_r, (3,3), 5)"
   ]
  },
  {
   "cell_type": "code",
   "execution_count": 4,
   "metadata": {},
   "outputs": [],
   "source": [
    "ret, binary = cv2.threshold(image_r, 0, 255, cv2.THRESH_BINARY | cv2.THRESH_OTSU)\n",
    "\n",
    "kernel = cv2.getStructuringElement(cv2.MORPH_RECT, (1,5))\n",
    "bin1 = cv2.morphologyEx(image_r, cv2.MORPH_OPEN, kernel)\n",
    "\n",
    "kernel = cv2.getStructuringElement(cv2.MORPH_RECT, (5,1))\n",
    "bin2 = cv2.morphologyEx(bin1, cv2.MORPH_OPEN, kernel)"
   ]
  },
  {
   "cell_type": "code",
   "execution_count": 5,
   "metadata": {},
   "outputs": [],
   "source": [
    "# 卷积操作\n",
    "sobelx = cv2.Sobel(binary,cv2.CV_64F,1,0,ksize=5) \n",
    "# Calculation of Sobely \n",
    "sobely = cv2.Sobel(binary,cv2.CV_64F,0,1,ksize=5) \n",
    "\n",
    "laplacian = cv2.Laplacian(binary, cv2.CV_64F) "
   ]
  },
  {
   "cell_type": "code",
   "execution_count": 6,
   "metadata": {},
   "outputs": [],
   "source": [
    "cv2.imshow('image_r', image_r)\n",
    "cv2.imshow('blurr', blurr)\n",
    "cv2.imshow(\"sobelx\",sobelx)\n",
    "cv2.imshow(\"sobely\",sobely)\n",
    "cv2.imshow(\"laplacian\",laplacian)\n",
    "cv2.imshow(\"bin1\", bin1)\n",
    "cv2.imshow(\"bin2\", bin2)\n",
    "\n",
    "cv2.waitKey(0)\n",
    "cv2.destroyAllWindows()"
   ]
  },
  {
   "cell_type": "code",
   "execution_count": null,
   "metadata": {},
   "outputs": [],
   "source": []
  }
 ],
 "metadata": {
  "kernelspec": {
   "display_name": "ic",
   "language": "python",
   "name": "ic"
  },
  "language_info": {
   "codemirror_mode": {
    "name": "ipython",
    "version": 3
   },
   "file_extension": ".py",
   "mimetype": "text/x-python",
   "name": "python",
   "nbconvert_exporter": "python",
   "pygments_lexer": "ipython3",
   "version": "3.7.2"
  }
 },
 "nbformat": 4,
 "nbformat_minor": 2
}
