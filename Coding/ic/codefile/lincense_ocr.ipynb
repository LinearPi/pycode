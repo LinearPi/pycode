{
 "cells": [
  {
   "cell_type": "code",
   "execution_count": 4,
   "metadata": {},
   "outputs": [],
   "source": [
    "import pytesseract\n",
    "import cv2\n",
    "import pyocr \n",
    "from PIL import Image\n",
    "from PIL.ImageOps import invert\n",
    "import matplotlib.pyplot as plt\n",
    "import time\n",
    "import numpy as np\n",
    "import pytesseract\n",
    "\n",
    "import imutils\n",
    "from imutils.perspective import four_point_transform"
   ]
  },
  {
   "cell_type": "code",
   "execution_count": 5,
   "metadata": {},
   "outputs": [
    {
     "data": {
      "text/plain": [
       "'3.4.2'"
      ]
     },
     "execution_count": 5,
     "metadata": {},
     "output_type": "execute_result"
    }
   ],
   "source": [
    "cv2.__version__"
   ]
  },
  {
   "cell_type": "code",
   "execution_count": 6,
   "metadata": {},
   "outputs": [],
   "source": [
    "img = cv2.imread(\"license/AA.jpg\", cv2.IMREAD_COLOR)\n",
    "img_gray = cv2.cvtColor(img, cv2.COLOR_BGR2GRAY)\n",
    "# 1440*900\n",
    "bili = 800/img_gray.shape[0]\n",
    "re_img_gray = cv2.resize(img_gray, dsize=(0,0), fx=bili, fy = bili)\n",
    "\n",
    "_, img_gray_th = cv2.threshold(re_img_gray, 0, 255, cv2.THRESH_BINARY_INV | cv2.THRESH_OTSU)\n",
    "poin_img = cv2.imread(\"license/A_point.jpg\", cv2.IMREAD_GRAYSCALE)\n",
    "_, poin_img_th = cv2.threshold(poin_img, 0, 255, cv2.THRESH_BINARY_INV | cv2.THRESH_OTSU)"
   ]
  },
  {
   "cell_type": "code",
   "execution_count": 8,
   "metadata": {},
   "outputs": [
    {
     "ename": "ValueError",
     "evalue": "too many values to unpack (expected 2)",
     "output_type": "error",
     "traceback": [
      "\u001b[1;31m---------------------------------------------------------------------------\u001b[0m",
      "\u001b[1;31mValueError\u001b[0m                                Traceback (most recent call last)",
      "\u001b[1;32m<ipython-input-8-8278b1f7d192>\u001b[0m in \u001b[0;36m<module>\u001b[1;34m\u001b[0m\n\u001b[1;32m----> 1\u001b[1;33m \u001b[0mw\u001b[0m\u001b[1;33m,\u001b[0m \u001b[0mh\u001b[0m \u001b[1;33m=\u001b[0m \u001b[0mimg\u001b[0m\u001b[1;33m.\u001b[0m\u001b[0mshape\u001b[0m\u001b[1;33m[\u001b[0m\u001b[1;33m:\u001b[0m\u001b[1;33m:\u001b[0m\u001b[1;33m-\u001b[0m\u001b[1;36m1\u001b[0m\u001b[1;33m]\u001b[0m\u001b[1;33m\u001b[0m\u001b[1;33m\u001b[0m\u001b[0m\n\u001b[0m\u001b[0;32m      2\u001b[0m \u001b[0mres\u001b[0m \u001b[1;33m=\u001b[0m \u001b[0mcv2\u001b[0m\u001b[1;33m.\u001b[0m\u001b[0mmatchTemplate\u001b[0m\u001b[1;33m(\u001b[0m\u001b[0mimg_gray_th\u001b[0m\u001b[1;33m,\u001b[0m \u001b[0mpoin_img_th\u001b[0m\u001b[1;33m,\u001b[0m \u001b[0mcv2\u001b[0m\u001b[1;33m.\u001b[0m\u001b[0mTM_CCORR_NORMED\u001b[0m\u001b[1;33m)\u001b[0m\u001b[1;33m\u001b[0m\u001b[1;33m\u001b[0m\u001b[0m\n\u001b[0;32m      3\u001b[0m \u001b[0mthreshold\u001b[0m \u001b[1;33m=\u001b[0m \u001b[0mres\u001b[0m\u001b[1;33m.\u001b[0m\u001b[0mmax\u001b[0m\u001b[1;33m(\u001b[0m\u001b[1;33m)\u001b[0m\u001b[1;33m\u001b[0m\u001b[1;33m\u001b[0m\u001b[0m\n\u001b[0;32m      4\u001b[0m \u001b[0mloc\u001b[0m \u001b[1;33m=\u001b[0m \u001b[0mnp\u001b[0m\u001b[1;33m.\u001b[0m\u001b[0mwhere\u001b[0m\u001b[1;33m(\u001b[0m\u001b[0mres\u001b[0m \u001b[1;33m>=\u001b[0m \u001b[0mthreshold\u001b[0m\u001b[1;33m)\u001b[0m\u001b[1;33m\u001b[0m\u001b[1;33m\u001b[0m\u001b[0m\n\u001b[0;32m      5\u001b[0m \u001b[1;32mfor\u001b[0m \u001b[0mx\u001b[0m\u001b[1;33m,\u001b[0m\u001b[0my\u001b[0m \u001b[1;32min\u001b[0m \u001b[0mzip\u001b[0m\u001b[1;33m(\u001b[0m\u001b[1;33m*\u001b[0m\u001b[0mloc\u001b[0m\u001b[1;33m[\u001b[0m\u001b[1;33m:\u001b[0m\u001b[1;33m:\u001b[0m\u001b[1;33m-\u001b[0m\u001b[1;36m1\u001b[0m\u001b[1;33m]\u001b[0m\u001b[1;33m)\u001b[0m\u001b[1;33m:\u001b[0m\u001b[1;33m\u001b[0m\u001b[1;33m\u001b[0m\u001b[0m\n",
      "\u001b[1;31mValueError\u001b[0m: too many values to unpack (expected 2)"
     ]
    }
   ],
   "source": [
    "w, h = poin_img.shape[::-1]\n",
    "res = cv2.matchTemplate(img_gray_th, poin_img_th, cv2.TM_CCORR_NORMED) \n",
    "threshold = res.max()\n",
    "loc = np.where(res >= threshold)\n",
    "for x,y in zip(*loc[::-1]):\n",
    "    cv2.rectangle(re_img_gray, (x,y), (x+w, y+h), (0,0,255), 1)"
   ]
  },
  {
   "cell_type": "code",
   "execution_count": 9,
   "metadata": {},
   "outputs": [
    {
     "ename": "NameError",
     "evalue": "name 'loc' is not defined",
     "output_type": "error",
     "traceback": [
      "\u001b[1;31m---------------------------------------------------------------------------\u001b[0m",
      "\u001b[1;31mNameError\u001b[0m                                 Traceback (most recent call last)",
      "\u001b[1;32m<ipython-input-9-98eacc010565>\u001b[0m in \u001b[0;36m<module>\u001b[1;34m\u001b[0m\n\u001b[1;32m----> 1\u001b[1;33m \u001b[0mloc\u001b[0m\u001b[1;33m\u001b[0m\u001b[1;33m\u001b[0m\u001b[0m\n\u001b[0m",
      "\u001b[1;31mNameError\u001b[0m: name 'loc' is not defined"
     ]
    }
   ],
   "source": [
    "loc"
   ]
  },
  {
   "cell_type": "code",
   "execution_count": 10,
   "metadata": {},
   "outputs": [],
   "source": [
    "cv2.imshow(\"poin_img_th\",re_img_gray)\n",
    "cv2.waitKey(0)\n",
    "cv2.destroyAllWindows()"
   ]
  },
  {
   "cell_type": "code",
   "execution_count": 11,
   "metadata": {},
   "outputs": [],
   "source": [
    "image = cv2.imread('license/AA.jpg')\n",
    "width1, height1 = image.shape[1],image.shape[0]\n",
    "\n",
    "# bili = 800/image.shape[0]\n",
    "# re_img_gray = cv2.resize(image, dsize=(0,0), fx=bili, fy = bili)\n",
    "\n",
    "gray = cv2.cvtColor(image, cv2.COLOR_BGR2GRAY)\n",
    "#高斯滤波\n",
    "blurred = cv2.GaussianBlur(gray, (5, 5), 0)\n",
    "#自适应二值化方法\n",
    "blurred=cv2.adaptiveThreshold(blurred,255,cv2.ADAPTIVE_THRESH_MEAN_C,cv2.THRESH_BINARY,51,2)\n",
    "'''\n",
    "adaptiveThreshold函数：第一个参数src指原图像，原图像应该是灰度图。\n",
    "    第二个参数x指当像素值高于（有时是小于）阈值时应该被赋予的新的像素值\n",
    "    第三个参数adaptive_method 指： CV_ADAPTIVE_THRESH_MEAN_C 或 CV_ADAPTIVE_THRESH_GAUSSIAN_C\n",
    "    第四个参数threshold_type  指取阈值类型：必须是下者之一 CV_THRESH_BINARY,• CV_THRESH_BINARY_INV\n",
    "    第五个参数 block_size 指用来计算阈值的象素邻域大小: 3, 5, 7, ...\n",
    "    第六个参数param1指与方法有关的参数。对方法CV_ADAPTIVE_THRESH_MEAN_C 和 CV_ADAPTIVE_THRESH_GAUSSIAN_C， \n",
    "    它是一个从均值或加权均值提取的常数, 尽管它可以是负数。\n",
    "'''\n",
    "#这一步可有可无，主要是增加一圈白框，以免刚好卷子边框压线后期边缘检测无果。好的样本图就不用考虑这种问题\n",
    "blurred=cv2.copyMakeBorder(blurred,5,5,5,5,cv2.BORDER_CONSTANT,value=(255,255,255))\n",
    "\n",
    "edged = cv2.Canny(blurred, 10, 100)\n",
    "cnts = cv2.findContours(edged, cv2.RETR_EXTERNAL,cv2.CHAIN_APPROX_SIMPLE)\n",
    "cnts = cnts[0] if imutils.is_cv2() else cnts[1]\n",
    "docCnt = None\n",
    "\n",
    "if len(cnts) > 0:\n",
    "    # 将轮廓按大小降序排序\n",
    "    cnts = sorted(cnts, key=cv2.contourArea, reverse=True)\n",
    "    # 对排序后的轮廓循环处理\n",
    "    for c in cnts:\n",
    "        # 获取近似的轮廓\n",
    "        peri = cv2.arcLength(c, True)\n",
    "        approx = cv2.approxPolyDP(c, 0.02 * peri, True)\n",
    "        # 如果近似轮廓有四个顶点，那么就认为找到了答题卡\n",
    "        if len(approx) == 4:\n",
    "            docCnt = approx\n",
    "            break\n",
    "            \n",
    "newimage = re_img_gray.copy()\n",
    "for i in docCnt:\n",
    "    #circle函数为在图像上作图，新建了一个图像用来演示四角选取\n",
    "    cv2.circle(newimage, (i[0][0],i[0][1]), 10, (255, 0, 0), -1)\n",
    "    \n",
    "paper = four_point_transform(image, docCnt.reshape(4, 2))\n",
    "warped = four_point_transform(gray, docCnt.reshape(4, 2))\n",
    "\n",
    "# 对灰度图应用二值化算法\n",
    "thresh=cv2.adaptiveThreshold(warped,255,cv2.ADAPTIVE_THRESH_MEAN_C,cv2.THRESH_BINARY,53,2)\n",
    "#重塑可能用到的图像\n",
    "thresh = cv2.resize(thresh, (width1, height1), cv2.INTER_LANCZOS4)\n",
    "paper = cv2.resize(paper, (width1, height1), cv2.INTER_LANCZOS4)\n",
    "warped = cv2.resize(warped, (width1, height1), cv2.INTER_LANCZOS4)\n",
    "#均值滤波\n",
    "# ChQImg = cv2.blur(thresh, (23, 23))\n",
    "#二进制二值化\n",
    "# ChQImg = cv2.threshold(ChQImg, 100, 225, cv2.THRESH_BINARY)[1]\n",
    "\n",
    "cv2.imshow(\"edged\",edged)\n",
    "cv2.imshow(\"gray\",gray)\n",
    "cv2.imshow(\"newimage\",newimage)\n",
    "cv2.imshow(\"thresh\",thresh)\n",
    "# cv2.imshow(\"paper\",paper)\n",
    "cv2.imshow(\"warped\",warped)\n",
    "cv2.imwrite(\"license/warpedAA.jpg\",warped)\n",
    "cv2.waitKey(0)\n",
    "cv2.destroyAllWindows()"
   ]
  },
  {
   "cell_type": "code",
   "execution_count": 202,
   "metadata": {},
   "outputs": [
    {
     "data": {
      "text/plain": [
       "(800, 525, 3)"
      ]
     },
     "execution_count": 202,
     "metadata": {},
     "output_type": "execute_result"
    }
   ],
   "source": [
    "re_img_gray.shape"
   ]
  },
  {
   "cell_type": "code",
   "execution_count": 50,
   "metadata": {},
   "outputs": [
    {
     "name": "stdout",
     "output_type": "stream",
     "text": [
      "QRCODE ** 统一社会信用代码：91510100667583777F\r\n",
      "企业注册号：510109000304280\r\n",
      "名称：成都西辰软件有限公司\r\n",
      "登记机关：成都市高新工商行政管理局\r\n",
      "登记日期：2017-02-10\r\n",
      "企业信用信息公示系统网址：http://gsxt.scaic.gov.cn  http://gsxt.cdcredit.gov.cn\n"
     ]
    }
   ],
   "source": [
    "# -*- coding: utf-8 -*-\n",
    "import pyzbar\n",
    "from pyzbar.pyzbar import decode\n",
    "from pyzbar.pyzbar import ZBarSymbol\n",
    "import encodings\n",
    "\n",
    "code2D = cv2.imread('license/QRcode.png')\n",
    "result = decode(code2D, symbols=[ZBarSymbol.QRCODE])\n",
    "for info in result:\n",
    "    print(info.type, \"**\",info.data.decode(\"utf-8\"))"
   ]
  },
  {
   "cell_type": "code",
   "execution_count": 46,
   "metadata": {},
   "outputs": [
    {
     "data": {
      "text/plain": [
       "'统一社会信用代码：9144011476769188XG|注册号：440121000022135|数据查询链接：http://www.gzonline.gov.cn/cri/BusinessMobile.aspx?Id=9031F652A9AAA814D6C2E1CE7450E03E'"
      ]
     },
     "execution_count": 46,
     "metadata": {},
     "output_type": "execute_result"
    }
   ],
   "source": [
    "information = info.data.decode('utf-8')\n",
    "information"
   ]
  },
  {
   "cell_type": "code",
   "execution_count": 44,
   "metadata": {},
   "outputs": [
    {
     "data": {
      "text/plain": [
       "[]"
      ]
     },
     "execution_count": 44,
     "metadata": {},
     "output_type": "execute_result"
    }
   ],
   "source": [
    "result"
   ]
  },
  {
   "cell_type": "code",
   "execution_count": 45,
   "metadata": {},
   "outputs": [
    {
     "ename": "ModuleNotFoundError",
     "evalue": "No module named 'png'",
     "output_type": "error",
     "traceback": [
      "\u001b[1;31m---------------------------------------------------------------------------\u001b[0m",
      "\u001b[1;31mModuleNotFoundError\u001b[0m                       Traceback (most recent call last)",
      "\u001b[1;32m<ipython-input-45-001de591119a>\u001b[0m in \u001b[0;36m<module>\u001b[1;34m\u001b[0m\n\u001b[0;32m      9\u001b[0m \u001b[1;31m#     print(\"Error\")\u001b[0m\u001b[1;33m\u001b[0m\u001b[1;33m\u001b[0m\u001b[1;33m\u001b[0m\u001b[0m\n\u001b[0;32m     10\u001b[0m \u001b[0mqr\u001b[0m \u001b[1;33m=\u001b[0m \u001b[0mpyqrcode\u001b[0m\u001b[1;33m.\u001b[0m\u001b[0mcreate\u001b[0m\u001b[1;33m(\u001b[0m\u001b[1;34m\"http://blog.topspeedsnail.com\"\u001b[0m\u001b[1;33m)\u001b[0m\u001b[1;33m\u001b[0m\u001b[1;33m\u001b[0m\u001b[0m\n\u001b[1;32m---> 11\u001b[1;33m \u001b[0mqr\u001b[0m\u001b[1;33m.\u001b[0m\u001b[0mpng\u001b[0m\u001b[1;33m(\u001b[0m\u001b[1;34m\"myQrcode.png\"\u001b[0m\u001b[1;33m,\u001b[0m \u001b[0mscale\u001b[0m\u001b[1;33m=\u001b[0m\u001b[1;36m6\u001b[0m\u001b[1;33m)\u001b[0m\u001b[1;33m\u001b[0m\u001b[1;33m\u001b[0m\u001b[0m\n\u001b[0m\u001b[0;32m     12\u001b[0m \u001b[1;33m\u001b[0m\u001b[0m\n\u001b[0;32m     13\u001b[0m \u001b[1;31m# 解码：\u001b[0m\u001b[1;33m\u001b[0m\u001b[1;33m\u001b[0m\u001b[1;33m\u001b[0m\u001b[0m\n",
      "\u001b[1;32mC:\\ProgramData\\Anaconda3\\envs\\ic\\lib\\site-packages\\pyqrcode\\__init__.py\u001b[0m in \u001b[0;36mpng\u001b[1;34m(self, file, scale, module_color, background, quiet_zone)\u001b[0m\n\u001b[0;32m    461\u001b[0m         \"\"\"\n\u001b[0;32m    462\u001b[0m         builder._png(self.code, self.version, file, scale,\n\u001b[1;32m--> 463\u001b[1;33m                      module_color, background, quiet_zone)\n\u001b[0m\u001b[0;32m    464\u001b[0m \u001b[1;33m\u001b[0m\u001b[0m\n\u001b[0;32m    465\u001b[0m     def png_as_base64_str(self, scale=1, module_color=(0, 0, 0, 255),\n",
      "\u001b[1;32mC:\\ProgramData\\Anaconda3\\envs\\ic\\lib\\site-packages\\pyqrcode\\builder.py\u001b[0m in \u001b[0;36m_png\u001b[1;34m(code, version, file, scale, module_color, background, quiet_zone, debug)\u001b[0m\n\u001b[0;32m   1264\u001b[0m             modules) to the output (default: ``False``).\n\u001b[0;32m   1265\u001b[0m     \"\"\"\n\u001b[1;32m-> 1266\u001b[1;33m     \u001b[1;32mimport\u001b[0m \u001b[0mpng\u001b[0m\u001b[1;33m\u001b[0m\u001b[1;33m\u001b[0m\u001b[0m\n\u001b[0m\u001b[0;32m   1267\u001b[0m \u001b[1;33m\u001b[0m\u001b[0m\n\u001b[0;32m   1268\u001b[0m     \u001b[1;31m# Coerce scale parameter into an integer\u001b[0m\u001b[1;33m\u001b[0m\u001b[1;33m\u001b[0m\u001b[1;33m\u001b[0m\u001b[0m\n",
      "\u001b[1;31mModuleNotFoundError\u001b[0m: No module named 'png'"
     ]
    }
   ],
   "source": []
  },
  {
   "cell_type": "code",
   "execution_count": 27,
   "metadata": {},
   "outputs": [
    {
     "data": {
      "text/plain": [
       "['__annotations__',\n",
       " '__call__',\n",
       " '__class__',\n",
       " '__closure__',\n",
       " '__code__',\n",
       " '__defaults__',\n",
       " '__delattr__',\n",
       " '__dict__',\n",
       " '__dir__',\n",
       " '__doc__',\n",
       " '__eq__',\n",
       " '__format__',\n",
       " '__ge__',\n",
       " '__get__',\n",
       " '__getattribute__',\n",
       " '__globals__',\n",
       " '__gt__',\n",
       " '__hash__',\n",
       " '__init__',\n",
       " '__init_subclass__',\n",
       " '__kwdefaults__',\n",
       " '__le__',\n",
       " '__lt__',\n",
       " '__module__',\n",
       " '__name__',\n",
       " '__ne__',\n",
       " '__new__',\n",
       " '__qualname__',\n",
       " '__reduce__',\n",
       " '__reduce_ex__',\n",
       " '__repr__',\n",
       " '__setattr__',\n",
       " '__sizeof__',\n",
       " '__str__',\n",
       " '__subclasshook__']"
      ]
     },
     "execution_count": 27,
     "metadata": {},
     "output_type": "execute_result"
    }
   ],
   "source": [
    "dir(pyqrcode.create)"
   ]
  },
  {
   "cell_type": "code",
   "execution_count": 58,
   "metadata": {},
   "outputs": [
    {
     "data": {
      "text/plain": [
       "'喜欢'"
      ]
     },
     "execution_count": 58,
     "metadata": {},
     "output_type": "execute_result"
    }
   ],
   "source": [
    "ss = \"喜欢\"\n",
    "ss.encode(\"utf-8\").decode(\"utf-8\")"
   ]
  },
  {
   "cell_type": "code",
   "execution_count": null,
   "metadata": {},
   "outputs": [],
   "source": []
  }
 ],
 "metadata": {
  "kernelspec": {
   "display_name": "img",
   "language": "python",
   "name": "img"
  }
 },
 "nbformat": 4,
 "nbformat_minor": 2
}
