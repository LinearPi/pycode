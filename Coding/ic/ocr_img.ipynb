{
 "cells": [
  {
   "cell_type": "code",
   "execution_count": 55,
   "metadata": {},
   "outputs": [],
   "source": [
    "import pytesseract\n",
    "import cv2\n",
    "import pyocr \n",
    "from PIL import Image\n",
    "from PIL.ImageOps import invert\n",
    "import matplotlib.pyplot as plt\n",
    "import time"
   ]
  },
  {
   "cell_type": "code",
   "execution_count": 9,
   "metadata": {},
   "outputs": [
    {
     "name": "stdout",
     "output_type": "stream",
     "text": [
      "|,,\n",
      "\n",
      "陆林\n",
      "\n",
      "男“氏旗汉\n",
      "\n",
      "1988年8月6日′\"′_′\n",
      "\n",
      "云南省宥哈市双龙街道深一标\n",
      "\n",
      "山村委会:一\n",
      "民身份号码5303811闹;\n",
      "\n",
      "bE\n"
     ]
    }
   ],
   "source": [
    "pytesseract.pytesseract.tesseract_cmd = 'C:/Program Files (x86)/Tesseract-OCR/tesseract.exe'\n",
    "image = Image.open(img, mode='r').convert(\"L\")\n",
    "image.save(f'F:/PYcode/Coding/ic/{time.localtime().tm_hour}{time.localtime().tm_min}.png', quality=50)\n",
    "text = pytesseract.image_to_string(image, lang='chi_sim')\n",
    "print(text.replace(' ',''))  "
   ]
  },
  {
   "cell_type": "code",
   "execution_count": 89,
   "metadata": {},
   "outputs": [
    {
     "name": "stdout",
     "output_type": "stream",
     "text": [
      "512012\n",
      "1985\n",
      "02\n",
      "23\n",
      "455\n",
      "X\n"
     ]
    }
   ],
   "source": [
    "# 利用正则匹配出年月日\n",
    "import re\n",
    "pattern = re.compile('^(\\d{6})(\\d{4})(\\d{2})(\\d{2})(\\d{3})([0-9]|X)$')\n",
    "str = u'51201219850223455X'\n",
    "resout = pattern.search(str)\n",
    "# resout = re.match(r'^\\d{6}(\\d{4})(\\d{2})(\\d{2})\\d{3}', str)\n",
    "print(resout.group(1))\n",
    "print(resout.group(2))\n",
    "print(resout.group(3))\n",
    "print(resout.group(4))\n",
    "print(resout.group(5))\n",
    "print(resout.group(6))"
   ]
  },
  {
   "cell_type": "code",
   "execution_count": 90,
   "metadata": {},
   "outputs": [],
   "source": [
    "img_dict = {\"name\": [[109, 40],[217, 89]],\n",
    "           \"gender\": [[109, 89], [160, 143]],\n",
    "           \"nation\": [[236, 89], [280, 143]],\n",
    "           \"year\": [[109, 143], [179, 192]],\n",
    "           \"month\": [[203, 143], [233, 192]],\n",
    "           \"day\": [[260, 143], [295, 192]],\n",
    "           \"address\": [[109, 192], [376, 268]],\n",
    "           \"IDnumber\": [[199, 310], [547, 376]],\n",
    "           \"img\": [[376, 58], [559, 297]]}"
   ]
  },
  {
   "cell_type": "code",
   "execution_count": 91,
   "metadata": {},
   "outputs": [],
   "source": [
    "# for name, img_data in img_dict.items():\n",
    "#     print(name)\n",
    "#     name = image[img_data[0][0]:img_data[1][0], img_data[0][1]: img_data[1][1]]\n",
    "#     cv2.imshow(f\"{name}\",name)\n",
    "\n",
    "image = cv2.imread(\"result_done41.jpg\", cv2.IMREAD_GRAYSCALE)\n",
    "ret, mask = cv2.threshold(image, 100, 255, cv2.THRESH_BINARY)\n",
    "new_img_dict = {}\n",
    "for i in img_dict:\n",
    "    new_img_dict[i] = image[img_dict[i][0][1]:img_dict[i][1][1], img_dict[i][0][0]: img_dict[i][1][0]]"
   ]
  },
  {
   "cell_type": "code",
   "execution_count": 92,
   "metadata": {},
   "outputs": [
    {
     "name": "stdout",
     "output_type": "stream",
     "text": [
      "name:陆林\n",
      "\n",
      "gender:\n",
      "****\n",
      "\n",
      "****\n",
      "year:1988\n",
      "****\n",
      "\n",
      "****\n",
      "****\n",
      "\n",
      "****\n",
      "address:云南省宣威市观龙街道淑\n",
      "山村委会视园园国善\n",
      "5303011NWDH\n",
      "IDnumber:5503811闵吴园\n",
      "img:\n"
     ]
    }
   ],
   "source": [
    "pytesseract.pytesseract.tesseract_cmd = 'C:/Program Files (x86)/Tesseract-OCR/tesseract.exe'\n",
    "for i_img in new_img_dict:\n",
    "#     print(i_img)\n",
    "    if new_img_dict[i_img].shape[1] < 50:\n",
    "        new_img_dict[i_img] = cv2.resize(new_img_dict[i_img], (0, 0), fx=5, fy=5, interpolation=cv2.INTER_NEAREST)\n",
    "        print(\"****\")\n",
    "        text4 = pytesseract.image_to_string(new_img_dict[i_img], lang='chi_sim')\n",
    "        print(text4.replace(' ',''))    \n",
    "        print(\"****\")\n",
    "\n",
    "    else:\n",
    "        if i_img == \"nation\":\n",
    "            text1 = pytesseract.image_to_string(new_img_dict[i_img], lang='nation')\n",
    "            print(text1.replace(' ','')) \n",
    "        elif i_img == \"IDnumber\":\n",
    "            text2 = pytesseract.image_to_string(new_img_dict[i_img], lang='idnum')\n",
    "            print(text2.replace(' ',''))  \n",
    "        elif i_img == \"gender\":\n",
    "            text3 = pytesseract.image_to_string(new_img_dict[i_img], lang='sex')\n",
    "            print(text3.replace(' ',''))  \n",
    "\n",
    "        text = pytesseract.image_to_string(new_img_dict[i_img], lang='chi_sim')\n",
    "    #     cv2.imwrite(f\"{i_img}.jpg\", new_img_dict[i_img])\n",
    "        print(f\"{i_img}:{text.replace(' ','')}\")         "
   ]
  },
  {
   "cell_type": "code",
   "execution_count": 93,
   "metadata": {},
   "outputs": [],
   "source": [
    "import cv2\n",
    "\n",
    "# 读取一张照片\n",
    "img = cv2.imread('month.jpg')\n",
    "\n",
    "# 缩放成200x200的图像\n",
    "img_200x200 = cv2.resize(img, (60, 80))\n",
    "\n",
    "# 不直接指定缩放后大小，通过fx和fy指定缩放比例，0.5则长宽都为原来一半\n",
    "# 等效于img_200x300 = cv2.resize(img, (300, 200))，注意指定大小的格式是(宽度,高度)\n",
    "# 插值方法默认是cv2.INTER_LINEAR，这里指定为最近邻插值\n",
    "img_200x300 = cv2.resize(img, (0, 0), fx=5, fy=5, interpolation=cv2.INTER_NEAREST)\n",
    "\n",
    "cv2.imshow('resized_200x200.jpg', img_200x200)\n",
    "cv2.imshow('resized_200x300.jpg', img_200x300)\n",
    "cv2.waitKey(0)\n",
    "cv2.destroyAllWindows()"
   ]
  },
  {
   "cell_type": "code",
   "execution_count": 17,
   "metadata": {},
   "outputs": [],
   "source": [
    "image = cv2.imread(\"result_done41.jpg\", cv2.IMREAD_GRAYSCALE)\n",
    "image = cv2.adaptiveThreshold(image, 255, cv2.ADAPTIVE_THRESH_GAUSSIAN_C, cv2.THRESH_BINARY, 115, 1)\n",
    "cv2.imshow(\"jj\", image[40: 89, 109: 217])\n",
    "cv2.waitKey(0)\n",
    "cv2.destroyAllWindows()"
   ]
  },
  {
   "cell_type": "code",
   "execution_count": 18,
   "metadata": {},
   "outputs": [
    {
     "data": {
      "image/png": "[encoded data removed]",
      "text/plain": [
       "<Figure size 432x288 with 1 Axes>"
      ]
     },
     "metadata": {
      "needs_background": "light"
     },
     "output_type": "display_data"
    }
   ],
   "source": [
    "plt.imshow(image)\n",
    "plt.show()"
   ]
  },
  {
   "cell_type": "code",
   "execution_count": null,
   "metadata": {},
   "outputs": [],
   "source": []
  }
 ],
 "metadata": {
  "kernelspec": {
   "display_name": "ic",
   "language": "python",
   "name": "ic"
  },
  "language_info": {
   "codemirror_mode": {
    "name": "ipython",
    "version": 3
   },
   "file_extension": ".py",
   "mimetype": "text/x-python",
   "name": "python",
   "nbconvert_exporter": "python",
   "pygments_lexer": "ipython3",
   "version": "3.7.2"
  }
 },
 "nbformat": 4,
 "nbformat_minor": 2
}
