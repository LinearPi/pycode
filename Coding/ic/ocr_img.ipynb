{
 "cells": [
  {
   "cell_type": "code",
   "execution_count": 1,
   "metadata": {},
   "outputs": [],
   "source": [
    "import pytesseract\n",
    "import cv2\n",
    "import pyocr \n",
    "from PIL import Image\n",
    "from PIL.ImageOps import invert\n",
    "import matplotlib.pyplot as plt\n",
    "import time\n",
    "import numpy as np"
   ]
  },
  {
   "cell_type": "code",
   "execution_count": 74,
   "metadata": {},
   "outputs": [],
   "source": [
    "# 分水岭\n",
    "img = cv2. imread(\"ti.jpg\", cv2.IMREAD_UNCHANGED)\n",
    "blurred = cv2.pyrMeanShiftFiltering(img, 10, 100)\n",
    "gray = cv2.cvtColor(blurred, cv2.COLOR_BGR2GRAY)\n",
    "ret, binary = cv2.threshold(gray, 0, 255, cv2.THRESH_BINARY | cv2.THRESH_OTSU)\n",
    "cv2.imshow(\"binary\", binary)\n",
    "\n",
    "kernel = cv2.getStructuringElement(cv2.MORPH_RECT, (3, 3))\n",
    "mb = cv2.morphologyEx(binary, cv2.MORPH_OPEN, kernel, iterations = 2)\n",
    "sure_bg = cv2.dilate(mb, kernel, iterations = 3)\n",
    "dist = cv2.distanceTransform(mb, cv2.DIST_L2, 3)\n",
    "dist_output = cv2.normalize(dist, 0, 1.0, cv2.NORM_MINMAX)\n",
    "\n",
    "ret, surface = cv2.threshold(dist, dist.max()*0.6, 255, cv2.THRESH_BINARY)\n",
    "surface_fg = np.uint8(surface)\n",
    "unkonwn = cv2.subtract(sure_bg, surface_fg)\n",
    "ret, markers = cv2.connectedComponents(surface_fg)\n",
    "\n",
    "markers = markers + 1\n",
    "markers[unkonwn==255] = 0\n",
    "markers = cv2.watershed(img, markers=markers)\n",
    "img[markers==1] = [0,0,255]\n",
    "cv2.imshow(\"resout_img\", img)\n",
    "cv2.waitKey(0)\n",
    "cv2.destroyAllWindows()\n"
   ]
  },
  {
   "cell_type": "code",
   "execution_count": 9,
   "metadata": {},
   "outputs": [
    {
     "name": "stdout",
     "output_type": "stream",
     "text": [
      "|,,\n",
      "\n",
      "陆林\n",
      "\n",
      "男“氏旗汉\n",
      "\n",
      "1988年8月6日′\"′_′\n",
      "\n",
      "云南省宥哈市双龙街道深一标\n",
      "\n",
      "山村委会:一\n",
      "民身份号码5303811闹;\n",
      "\n",
      "bE\n"
     ]
    }
   ],
   "source": [
    "pytesseract.pytesseract.tesseract_cmd = 'C:/Program Files (x86)/Tesseract-OCR/tesseract.exe'\n",
    "image = Image.open(img, mode='r').convert(\"L\")\n",
    "image.save(f'F:/PYcode/Coding/ic/{time.localtime().tm_hour}{time.localtime().tm_min}.png', quality=50)\n",
    "text = pytesseract.image_to_string(image, lang='chi_sim')\n",
    "print(text.replace(' ',''))  "
   ]
  },
  {
   "cell_type": "code",
   "execution_count": 96,
   "metadata": {},
   "outputs": [
    {
     "name": "stdout",
     "output_type": "stream",
     "text": [
      "512012\n",
      "1985\n",
      "02\n",
      "23\n",
      "455\n",
      "X\n"
     ]
    }
   ],
   "source": [
    "# 利用正则匹配出年月日\n",
    "import re\n",
    "pattern = re.compile('^(\\d{6})(\\d{4})(\\d{2})(\\d{2})(\\d{3})([0-9]|X)$')\n",
    "str = u'51201219850223455X'\n",
    "resout = pattern.search(str)\n",
    "# resout = re.match(r'^\\d{6}(\\d{4})(\\d{2})(\\d{2})\\d{3}', str)\n",
    "print(resout.group(1))\n",
    "print(resout.group(2))\n",
    "print(resout.group(3))\n",
    "print(resout.group(4))\n",
    "print(resout.group(5))\n",
    "print(resout.group(6))"
   ]
  },
  {
   "cell_type": "code",
   "execution_count": 44,
   "metadata": {},
   "outputs": [],
   "source": [
    "# img_dict = {\"name\": [[109, 40],[217, 89]],\n",
    "#            \"gender\": [[109, 89], [160, 143]],\n",
    "#            \"nation\": [[236, 89], [280, 143]], \n",
    "#            \"year\": [[109, 143], [179, 192]],\n",
    "#            \"month\": [[203, 143], [233, 192]],\n",
    "#            \"day\": [[260, 143], [295, 192]],\n",
    "#            \"address\": [[109, 192], [376, 268]],\n",
    "#            \"IDnumber\": [[199, 310], [547, 376]],\n",
    "#            \"img\": [[376, 58], [559, 297]]}"
   ]
  },
  {
   "cell_type": "code",
   "execution_count": 62,
   "metadata": {},
   "outputs": [],
   "source": [
    "img_dict = {\"name\": [[109, 40],[370, 88]],\n",
    "           \"gender\": [[109, 88], [370, 135]],\n",
    "           \"year\": [[109, 135], [370, 188]],\n",
    "           \"address\": [[109, 188], [370, 270]],\n",
    "           \"IDnumber\": [[199, 310], [547, 376]]}"
   ]
  },
  {
   "cell_type": "code",
   "execution_count": 63,
   "metadata": {},
   "outputs": [],
   "source": [
    "# for name, img_data in img_dict.items():\n",
    "#     print(name)\n",
    "#     name = image[img_data[0][0]:img_data[1][0], img_data[0][1]: img_data[1][1]]\n",
    "#     cv2.imshow(f\"{name}\",name)\n",
    "\n",
    "image = cv2.imread(\"result_done49.jpg\", cv2.IMREAD_GRAYSCALE)\n",
    "kernel = np.array([[0, -1, 0], [-1, 5, -1], [0, -1, 0]], np.float32) #锐化\n",
    "image = cv2.filter2D(image, -1, kernel=kernel)\n",
    "\n",
    "ret, mask = cv2.threshold(image, 150, 255, cv2.THRESH_BINARY)\n",
    "new_img_dict = {}\n",
    "for i in img_dict:\n",
    "    new_img_dict[i] = image[img_dict[i][0][1]:img_dict[i][1][1], img_dict[i][0][0]: img_dict[i][1][0]]"
   ]
  },
  {
   "cell_type": "code",
   "execution_count": 57,
   "metadata": {},
   "outputs": [],
   "source": [
    "cv2.imshow(\"mask\", mask)\n",
    "cv2.waitKey(0)\n",
    "cv2.destroyAllWindows()"
   ]
  },
  {
   "cell_type": "code",
   "execution_count": 64,
   "metadata": {
    "scrolled": true
   },
   "outputs": [
    {
     "name": "stdout",
     "output_type": "stream",
     "text": [
      "name:一季日月′】3′\n",
      "男男男\n",
      "gender:民「旌泽\n",
      "198725518135\n",
      "year:怡颞翼J月1昆\n",
      "address:\n",
      "44052419827016110614L\n",
      "IDnumber:44052419870.\n",
      ":′′沥\n"
     ]
    }
   ],
   "source": [
    "pytesseract.pytesseract.tesseract_cmd = 'C:/Program Files (x86)/Tesseract-OCR/tesseract.exe'\n",
    "for i_img in new_img_dict:\n",
    "#     print(i_img)\n",
    "#     if new_img_dict[i_img].shape[1] < 50:\n",
    "#         new_img_dict[i_img] = cv2.resize(new_img_dict[i_img], (0, 0), fx=5, fy=5, interpolation=cv2.INTER_NEAREST)\n",
    "#         print(\"****\")\n",
    "#         text4 = pytesseract.image_to_string(new_img_dict[i_img], lang='chi_sim')\n",
    "#         print(text4.replace(' ',''))    \n",
    "#         print(\"****\")\n",
    "\n",
    "#     else:\n",
    "    if i_img == \"nation\":\n",
    "        text1 = pytesseract.image_to_string(new_img_dict[i_img], lang='nation')\n",
    "        print(f\"nation:::{text1.replace(' ','')}\") \n",
    "    elif i_img == \"IDnumber\":\n",
    "        text2 = pytesseract.image_to_string(new_img_dict[i_img], lang='idnum')\n",
    "        print(text2.replace(' ',''))   \n",
    "    elif i_img == \"year\":\n",
    "        text2 = pytesseract.image_to_string(new_img_dict[i_img], lang='idnum')\n",
    "#         print(text2.replace(' ',''))   \n",
    "#     elif i_img == \"month\":\n",
    "#         text2 = pytesseract.image_to_string(new_img_dict[i_img], lang='idnum')\n",
    "#         print(text2.replace(' ',''))  \n",
    "#     elif i_img == \"day\":\n",
    "        text2 = pytesseract.image_to_string(new_img_dict[i_img], lang='idnum')\n",
    "        print(text2.replace(' ',''))  \n",
    "    elif i_img == \"gender\":\n",
    "        text3 = pytesseract.image_to_string(new_img_dict[i_img], lang='sex')\n",
    "        print(text3.replace(' ',''))  \n",
    "\n",
    "    text = pytesseract.image_to_string(new_img_dict[i_img], lang='chi_sim')\n",
    "    cv2.imwrite(f\"{i_img}.jpg\", new_img_dict[i_img])\n",
    "    print(f\"{i_img}:{text.replace(' ','')}\")"
   ]
  },
  {
   "cell_type": "code",
   "execution_count": 25,
   "metadata": {},
   "outputs": [],
   "source": [
    "import cv2\n",
    "\n",
    "# 读取一张照片\n",
    "img = cv2.imread('month.jpg')\n",
    "\n",
    "# 缩放成200x200的图像\n",
    "img_200x200 = cv2.resize(img, (60, 80))\n",
    "\n",
    "# 不直接指定缩放后大小，通过fx和fy指定缩放比例，0.5则长宽都为原来一半\n",
    "# 等效于img_200x300 = cv2.resize(img, (300, 200))，注意指定大小的格式是(宽度,高度)\n",
    "# 插值方法默认是cv2.INTER_LINEAR，这里指定为最近邻插值\n",
    "img_200x300 = cv2.resize(img, (0, 0), fx=5, fy=5, interpolation=cv2.INTER_NEAREST)\n",
    "\n",
    "cv2.imshow('resized_200x200.jpg', img_200x200)\n",
    "cv2.imshow('resized_200x300.jpg', img_200x300)\n",
    "cv2.waitKey(0)\n",
    "cv2.destroyAllWindows()"
   ]
  },
  {
   "cell_type": "code",
   "execution_count": 10,
   "metadata": {},
   "outputs": [
    {
     "name": "stdout",
     "output_type": "stream",
     "text": [
      "一季 日月′】 。\n",
      "标 深 气\n",
      "李 : 朋 口\n",
      "李 : 朋 口\n"
     ]
    }
   ],
   "source": [
    "image = cv2.imread(\"name1.jpg\", cv2.IMREAD_COLOR)\n",
    "image = cv2.cvtColor(image, cv2.COLOR_BGR2GRAY)\n",
    "# image = cv2.adaptiveThreshold(image, 255, cv2.ADAPTIVE_THRESH_GAUSSIAN_C, cv2.THRESH_BINARY, 85, 1)\n",
    "# image = cv2.pyrMeanShiftFiltering(image, 2, 4, maxLevel=1)\n",
    "\n",
    "ret, binary = cv2.threshold(image, 0, 255, cv2.THRESH_BINARY | cv2.THRESH_OTSU)\n",
    "cv2.imshow(\"binary\", image)\n",
    "\n",
    "kernel = cv2.getStructuringElement(cv2.MORPH_RECT, (1,2))\n",
    "bin1 = cv2.morphologyEx(binary, cv2.MORPH_OPEN, kernel)\n",
    "kernel = cv2.getStructuringElement(cv2.MORPH_RECT, (2,1))\n",
    "bin2 = cv2.morphologyEx(bin1, cv2.MORPH_OPEN, kernel)\n",
    "# cv2.bitwise_not(bin2, bin2)\n",
    "textimg = Image.fromarray(bin2)\n",
    "\n",
    "pytesseract.pytesseract.tesseract_cmd = 'C:/Program Files (x86)/Tesseract-OCR/tesseract.exe'\n",
    "\n",
    "\n",
    "text2 = pytesseract.image_to_string(binary, lang='chi_sim')\n",
    "text3 = pytesseract.image_to_string(bin1, lang='chi_sim')\n",
    "text1 = pytesseract.image_to_string(textimg, lang='chi_sim')\n",
    "text4 = pytesseract.image_to_string(bin2, lang='chi_sim')\n",
    "\n",
    "# print(f\"img:{text.replace(' ','')}\")\n",
    "\n",
    "print(text2)\n",
    "print(text3)\n",
    "print(text4)\n",
    "print(text1)\n",
    "\n",
    "\n",
    "cv2.imshow(\"jj\", image)\n",
    "cv2.imshow(\"bin1\", bin1)\n",
    "# cv2.imshow(\"textimg\", textimg)\n",
    "\n",
    "cv2.waitKey(0)\n",
    "cv2.destroyAllWindows()"
   ]
  },
  {
   "cell_type": "code",
   "execution_count": 105,
   "metadata": {},
   "outputs": [
    {
     "data": {
      "text/plain": [
       "(48, 261, 3)"
      ]
     },
     "execution_count": 105,
     "metadata": {},
     "output_type": "execute_result"
    }
   ],
   "source": [
    "image = cv2.imread(\"name.jpg\", cv2.IMREAD_COLOR)\n",
    "image.shape"
   ]
  },
  {
   "cell_type": "code",
   "execution_count": 65,
   "metadata": {
    "scrolled": true
   },
   "outputs": [
    {
     "name": "stdout",
     "output_type": "stream",
     "text": [
      "440524198777016170014\n",
      "440524198777016170014\n",
      "440524198777016170014\n",
      "44052419877701010014\n",
      "44052419877701010014\n",
      "44052419877701010014\n"
     ]
    }
   ],
   "source": [
    "## 识别身份证号\n",
    "image = cv2.imread(\"IDnumber1.jpg\", cv2.IMREAD_COLOR)\n",
    "image1 = cv2.fastNlMeansDenoisingColored(image,None,10,10,7,21)\n",
    "image2 = cv2.cvtColor(image1, cv2.COLOR_BGR2GRAY)\n",
    "# image = cv2.adaptiveThreshold(image, 255, cv2.ADAPTIVE_THRESH_GAUSSIAN_C, cv2.THRESH_BINARY, 85, 1)\n",
    "# image = cv2.pyrMeanShiftFiltering(image, 2, 4, maxLevel=1)\n",
    "ret, binary = cv2.threshold(image2, 0, 255, cv2.THRESH_BINARY | cv2.THRESH_OTSU)\n",
    "# ret, binary = cv2.threshold(image2, 50, 255, cv2.THRESH_BINARY)\n",
    "\n",
    "kernel = cv2.getStructuringElement(cv2.MORPH_RECT, (1,2))\n",
    "bin1 = cv2.morphologyEx(binary, cv2.MORPH_OPEN, kernel)\n",
    "kernel = cv2.getStructuringElement(cv2.MORPH_RECT, (2,1))\n",
    "bin2 = cv2.morphologyEx(bin1, cv2.MORPH_OPEN, kernel)\n",
    "# cv2.bitwise_not(bin2, bin2)\n",
    "textimg = Image.fromarray(bin2)\n",
    "pytesseract.pytesseract.tesseract_cmd = 'C:/Program Files (x86)/Tesseract-OCR/tesseract.exe'\n",
    "\n",
    "text1 = pytesseract.image_to_string(image1, lang='idnum')\n",
    "text2 = pytesseract.image_to_string(image2, lang='idnum')\n",
    "text3 = pytesseract.image_to_string(binary, lang='idnum')\n",
    "text4 = pytesseract.image_to_string(bin1, lang='idnum')\n",
    "text5 = pytesseract.image_to_string(bin2, lang='idnum')\n",
    "text6 = pytesseract.image_to_string(textimg, lang='idnum')\n",
    "\n",
    "# print(f\"img:{text.replace(' ','')}\")\n",
    "\n",
    "print(text1)\n",
    "print(text2)\n",
    "print(text3)\n",
    "print(text4)\n",
    "print(text5)\n",
    "print(text6)\n",
    "\n",
    "cv2.imshow(\"image1\", image1)\n",
    "cv2.imshow(\"image2\", image2)\n",
    "cv2.imshow(\"binary\", binary)\n",
    "cv2.imshow(\"bin1\", bin1)\n",
    "cv2.imshow(\"bin2\", bin2)    \n",
    "\n",
    "cv2.waitKey(0)\n",
    "cv2.destroyAllWindows()"
   ]
  },
  {
   "cell_type": "code",
   "execution_count": 66,
   "metadata": {},
   "outputs": [
    {
     "data": {
      "text/plain": [
       "'身份证号识别不正确'"
      ]
     },
     "execution_count": 66,
     "metadata": {},
     "output_type": "execute_result"
    }
   ],
   "source": [
    "import re\n",
    "text_list = (text1,text2,text3,text4,text5,text6)\n",
    "def get_year(text_list):\n",
    "    year = ''\n",
    "    month = ''\n",
    "    day = ''    \n",
    "    for text in text_list:\n",
    "        if len(text) == 18:\n",
    "            str_match = re.compile(\"^(\\d{6})(\\d{4})(\\d{2})(\\d{2})(\\d{3})([0-9]|X)$\")\n",
    "            resout = re.match(str_match, text)\n",
    "            year = resout.group(2)\n",
    "            if int(resout.group(3)) < 13:\n",
    "                month = resout.group(3)\n",
    "            if int(resout.group(4)) < 31:\n",
    "                day = resout.group(4)\n",
    "            return year, month, day\n",
    "    \n",
    "        else:\n",
    "            return \"身份证号识别不正确\"\n",
    "get_year(text_list)"
   ]
  },
  {
   "cell_type": "code",
   "execution_count": 7,
   "metadata": {},
   "outputs": [
    {
     "data": {
      "text/plain": [
       "20"
      ]
     },
     "execution_count": 7,
     "metadata": {},
     "output_type": "execute_result"
    }
   ],
   "source": [
    "ss = '44052419877701010014'\n",
    "len(ss)"
   ]
  },
  {
   "cell_type": "code",
   "execution_count": 44,
   "metadata": {},
   "outputs": [
    {
     "name": "stdout",
     "output_type": "stream",
     "text": [
      "image1:民 烽 泽\n",
      "image2:民 烽 泽\n",
      "binary:民 族 沉\n",
      "bin1, :民 旅 泽\n",
      "bin2, :民 旁 汊\n",
      "textim:民 旁 汊\n"
     ]
    }
   ],
   "source": [
    "## 识别身份证号\n",
    "image = cv2.imread(\"gender.jpg\", cv2.IMREAD_COLOR)\n",
    "image1 = cv2.fastNlMeansDenoisingColored(image,None,10,10,7,21)\n",
    "image2 = cv2.cvtColor(image1, cv2.COLOR_BGR2GRAY)\n",
    "# image = cv2.adaptiveThreshold(image, 255, cv2.ADAPTIVE_THRESH_GAUSSIAN_C, cv2.THRESH_BINARY, 85, 1)\n",
    "# image = cv2.pyrMeanShiftFiltering(image, 2, 4, maxLevel=1)\n",
    "ret, binary = cv2.threshold(image2, 0, 255, cv2.THRESH_BINARY | cv2.THRESH_OTSU)\n",
    "# ret, binary = cv2.threshold(image2, 50, 255, cv2.THRESH_BINARY)\n",
    "\n",
    "kernel = cv2.getStructuringElement(cv2.MORPH_RECT, (1,2))\n",
    "bin1 = cv2.morphologyEx(binary, cv2.MORPH_OPEN, kernel)\n",
    "kernel = cv2.getStructuringElement(cv2.MORPH_RECT, (2,1))\n",
    "bin2 = cv2.morphologyEx(bin1, cv2.MORPH_OPEN, kernel)\n",
    "# cv2.bitwise_not(bin2, bin2)\n",
    "textimg = Image.fromarray(bin2)\n",
    "pytesseract.pytesseract.tesseract_cmd = 'C:/Program Files (x86)/Tesseract-OCR/tesseract.exe'\n",
    "\n",
    "text1 = pytesseract.image_to_string(image1, lang='chi_sim')\n",
    "text2 = pytesseract.image_to_string(image2, lang='chi_sim')\n",
    "text3 = pytesseract.image_to_string(binary, lang='chi_sim')\n",
    "text4 = pytesseract.image_to_string(bin1, lang='chi_sim')\n",
    "text5 = pytesseract.image_to_string(bin2, lang='chi_sim')\n",
    "text6 = pytesseract.image_to_string(textimg, lang='chi_sim')\n",
    "\n",
    "# print(f\"img:{text.replace(' ','')}\")\n",
    "\n",
    "print(f'image1:{text1}')\n",
    "print(f'image2:{text2}')\n",
    "print(f'binary:{text3}')\n",
    "print(f'bin1, :{text4}')\n",
    "print(f'bin2, :{text5}')\n",
    "print(f'textim:{text6}')\n",
    "\n",
    "cv2.imshow(\"image1\", image1)\n",
    "cv2.imshow(\"image2\", image2)\n",
    "cv2.imshow(\"binary\", binary)\n",
    "cv2.imshow(\"bin1\", bin1)\n",
    "cv2.imshow(\"bin2\", bin2)    \n",
    "\n",
    "cv2.waitKey(0)\n",
    "cv2.destroyAllWindows()"
   ]
  },
  {
   "cell_type": "code",
   "execution_count": 30,
   "metadata": {},
   "outputs": [
    {
     "data": {
      "image/png": "[encoded data removed]",
      "text/plain": [
       "<Figure size 432x288 with 1 Axes>"
      ]
     },
     "metadata": {
      "needs_background": "light"
     },
     "output_type": "display_data"
    }
   ],
   "source": [
    "plt.imshow(textimg)\n",
    "plt.show()"
   ]
  },
  {
   "cell_type": "code",
   "execution_count": null,
   "metadata": {},
   "outputs": [],
   "source": []
  }
 ],
 "metadata": {
  "kernelspec": {
   "display_name": "ic",
   "language": "python",
   "name": "ic"
  },
  "language_info": {
   "codemirror_mode": {
    "name": "ipython",
    "version": 3
   },
   "file_extension": ".py",
   "mimetype": "text/x-python",
   "name": "python",
   "nbconvert_exporter": "python",
   "pygments_lexer": "ipython3",
   "version": "3.7.2"
  }
 },
 "nbformat": 4,
 "nbformat_minor": 2
}
