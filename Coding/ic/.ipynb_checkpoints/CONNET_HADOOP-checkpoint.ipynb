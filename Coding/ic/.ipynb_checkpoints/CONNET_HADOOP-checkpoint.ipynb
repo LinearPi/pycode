{
 "cells": [
  {
   "cell_type": "code",
   "execution_count": 2,
   "metadata": {},
   "outputs": [
    {
     "name": "stdout",
     "output_type": "stream",
     "text": [
      "Collecting PyHDFS\n",
      "  Downloading https://files.pythonhosted.org/packages/16/9f/a358e199f2d99229ff470e0063e26111fd0121ef034b853d9b9c0fd26b72/PyHDFS-0.2.1.tar.gz\n",
      "Requirement already satisfied: requests in c:\\programdata\\anaconda3\\envs\\ic\\lib\\site-packages (from PyHDFS) (2.21.0)\n",
      "Collecting simplejson (from PyHDFS)\n",
      "  Downloading https://files.pythonhosted.org/packages/e3/24/c35fb1c1c315fc0fffe61ea00d3f88e85469004713dab488dee4f35b0aff/simplejson-3.16.0.tar.gz (81kB)\n",
      "Requirement already satisfied: certifi>=2017.4.17 in c:\\programdata\\anaconda3\\envs\\ic\\lib\\site-packages (from requests->PyHDFS) (2018.11.29)\n",
      "Requirement already satisfied: idna<2.9,>=2.5 in c:\\programdata\\anaconda3\\envs\\ic\\lib\\site-packages (from requests->PyHDFS) (2.8)\n",
      "Requirement already satisfied: chardet<3.1.0,>=3.0.2 in c:\\programdata\\anaconda3\\envs\\ic\\lib\\site-packages (from requests->PyHDFS) (3.0.4)\n",
      "Requirement already satisfied: urllib3<1.25,>=1.21.1 in c:\\programdata\\anaconda3\\envs\\ic\\lib\\site-packages (from requests->PyHDFS) (1.24.1)\n",
      "Building wheels for collected packages: PyHDFS, simplejson\n",
      "  Building wheel for PyHDFS (setup.py): started\n",
      "  Building wheel for PyHDFS (setup.py): finished with status 'done'\n",
      "  Stored in directory: C:\\Users\\Administrator\\AppData\\Local\\pip\\Cache\\wheels\\67\\dc\\da\\077aa7e6916265f75d8b52d9b01b6fbb532cef769658216626\n",
      "  Building wheel for simplejson (setup.py): started\n",
      "  Building wheel for simplejson (setup.py): finished with status 'done'\n",
      "  Stored in directory: C:\\Users\\Administrator\\AppData\\Local\\pip\\Cache\\wheels\\5d\\1a\\1e\\0350bb3df3e74215cd91325344cc86c2c691f5306eb4d22c77\n",
      "Successfully built PyHDFS simplejson\n",
      "Installing collected packages: simplejson, PyHDFS\n",
      "Successfully installed PyHDFS-0.2.1 simplejson-3.16.0\n"
     ]
    }
   ],
   "source": [
    "!pip install PyHDFS"
   ]
  },
  {
   "cell_type": "code",
   "execution_count": 25,
   "metadata": {},
   "outputs": [],
   "source": [
    "import pyhdfs\n",
    "# fs = pyhdfs.HdfsClient(hosts='nn1.example.com:50070,nn2.example.com:50070', user_name='someone')\n",
    "fs = pyhdfs.HdfsClient(hosts=\"192.168.1.220:50070\", user_name='hadoop')"
   ]
  },
  {
   "cell_type": "code",
   "execution_count": 30,
   "metadata": {},
   "outputs": [
    {
     "data": {
      "text/plain": [
       "['output', 'zookeeper.out']"
      ]
     },
     "execution_count": 30,
     "metadata": {},
     "output_type": "execute_result"
    }
   ],
   "source": [
    "fs.listdir('/temp')"
   ]
  },
  {
   "cell_type": "code",
   "execution_count": 37,
   "metadata": {},
   "outputs": [],
   "source": [
    "f = fs.open('/temp/zookeeper.out')\n",
    "f.readline()\n",
    "f.close()"
   ]
  },
  {
   "cell_type": "code",
   "execution_count": null,
   "metadata": {},
   "outputs": [],
   "source": [
    "import pyhdfs\n",
    "\n",
    "#你的Hadoop的master的IP地址\n",
    "fs=pyhdfs.HdfsClient(hosts=\"192.168.1.220\")\n",
    "#打开hdfs中目录的文件，f相当于python打开文件的指针\n",
    "f=fs.open(\"/temp/zookeeper.out\")\n",
    "#输出该文件的第一行\n",
    "print(f.readline())\n",
    "#关闭 f\n",
    "f.close()\n"
   ]
  },
  {
   "cell_type": "code",
   "execution_count": 4,
   "metadata": {},
   "outputs": [
    {
     "data": {
      "text/plain": [
       "['ContentSummary',\n",
       " 'DEFAULT_PORT',\n",
       " 'FileChecksum',\n",
       " 'FileStatus',\n",
       " 'HdfsAccessControlException',\n",
       " 'HdfsClient',\n",
       " 'HdfsDSQuotaExceededException',\n",
       " 'HdfsException',\n",
       " 'HdfsFileAlreadyExistsException',\n",
       " 'HdfsFileNotFoundException',\n",
       " 'HdfsHadoopIllegalArgumentException',\n",
       " 'HdfsHttpException',\n",
       " 'HdfsIOException',\n",
       " 'HdfsIllegalArgumentException',\n",
       " 'HdfsInvalidPathException',\n",
       " 'HdfsNSQuotaExceededException',\n",
       " 'HdfsNoServerException',\n",
       " 'HdfsPathIsNotEmptyDirectoryException',\n",
       " 'HdfsQuotaExceededException',\n",
       " 'HdfsRemoteException',\n",
       " 'HdfsRetriableException',\n",
       " 'HdfsRuntimeException',\n",
       " 'HdfsSecurityException',\n",
       " 'HdfsSnapshotException',\n",
       " 'HdfsStandbyException',\n",
       " 'HdfsUnsupportedOperationException',\n",
       " 'WEBHDFS_PATH',\n",
       " '_BoilerplateClass',\n",
       " '__builtins__',\n",
       " '__cached__',\n",
       " '__doc__',\n",
       " '__file__',\n",
       " '__loader__',\n",
       " '__name__',\n",
       " '__package__',\n",
       " '__spec__',\n",
       " '__version__',\n",
       " '_check_response',\n",
       " '_json',\n",
       " '_logger',\n",
       " '_transform_user_name_key',\n",
       " 'absolute_import',\n",
       " 'base64',\n",
       " 'basestring',\n",
       " 'binascii',\n",
       " 'getpass',\n",
       " 'httplib',\n",
       " 'io',\n",
       " 'logging',\n",
       " 'os',\n",
       " 'posixpath',\n",
       " 'print_function',\n",
       " 'random',\n",
       " 're',\n",
       " 'requests',\n",
       " 'shutil',\n",
       " 'simplejson',\n",
       " 'time',\n",
       " 'unicode_literals',\n",
       " 'url_quote',\n",
       " 'urlsplit',\n",
       " 'warnings']"
      ]
     },
     "execution_count": 4,
     "metadata": {},
     "output_type": "execute_result"
    }
   ],
   "source": [
    "dir(pyhdfs)"
   ]
  },
  {
   "cell_type": "code",
   "execution_count": null,
   "metadata": {},
   "outputs": [],
   "source": []
  }
 ],
 "metadata": {
  "kernelspec": {
   "display_name": "ic",
   "language": "python",
   "name": "ic"
  },
  "language_info": {
   "codemirror_mode": {
    "name": "ipython",
    "version": 3
   },
   "file_extension": ".py",
   "mimetype": "text/x-python",
   "name": "python",
   "nbconvert_exporter": "python",
   "pygments_lexer": "ipython3",
   "version": "3.7.2"
  }
 },
 "nbformat": 4,
 "nbformat_minor": 2
}
