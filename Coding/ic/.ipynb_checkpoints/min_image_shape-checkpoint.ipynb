{
 "cells": [
  {
   "cell_type": "code",
   "execution_count": 1,
   "metadata": {},
   "outputs": [],
   "source": [
    "import cv2\n",
    "import numpy as np\n",
    "from scipy import ndimage\n",
    "import os"
   ]
  },
  {
   "cell_type": "code",
   "execution_count": 2,
   "metadata": {},
   "outputs": [],
   "source": [
    "k_3x3 = np.array([[-1,-1,-1],\n",
    "                  [-1, 8,-1],\n",
    "                  [-1,-1,-1,]])\n",
    "k_5x5 = np.array([[-1,-1,-1,-1,-1],\n",
    "                 [-1, 1, 2, 1, -1],\n",
    "                 [-1, 2, 4, 2, -1],\n",
    "                 [-1, 1, 2, 1, -1],\n",
    "                 [-1,-1,-1,-1,-1]])\n",
    "img = cv2.imread('hand.jpg',0)\n",
    "k3 = ndimage.convolve(img, k_3x3)\n",
    "k5 = ndimage.convolve(img, k_5x5)\n",
    "\n",
    "blurred = cv2.GaussianBlur(img, (11,11),0)\n",
    "g_hdf = img - blurred\n",
    "\n",
    "cv2.imshow(\"3*3\",k3)\n",
    "cv2.imshow(\"5*5\",k5)\n",
    "cv2.imshow(\"blurred\",blurred)\n",
    "cv2.imshow(\"G-HBF\",g_hdf)\n",
    "cv2.waitKey(0)\n",
    "cv2.destroyAllWindows()"
   ]
  },
  {
   "cell_type": "markdown",
   "metadata": {},
   "source": [
    "## 最小化矩形边缘"
   ]
  },
  {
   "cell_type": "code",
   "execution_count": null,
   "metadata": {},
   "outputs": [
    {
     "name": "stdout",
     "output_type": "stream",
     "text": [
      "(340, 454, 3)\n"
     ]
    }
   ],
   "source": [
    "import cv2\n",
    "import numpy as np\n",
    "\n",
    "# img = cv2.pyrDown()\n",
    "img = cv2.imread(\"try_angle.jpg\", cv2.IMREAD_UNCHANGED)\n",
    "\n",
    "mask = np.zeros(img.shape[:2],np.uint8)\n",
    "\n",
    "bgdModel = np.zeros((1,65),np.float64)\n",
    "fgdModel = np.zeros((1,65),np.float64)\n",
    "# image shape=398, 299\n",
    "\n",
    "# rect = (50,50,image_shape[0]-50,image_shape[1]-50)\n",
    "image_shape = img.shape\n",
    "print(image_shape)\n",
    "rect = (20,20,image_shape[1]-20,image_shape[0]-20)\n",
    "\n",
    "cv2.grabCut(img, mask, rect, bgdModel, fgdModel, 5, cv2.GC_INIT_WITH_RECT)\n",
    "mask2 = np.where((mask==2)|(mask==0),0,1).astype('uint8')\n",
    "img = img*mask2[:,:,np.newaxis]\n",
    "\n",
    "ret, thresh=cv2.threshold(cv2.cvtColor(img.copy(), cv2.COLOR_BGR2GRAY),127, 255, cv2.THRESH_BINARY)\n",
    "\n",
    "image,contours,hier = cv2.findContours(thresh, cv2.RETR_EXTERNAL, cv2.CHAIN_APPROX_SIMPLE)\n",
    "# image,contours,hier = cv2.findContours(thresh, 1, 2)\n",
    "\n",
    "\n",
    "for cnt in contours:\n",
    "    # cv2.rectangle(img, (x, y), (x+w, y+h),(0, 255, 0), 2)\n",
    "    x, y, w, h = cv2.boundingRect(cnt)\n",
    "    if w < 200:\n",
    "        continue\n",
    "    #£ind bounding box coordinates\n",
    "    else:\n",
    "        print(x,y,w,h)\n",
    "        print(cnt.shape)\n",
    "\n",
    "        #find minimun area\n",
    "        rect = cv2.minAreaRect(cnt)\n",
    "        box = cv2.boxPoints(rect)        \n",
    "        box = np.int0(box)\n",
    "        box_img = cv2.drawContours(img, [box], 0, (0,0,255), 2)\n",
    "        \n",
    "        epsilon = 0.01*cv2.arcLength(cnt,True)\n",
    "        approx = cv2.approxPolyDP(cnt,epsilon,True)\n",
    "        appr = cv2.drawContours(img, [approx], -1, (255,0,0,),1)\n",
    "\n",
    "\n",
    "        (x, y), radius = cv2.minEnclosingCircle(cnt)\n",
    "        r_img = cv2.drawContours(img, contours, -1, (0,255,0,),1)\n",
    "        \n",
    "        hull = cv2.convexHull(cnt)\n",
    "        hu = cv2.drawContours(img, [hull], -1, (255,0,255,),1)\n",
    "        \n",
    "\n",
    "        cv2.imshow(\"box_img\", box_img)\n",
    "        cv2.imshow(\"appr\", appr)\n",
    "        cv2.imshow(\"r_img\", r_img)\n",
    "        cv2.imshow(\"hu\", hu)\n",
    "        cv2.imshow(\"img\", img)\n",
    "        break\n",
    "cv2.waitKey(0)\n",
    "cv2.destroyAllWindows()"
   ]
  },
  {
   "cell_type": "code",
   "execution_count": 6,
   "metadata": {},
   "outputs": [],
   "source": [
    "corners = np.float32([[157.6, 71.5],[295.6, 118.4],[172.4, 311.3 ],[2.4, 202.4]])\n",
    "canvas = np.float32([[0, 0],[0, img.shape[0]],[img.shape[1], img.shape[0]],[img.shape[1], 0]])  #306, 486   $ 640 * 428"
   ]
  },
  {
   "cell_type": "code",
   "execution_count": 13,
   "metadata": {},
   "outputs": [
    {
     "name": "stdout",
     "output_type": "stream",
     "text": [
      "\n",
      "********************\n",
      "(428, 640, 3)\n"
     ]
    }
   ],
   "source": [
    "print()\n",
    "print(\"*\"*20)\n",
    "print(img.shape)"
   ]
  },
  {
   "cell_type": "code",
   "execution_count": 4,
   "metadata": {},
   "outputs": [],
   "source": [
    "approx_n_shape = np.reshape(approx,(-1,approx.shape[-1])).astype(np.float32)  # 三维转二维"
   ]
  },
  {
   "cell_type": "code",
   "execution_count": 7,
   "metadata": {},
   "outputs": [],
   "source": [
    "M = cv2.getPerspectiveTransform(approx_n_shape, canvas)\n",
    "result = cv2.warpPerspective(img, M, (0, 0))"
   ]
  },
  {
   "cell_type": "code",
   "execution_count": 9,
   "metadata": {},
   "outputs": [],
   "source": [
    "cv2.imwrite(os.path.abspath('.')+\"result.jpg\",result)\n",
    "cv2.imshow(\"result\", result)\n",
    "cv2.waitKey(0)\n",
    "cv2.destroyAllWindows()"
   ]
  },
  {
   "cell_type": "code",
   "execution_count": null,
   "metadata": {},
   "outputs": [],
   "source": [
    "print(approx)\n",
    "print(\"*\"*20)\n",
    "# print(hull)\n",
    "\n",
    "\n",
    "153* 2,243*2"
   ]
  },
  {
   "cell_type": "code",
   "execution_count": null,
   "metadata": {},
   "outputs": [],
   "source": [
    "cv2.approxPolyDP()\n",
    "cv2.convexHull()"
   ]
  },
  {
   "cell_type": "code",
   "execution_count": 52,
   "metadata": {},
   "outputs": [
    {
     "name": "stdout",
     "output_type": "stream",
     "text": [
      "{'m00': 69946.0, 'm10': 15582187.666666666, 'm01': 11412471.0, 'm20': 3990143059.333333, 'm11': 2530792639.9166665, 'm02': 2188950097.333333, 'm30': 1120795118987.3, 'm21': 639020865232.7, 'm12': 483755924936.43335, 'm03': 466484647773.10004, 'mu20': 518828438.35116434, 'mu11': -11615287.089753151, 'mu02': 326878008.4956436, 'mu30': 729323176.7841797, 'mu21': -6840353193.27803, 'mu12': -96088838.18281555, 'mu03': 2665400192.7892456, 'nu20': 0.10604690688457782, 'nu11': -0.002374128280938567, 'nu02': 0.06681284056000698, 'nu30': 0.0005636542761617798, 'nu21': -0.005286537505703029, 'nu12': -7.426184475855275e-05, 'nu03': 0.002059943059772894}\n"
     ]
    }
   ],
   "source": [
    "import cv2\n",
    "import numpy as np\n",
    "img = cv2.imread('try_angle.jpg',0)\n",
    "ret,thresh = cv2.threshold(img,127,255,0)\n",
    "im2,contours,hierarchy = cv2.findContours(thresh, 1, 2)\n",
    "cnt = contours[0]\n",
    "M = cv2.moments(cnt)\n",
    "print(M)"
   ]
  },
  {
   "cell_type": "code",
   "execution_count": 61,
   "metadata": {},
   "outputs": [
    {
     "data": {
      "text/plain": [
       "(4, 1, 2)"
      ]
     },
     "execution_count": 61,
     "metadata": {},
     "output_type": "execute_result"
    }
   ],
   "source": [
    "cnt.shape"
   ]
  },
  {
   "cell_type": "code",
   "execution_count": 62,
   "metadata": {},
   "outputs": [],
   "source": [
    "cx = int(M['m10']/M['m00'])\n",
    "cy = int(M['m01']/M['m00'])"
   ]
  },
  {
   "cell_type": "code",
   "execution_count": 63,
   "metadata": {},
   "outputs": [],
   "source": [
    "area = cv2.contourArea(cnt)"
   ]
  },
  {
   "cell_type": "code",
   "execution_count": 48,
   "metadata": {},
   "outputs": [],
   "source": [
    "perimeter = cv2.arcLength(cnt,True)"
   ]
  },
  {
   "cell_type": "code",
   "execution_count": 49,
   "metadata": {},
   "outputs": [],
   "source": [
    "epsilon = 0.1*cv2.arcLength(cnt,True)\n",
    "approx = cv2.approxPolyDP(cnt,epsilon,True)\n"
   ]
  },
  {
   "cell_type": "code",
   "execution_count": 50,
   "metadata": {},
   "outputs": [],
   "source": [
    "hull = cv2.convexHull(cnt)"
   ]
  },
  {
   "cell_type": "code",
   "execution_count": 41,
   "metadata": {},
   "outputs": [],
   "source": [
    "appr = cv2.drawContours(img, approx, -1, (255,0,0,),1)\n",
    "hu = cv2.drawContours(img, hull, -1, (255,0,0,),1)"
   ]
  },
  {
   "cell_type": "code",
   "execution_count": 42,
   "metadata": {},
   "outputs": [],
   "source": [
    "cv2.imshow(\"img\", img)\n",
    "cv2.imshow(\"appr\", appr)\n",
    "cv2.imshow(\"hu\", hu)\n",
    "\n",
    "cv2.waitKey(0)\n",
    "cv2.destroyAllWindows()\n",
    "    "
   ]
  },
  {
   "cell_type": "code",
   "execution_count": 65,
   "metadata": {},
   "outputs": [
    {
     "name": "stdout",
     "output_type": "stream",
     "text": [
      "66 58 545 337\n",
      "(424, 1, 2)\n"
     ]
    }
   ],
   "source": [
    "for cnt in contours:\n",
    "    # cv2.rectangle(img, (x, y), (x+w, y+h),(0, 255, 0), 2)\n",
    "    x, y, w, h = cv2.boundingRect(cnt)\n",
    "    if w < 200:\n",
    "        continue\n",
    "    #£ind bounding box coordinates\n",
    "    else:\n",
    "        print(x,y,w,h)\n",
    "        print(cnt.shape)\n",
    "        area = cv2.contourArea(cnt)\n",
    "        perimeter = cv2.arcLength(cnt,True)\n",
    "        epsilon = 0.1*cv2.arcLength(cnt,True)\n",
    "        approx = cv2.approxPolyDP(cnt,epsilon,True)\n",
    "        appr = cv2.drawContours(img, [approx], -1, (255,0,0,),1)\n",
    "        \n",
    "        hull = cv2.convexHull(cnt)\n",
    "        hu = cv2.drawContours(img, [hull], -1, (255,255,255,),1)\n",
    "        \n",
    "        cv2.imshow(\"appr\", appr)\n",
    "        cv2.imshow(\"img\", img)\n",
    "        cv2.imshow(\"hu\", hu)\n",
    "        cv2.waitKey(0)\n",
    "        cv2.destroyAllWindows()"
   ]
  },
  {
   "cell_type": "markdown",
   "metadata": {},
   "source": [
    "## 特征匹配\n",
    "可行性不高"
   ]
  },
  {
   "cell_type": "code",
   "execution_count": 51,
   "metadata": {},
   "outputs": [
    {
     "name": "stdout",
     "output_type": "stream",
     "text": [
      "(array([101, 101, 102, 102, 102, 103, 103, 151, 151, 151, 152, 152, 152,\n",
      "       153, 153, 153, 199, 200, 200, 201, 201, 246], dtype=int64), array([545, 546, 545, 546, 547, 545, 546, 543, 544, 545, 543, 544, 545,\n",
      "       543, 544, 545, 541, 540, 541, 540, 541, 538], dtype=int64))\n",
      "0.05900001525878906\n"
     ]
    }
   ],
   "source": [
    "import cv2\n",
    "import numpy as np\n",
    "import time\n",
    "\n",
    "time1 = time.time()\n",
    "img_bgr = cv2.imread(\"opencv-template-matching-python-tutorial.jpg\", 1)\n",
    "# img_bgr = cv2.imread(\"people.jpg\")\n",
    "\n",
    "img_gray = cv2.cvtColor(img_bgr, cv2.COLOR_BGR2GRAY)\n",
    "\n",
    "# template = cv2.imread('coner2.jpg', 0)\n",
    "template = cv2.imread('opencv-template-for-matching.jpg', 0)\n",
    "\n",
    "w, h = template.shape[::-1]\n",
    "\n",
    "res = cv2.matchTemplate(img_gray, template, cv2.TM_CCOEFF_NORMED) \n",
    "threshold = 0.8\n",
    "loc = np.where(res >= threshold)\n",
    "if loc:\n",
    "    print(loc)\n",
    "    \n",
    "for pt in zip(*loc[::-1]):\n",
    "    cv2.rectangle(img_bgr, pt, (pt[0]+w, pt[1]+h), (0,0,255), 1)\n",
    "    \n",
    "cv2.imshow(\"img_bgr\",img_bgr)\n",
    "time2 = time.time()\n",
    "use_time = time2 - time1\n",
    "print(use_time)\n",
    "cv2.waitKey(0)\n",
    "cv2.destroyAllWindows()"
   ]
  },
  {
   "cell_type": "code",
   "execution_count": null,
   "metadata": {},
   "outputs": [],
   "source": []
  }
 ],
 "metadata": {
  "kernelspec": {
   "display_name": "ic",
   "language": "python",
   "name": "ic"
  },
  "language_info": {
   "codemirror_mode": {
    "name": "ipython",
    "version": 3
   },
   "file_extension": ".py",
   "mimetype": "text/x-python",
   "name": "python",
   "nbconvert_exporter": "python",
   "pygments_lexer": "ipython3",
   "version": "3.7.2"
  }
 },
 "nbformat": 4,
 "nbformat_minor": 2
}
