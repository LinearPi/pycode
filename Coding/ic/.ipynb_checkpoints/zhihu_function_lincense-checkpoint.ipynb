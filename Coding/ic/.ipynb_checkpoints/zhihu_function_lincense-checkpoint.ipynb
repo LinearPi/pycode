{
 "cells": [
  {
   "cell_type": "code",
   "execution_count": 2,
   "metadata": {},
   "outputs": [
    {
     "ename": "ImportError",
     "evalue": "C extension: No module named 'pandas._libs.tslibs.conversion' not built. If you want to import pandas from the source directory, you may need to run 'python setup.py build_ext --inplace --force' to build the C extensions first.",
     "output_type": "error",
     "traceback": [
      "\u001b[1;31m---------------------------------------------------------------------------\u001b[0m",
      "\u001b[1;31mImportError\u001b[0m                               Traceback (most recent call last)",
      "\u001b[1;32mC:\\ProgramData\\Anaconda3\\envs\\ic\\lib\\site-packages\\pandas\\__init__.py\u001b[0m in \u001b[0;36m<module>\u001b[1;34m()\u001b[0m\n\u001b[0;32m     25\u001b[0m \u001b[1;32mtry\u001b[0m\u001b[1;33m:\u001b[0m\u001b[1;33m\u001b[0m\u001b[0m\n\u001b[1;32m---> 26\u001b[1;33m     from pandas._libs import (hashtable as _hashtable,\n\u001b[0m\u001b[0;32m     27\u001b[0m                              \u001b[0mlib\u001b[0m \u001b[1;32mas\u001b[0m \u001b[0m_lib\u001b[0m\u001b[1;33m,\u001b[0m\u001b[1;33m\u001b[0m\u001b[0m\n",
      "\u001b[1;32mC:\\ProgramData\\Anaconda3\\envs\\ic\\lib\\site-packages\\pandas\\_libs\\__init__.py\u001b[0m in \u001b[0;36m<module>\u001b[1;34m()\u001b[0m\n\u001b[0;32m      3\u001b[0m \u001b[1;33m\u001b[0m\u001b[0m\n\u001b[1;32m----> 4\u001b[1;33m from .tslibs import (\n\u001b[0m\u001b[0;32m      5\u001b[0m     iNaT, NaT, Timestamp, Timedelta, OutOfBoundsDatetime, Period)\n",
      "\u001b[1;32mC:\\ProgramData\\Anaconda3\\envs\\ic\\lib\\site-packages\\pandas\\_libs\\tslibs\\__init__.py\u001b[0m in \u001b[0;36m<module>\u001b[1;34m()\u001b[0m\n\u001b[0;32m      3\u001b[0m \u001b[1;33m\u001b[0m\u001b[0m\n\u001b[1;32m----> 4\u001b[1;33m \u001b[1;32mfrom\u001b[0m \u001b[1;33m.\u001b[0m\u001b[0mconversion\u001b[0m \u001b[1;32mimport\u001b[0m \u001b[0mnormalize_date\u001b[0m\u001b[1;33m,\u001b[0m \u001b[0mlocalize_pydatetime\u001b[0m\u001b[1;33m,\u001b[0m \u001b[0mtz_convert_single\u001b[0m\u001b[1;33m\u001b[0m\u001b[0m\n\u001b[0m\u001b[0;32m      5\u001b[0m \u001b[1;32mfrom\u001b[0m \u001b[1;33m.\u001b[0m\u001b[0mnattype\u001b[0m \u001b[1;32mimport\u001b[0m \u001b[0mNaT\u001b[0m\u001b[1;33m,\u001b[0m \u001b[0miNaT\u001b[0m\u001b[1;33m,\u001b[0m \u001b[0mis_null_datetimelike\u001b[0m\u001b[1;33m\u001b[0m\u001b[0m\n",
      "\u001b[1;31mImportError\u001b[0m: No module named 'pandas._libs.tslibs.conversion'",
      "\nDuring handling of the above exception, another exception occurred:\n",
      "\u001b[1;31mImportError\u001b[0m                               Traceback (most recent call last)",
      "\u001b[1;32m<ipython-input-2-c81436de46f5>\u001b[0m in \u001b[0;36m<module>\u001b[1;34m()\u001b[0m\n\u001b[1;32m----> 1\u001b[1;33m \u001b[1;32mimport\u001b[0m \u001b[0mpytesseract\u001b[0m\u001b[1;33m\u001b[0m\u001b[0m\n\u001b[0m\u001b[0;32m      2\u001b[0m \u001b[1;32mimport\u001b[0m \u001b[0mcv2\u001b[0m\u001b[1;33m\u001b[0m\u001b[0m\n\u001b[0;32m      3\u001b[0m \u001b[1;32mimport\u001b[0m \u001b[0mpyocr\u001b[0m\u001b[1;33m\u001b[0m\u001b[0m\n\u001b[0;32m      4\u001b[0m \u001b[1;32mfrom\u001b[0m \u001b[0mPIL\u001b[0m \u001b[1;32mimport\u001b[0m \u001b[0mImage\u001b[0m\u001b[1;33m\u001b[0m\u001b[0m\n\u001b[0;32m      5\u001b[0m \u001b[1;32mfrom\u001b[0m \u001b[0mPIL\u001b[0m\u001b[1;33m.\u001b[0m\u001b[0mImageOps\u001b[0m \u001b[1;32mimport\u001b[0m \u001b[0minvert\u001b[0m\u001b[1;33m\u001b[0m\u001b[0m\n",
      "\u001b[1;32mC:\\ProgramData\\Anaconda3\\envs\\ic\\lib\\site-packages\\pytesseract\\__init__.py\u001b[0m in \u001b[0;36m<module>\u001b[1;34m()\u001b[0m\n\u001b[1;32m----> 1\u001b[1;33m from .pytesseract import (\n\u001b[0m\u001b[0;32m      2\u001b[0m     \u001b[0mget_tesseract_version\u001b[0m\u001b[1;33m,\u001b[0m\u001b[1;33m\u001b[0m\u001b[0m\n\u001b[0;32m      3\u001b[0m     \u001b[0mimage_to_string\u001b[0m\u001b[1;33m,\u001b[0m\u001b[1;33m\u001b[0m\u001b[0m\n\u001b[0;32m      4\u001b[0m     \u001b[0mimage_to_data\u001b[0m\u001b[1;33m,\u001b[0m\u001b[1;33m\u001b[0m\u001b[0m\n\u001b[0;32m      5\u001b[0m     \u001b[0mimage_to_boxes\u001b[0m\u001b[1;33m,\u001b[0m\u001b[1;33m\u001b[0m\u001b[0m\n",
      "\u001b[1;32mC:\\ProgramData\\Anaconda3\\envs\\ic\\lib\\site-packages\\pytesseract\\pytesseract.py\u001b[0m in \u001b[0;36m<module>\u001b[1;34m()\u001b[0m\n\u001b[0;32m     30\u001b[0m \u001b[0mpandas_installed\u001b[0m \u001b[1;33m=\u001b[0m \u001b[0mfind_loader\u001b[0m\u001b[1;33m(\u001b[0m\u001b[1;34m'pandas'\u001b[0m\u001b[1;33m)\u001b[0m \u001b[1;32mis\u001b[0m \u001b[1;32mnot\u001b[0m \u001b[1;32mNone\u001b[0m\u001b[1;33m\u001b[0m\u001b[0m\n\u001b[0;32m     31\u001b[0m \u001b[1;32mif\u001b[0m \u001b[0mpandas_installed\u001b[0m\u001b[1;33m:\u001b[0m\u001b[1;33m\u001b[0m\u001b[0m\n\u001b[1;32m---> 32\u001b[1;33m     \u001b[1;32mimport\u001b[0m \u001b[0mpandas\u001b[0m \u001b[1;32mas\u001b[0m \u001b[0mpd\u001b[0m\u001b[1;33m\u001b[0m\u001b[0m\n\u001b[0m\u001b[0;32m     33\u001b[0m \u001b[1;33m\u001b[0m\u001b[0m\n\u001b[0;32m     34\u001b[0m \u001b[1;31m# CHANGE THIS IF TESSERACT IS NOT IN YOUR PATH, OR IS NAMED DIFFERENTLY\u001b[0m\u001b[1;33m\u001b[0m\u001b[1;33m\u001b[0m\u001b[0m\n",
      "\u001b[1;32mC:\\ProgramData\\Anaconda3\\envs\\ic\\lib\\site-packages\\pandas\\__init__.py\u001b[0m in \u001b[0;36m<module>\u001b[1;34m()\u001b[0m\n\u001b[0;32m     33\u001b[0m                       \u001b[1;34m\"pandas from the source directory, you may need to run \"\u001b[0m\u001b[1;33m\u001b[0m\u001b[0m\n\u001b[0;32m     34\u001b[0m                       \u001b[1;34m\"'python setup.py build_ext --inplace --force' to build \"\u001b[0m\u001b[1;33m\u001b[0m\u001b[0m\n\u001b[1;32m---> 35\u001b[1;33m                       \"the C extensions first.\".format(module))\n\u001b[0m\u001b[0;32m     36\u001b[0m \u001b[1;33m\u001b[0m\u001b[0m\n\u001b[0;32m     37\u001b[0m \u001b[1;32mfrom\u001b[0m \u001b[0mdatetime\u001b[0m \u001b[1;32mimport\u001b[0m \u001b[0mdatetime\u001b[0m\u001b[1;33m\u001b[0m\u001b[0m\n",
      "\u001b[1;31mImportError\u001b[0m: C extension: No module named 'pandas._libs.tslibs.conversion' not built. If you want to import pandas from the source directory, you may need to run 'python setup.py build_ext --inplace --force' to build the C extensions first."
     ]
    }
   ],
   "source": [
    "import pytesseract\n",
    "import cv2\n",
    "import pyocr \n",
    "from PIL import Image\n",
    "from PIL.ImageOps import invert\n",
    "import matplotlib.pyplot as plt\n",
    "import time\n",
    "import numpy as np\n",
    "import pytesseract\n",
    "\n",
    "import imutils\n",
    "from imutils.perspective import four_point_transform"
   ]
  },
  {
   "cell_type": "code",
   "execution_count": 178,
   "metadata": {},
   "outputs": [],
   "source": [
    "img = cv2.imread(\"license/AA.jpg\", cv2.IMREAD_COLOR)\n",
    "img_gray = cv2.cvtColor(img, cv2.COLOR_BGR2GRAY)\n",
    "# 1440*900\n",
    "bili = 800/img_gray.shape[0]\n",
    "re_img_gray = cv2.resize(img_gray, dsize=(0,0), fx=bili, fy = bili)\n",
    "\n",
    "_, img_gray_th = cv2.threshold(re_img_gray, 0, 255, cv2.THRESH_BINARY_INV | cv2.THRESH_OTSU)\n",
    "poin_img = cv2.imread(\"license/A_point.jpg\", cv2.IMREAD_GRAYSCALE)\n",
    "_, poin_img_th = cv2.threshold(poin_img, 0, 255, cv2.THRESH_BINARY_INV | cv2.THRESH_OTSU)"
   ]
  },
  {
   "cell_type": "code",
   "execution_count": 175,
   "metadata": {},
   "outputs": [],
   "source": [
    "w, h = poin_img.shape[::-1]\n",
    "res = cv2.matchTemplate(img_gray_th, poin_img_th, cv2.TM_CCORR_NORMED) \n",
    "threshold = res.max()\n",
    "loc = np.where(res >= threshold)\n",
    "for x,y in zip(*loc[::-1]):\n",
    "    cv2.rectangle(re_img_gray, (x,y), (x+w, y+h), (0,0,255), 1)"
   ]
  },
  {
   "cell_type": "code",
   "execution_count": null,
   "metadata": {},
   "outputs": [],
   "source": []
  },
  {
   "cell_type": "code",
   "execution_count": 177,
   "metadata": {},
   "outputs": [],
   "source": [
    "cv2.imshow(\"poin_img_th\",re_img_gray)\n",
    "cv2.waitKey(0)\n",
    "cv2.destroyAllWindows()"
   ]
  },
  {
   "cell_type": "markdown",
   "metadata": {},
   "source": [
    "# 对于证书的裁剪"
   ]
  },
  {
   "cell_type": "code",
   "execution_count": 2,
   "metadata": {},
   "outputs": [],
   "source": [
    "image = cv2.imread('license/AA.jpg')\n",
    "width1, height1 = image.shape[1],image.shape[0]\n",
    "\n",
    "# bili = 800/image.shape[0]\n",
    "# re_img_gray = cv2.resize(image, dsize=(0,0), fx=bili, fy = bili)\n",
    "\n",
    "gray = cv2.cvtColor(image, cv2.COLOR_BGR2GRAY)\n",
    "#高斯滤波\n",
    "blurred = cv2.GaussianBlur(gray, (5, 5), 0)\n",
    "#自适应二值化方法\n",
    "blurred=cv2.adaptiveThreshold(blurred,255,cv2.ADAPTIVE_THRESH_MEAN_C,cv2.THRESH_BINARY,51,2)\n",
    "'''\n",
    "adaptiveThreshold函数：第一个参数src指原图像，原图像应该是灰度图。\n",
    "    第二个参数x指当像素值高于（有时是小于）阈值时应该被赋予的新的像素值\n",
    "    第三个参数adaptive_method 指： CV_ADAPTIVE_THRESH_MEAN_C 或 CV_ADAPTIVE_THRESH_GAUSSIAN_C\n",
    "    第四个参数threshold_type  指取阈值类型：必须是下者之一 CV_THRESH_BINARY,• CV_THRESH_BINARY_INV\n",
    "    第五个参数 block_size 指用来计算阈值的象素邻域大小: 3, 5, 7, ...\n",
    "    第六个参数param1指与方法有关的参数。对方法CV_ADAPTIVE_THRESH_MEAN_C 和 CV_ADAPTIVE_THRESH_GAUSSIAN_C， \n",
    "    它是一个从均值或加权均值提取的常数, 尽管它可以是负数。\n",
    "'''\n",
    "#这一步可有可无，主要是增加一圈白框，以免刚好卷子边框压线后期边缘检测无果。好的样本图就不用考虑这种问题\n",
    "blurred=cv2.copyMakeBorder(blurred,5,5,5,5,cv2.BORDER_CONSTANT,value=(255,255,255))\n",
    "\n",
    "edged = cv2.Canny(blurred, 10, 100)\n",
    "cnts = cv2.findContours(edged, cv2.RETR_EXTERNAL,cv2.CHAIN_APPROX_SIMPLE)\n",
    "cnts = cnts[0] if imutils.is_cv2() else cnts[1]\n",
    "docCnt = None\n",
    "\n",
    "if len(cnts) > 0:\n",
    "    # 将轮廓按大小降序排序\n",
    "    cnts = sorted(cnts, key=cv2.contourArea, reverse=True)\n",
    "    # 对排序后的轮廓循环处理\n",
    "    for c in cnts:\n",
    "        # 获取近似的轮廓\n",
    "        peri = cv2.arcLength(c, True)\n",
    "        approx = cv2.approxPolyDP(c, 0.02 * peri, True)\n",
    "        # 如果近似轮廓有四个顶点，那么就认为找到了答题卡\n",
    "        if len(approx) == 4:\n",
    "            docCnt = approx\n",
    "            break\n",
    "            \n",
    "newimage = image.copy()\n",
    "for i in docCnt:\n",
    "    #circle函数为在图像上作图，新建了一个图像用来演示四角选取\n",
    "    cv2.circle(newimage, (i[0][0],i[0][1]), 10, (255, 0, 0), -1)\n",
    "    \n",
    "paper = four_point_transform(image, docCnt.reshape(4, 2))\n",
    "warped = four_point_transform(gray, docCnt.reshape(4, 2))\n",
    "\n",
    "# 对灰度图应用二值化算法\n",
    "thresh=cv2.adaptiveThreshold(warped,255,cv2.ADAPTIVE_THRESH_MEAN_C,cv2.THRESH_BINARY,53,2)\n",
    "#重塑可能用到的图像\n",
    "thresh = cv2.resize(thresh, (width1, height1), cv2.INTER_LANCZOS4)\n",
    "paper = cv2.resize(paper, (width1, height1), cv2.INTER_LANCZOS4)\n",
    "warped = cv2.resize(warped, (width1, height1), cv2.INTER_LANCZOS4)\n",
    "#均值滤波\n",
    "# ChQImg = cv2.blur(thresh, (23, 23))\n",
    "#二进制二值化\n",
    "# ChQImg = cv2.threshold(ChQImg, 100, 225, cv2.THRESH_BINARY)[1]\n",
    "\n",
    "cv2.imshow(\"edged\",edged)\n",
    "cv2.imshow(\"gray\",gray)\n",
    "cv2.imshow(\"newimage\",newimage)\n",
    "cv2.imshow(\"thresh\",thresh)\n",
    "cv2.imshow(\"paper\",paper)\n",
    "cv2.imshow(\"warped\",warped)\n",
    "cv2.imwrite(\"license/AAxwarped.jpg\",warped)\n",
    "cv2.imwrite(\"license/AAxpaper.jpg\",paper)\n",
    "\n",
    "cv2.waitKey(0)\n",
    "cv2.destroyAllWindows()"
   ]
  },
  {
   "cell_type": "code",
   "execution_count": 97,
   "metadata": {},
   "outputs": [
    {
     "data": {
      "text/plain": [
       "(800, 555, 3)"
      ]
     },
     "execution_count": 97,
     "metadata": {},
     "output_type": "execute_result"
    }
   ],
   "source": [
    "re_img_gray.shape"
   ]
  },
  {
   "cell_type": "code",
   "execution_count": 20,
   "metadata": {
    "scrolled": true
   },
   "outputs": [
    {
     "name": "stdout",
     "output_type": "stream",
     "text": [
      "530 580 295 845\n",
      "615 660 280 860\n",
      "660 713 280 860\n",
      "713 763 280 860\n",
      "763 810 280 860\n",
      "810 860 280 860\n",
      "860 909 280 860\n",
      "909 955 280 860\n",
      "955 1180 280 950\n"
     ]
    },
    {
     "data": {
      "text/plain": [
       "{'uuid': '统 一 社 会 信 用 代 码 91510100MA6AQPBR8H',\n",
       " 'name': '成 都 西 辰 易 通 科 技 有 限 公 司',\n",
       " 'type': '有 限 责 任 公 司 ( 自 然 人 投 资 或 控 股 的 法 人 独 资 )',\n",
       " 'address': '成 都 高 新 区 科 园 三 路 4 号 1 栋 12 层 2 号',\n",
       " 'legal': '张 义',\n",
       " 'capital': '( 人 民 币 ) 壹 佰 万 元',\n",
       " 'start': '2019 年 1 月 23 日',\n",
       " 'limit': '2019 年 1 月 23 日 至 永 久',\n",
       " 'scope': '计 算 机 软 件 技 术 开 发 、 技 术 咨 询 、 技 术 转 让 、 技 术 服 务 ; 电 子 产\\n品 的 设 计 、 开 发 及 技 术 服 务 ; 批 发 计 算 机 及 零 配 件 、 电 子 产 品 、\\n\\n通 信 设 备 ( 不 含 无 线 广 播 电 视 发 射 及 卫 星 地 面 接 收 设 备 》; 信 息\\n霞霾善瞳寰簧. ( 依 法 须 经 批 准 的 项 目 , 经 相 关 部 门 批 准 后 方 可 开'}"
      ]
     },
     "execution_count": 20,
     "metadata": {},
     "output_type": "execute_result"
    }
   ],
   "source": [
    "def inder(image):\n",
    "    image = cv2.imread(image)\n",
    "    img_location = {\"qrcode\": [1180,1420,65,295],\n",
    "                    \"uuid\": [530,580,295,845],\n",
    "                    \"name\": [615,660,280,860],\n",
    "                    \"type\": [660,713,280,860],\n",
    "                    \"address\": [713,763,280,860],\n",
    "                    \"legal\": [763,810,280,860],\n",
    "                    \"capital\": [810,860,280,860],\n",
    "                    \"start\": [860,909,280,860],\n",
    "                    \"limit\": [909,955,280,860],\n",
    "                    \"scope\": [955,1180,280,950]}\n",
    "    resout_json = {}\n",
    "    for resout in img_location:\n",
    "        if resout ==\"qrcode\":\n",
    "            continue\n",
    "        print(img_location[resout][0],img_location[resout][1], img_location[resout][2], img_location[resout][3])\n",
    "        resout_json[resout] = pytesseract.image_to_string(image[img_location[resout][0]: img_location[resout][1], img_location[resout][2]: img_location[resout][3]], lang='chi_sim')\n",
    "    return resout_json\n",
    "        cv2.imwrite(f\"license/out/{resout}.jpg\",image[img_location[resout][0]: img_location[resout][1], img_location[resout][2]: img_location[resout][3]])\n",
    "\n",
    "#     cv2.imshow(\"RQ\",image[1180:1420,65:295])\n",
    "#     cv2.waitKey(0)\n",
    "#     cv2.destroyAllWindows()\n",
    "image = 'license/resout.jpg'\n",
    "inder(image)"
   ]
  },
  {
   "cell_type": "code",
   "execution_count": 1,
   "metadata": {},
   "outputs": [
    {
     "ename": "NameError",
     "evalue": "name 'cv2' is not defined",
     "output_type": "error",
     "traceback": [
      "\u001b[1;31m---------------------------------------------------------------------------\u001b[0m",
      "\u001b[1;31mNameError\u001b[0m                                 Traceback (most recent call last)",
      "\u001b[1;32m<ipython-input-1-dd5f79e7b93a>\u001b[0m in \u001b[0;36m<module>\u001b[1;34m()\u001b[0m\n\u001b[0;32m      5\u001b[0m \u001b[1;32mimport\u001b[0m \u001b[0mencodings\u001b[0m\u001b[1;33m\u001b[0m\u001b[0m\n\u001b[0;32m      6\u001b[0m \u001b[1;33m\u001b[0m\u001b[0m\n\u001b[1;32m----> 7\u001b[1;33m \u001b[0mimage_jpg\u001b[0m \u001b[1;33m=\u001b[0m \u001b[0mcv2\u001b[0m\u001b[1;33m.\u001b[0m\u001b[0mimread\u001b[0m\u001b[1;33m(\u001b[0m\u001b[1;34m'license/resout.jpg'\u001b[0m\u001b[1;33m)\u001b[0m\u001b[1;33m\u001b[0m\u001b[0m\n\u001b[0m\u001b[0;32m      8\u001b[0m \u001b[0mre_image\u001b[0m \u001b[1;33m=\u001b[0m \u001b[0mcv2\u001b[0m\u001b[1;33m.\u001b[0m\u001b[0mresize\u001b[0m\u001b[1;33m(\u001b[0m\u001b[0mimage_jpg\u001b[0m\u001b[1;33m,\u001b[0m\u001b[1;33m(\u001b[0m\u001b[1;36m1000\u001b[0m\u001b[1;33m,\u001b[0m \u001b[1;36m1500\u001b[0m\u001b[1;33m)\u001b[0m\u001b[1;33m)\u001b[0m\u001b[1;33m\u001b[0m\u001b[0m\n\u001b[0;32m      9\u001b[0m \u001b[0mimage_png\u001b[0m \u001b[1;33m=\u001b[0m \u001b[0mcv2\u001b[0m\u001b[1;33m.\u001b[0m\u001b[0mcvtColor\u001b[0m\u001b[1;33m(\u001b[0m\u001b[0mre_image\u001b[0m\u001b[1;33m,\u001b[0m \u001b[0mcv2\u001b[0m\u001b[1;33m.\u001b[0m\u001b[0mCOLOR_BGR2RGBA\u001b[0m\u001b[1;33m)\u001b[0m\u001b[1;33m\u001b[0m\u001b[0m\n",
      "\u001b[1;31mNameError\u001b[0m: name 'cv2' is not defined"
     ]
    }
   ],
   "source": [
    "# -*- coding: utf-8 -*-\n",
    "import pyzbar\n",
    "from pyzbar.pyzbar import decode\n",
    "from pyzbar.pyzbar import ZBarSymbol\n",
    "import encodings\n",
    "\n",
    "image_jpg = cv2.imread('license/resout.jpg')\n",
    "re_image = cv2.resize(image_jpg,(1000, 1500))\n",
    "image_png = cv2.cvtColor(re_image, cv2.COLOR_BGR2RGBA)\n",
    "code2D = image_png[1180:1420,65:295]\n",
    "\n",
    "# cv2.imwrite(\"code2221.png\", code2D)\n",
    "\n",
    "result = decode(code2D, symbols=[ZBarSymbol.QRCODE])\n",
    "for info in result:\n",
    "    print(info.type, \"\\n**\\n\",info.data.decode(\"utf-8\"))"
   ]
  },
  {
   "cell_type": "code",
   "execution_count": null,
   "metadata": {},
   "outputs": [],
   "source": []
  },
  {
   "cell_type": "code",
   "execution_count": null,
   "metadata": {},
   "outputs": [],
   "source": [
    "result"
   ]
  },
  {
   "cell_type": "code",
   "execution_count": 4,
   "metadata": {},
   "outputs": [],
   "source": [
    "cv2.imshow(\"code2D\",code2D)\n",
    "cv2.waitKey(0)\n",
    "cv2.destroyAllWindows()"
   ]
  },
  {
   "cell_type": "code",
   "execution_count": null,
   "metadata": {},
   "outputs": [],
   "source": []
  },
  {
   "cell_type": "code",
   "execution_count": 58,
   "metadata": {},
   "outputs": [
    {
     "data": {
      "text/plain": [
       "'喜欢'"
      ]
     },
     "execution_count": 58,
     "metadata": {},
     "output_type": "execute_result"
    }
   ],
   "source": [
    "ss = \"喜欢\"\n",
    "ss.encode(\"utf-8\").decode(\"utf-8\")"
   ]
  },
  {
   "cell_type": "markdown",
   "metadata": {},
   "source": [
    "# 对于身份证的剪切"
   ]
  },
  {
   "cell_type": "code",
   "execution_count": 15,
   "metadata": {},
   "outputs": [],
   "source": [
    "image1 = cv2.imread('people.jpg')\n",
    "image = cv2.pyrMeanShiftFiltering(image1, 10, 15)\n",
    "width1, height1 = image.shape[1],image.shape[0]\n",
    "\n",
    "# bili = 800/image.shape[0]\n",
    "# re_img_gray = cv2.resize(image, dsize=(0,0), fx=bili, fy = bili)\n",
    "\n",
    "gray = cv2.cvtColor(image, cv2.COLOR_BGR2GRAY)\n",
    "#高斯滤波\n",
    "blurred = cv2.GaussianBlur(gray, (5, 5), 0)\n",
    "#自适应二值化方法\n",
    "blurred=cv2.adaptiveThreshold(blurred,255,cv2.ADAPTIVE_THRESH_MEAN_C,cv2.THRESH_BINARY,51,2)\n",
    "'''\n",
    "adaptiveThreshold函数：第一个参数src指原图像，原图像应该是灰度图。\n",
    "    第二个参数x指当像素值高于（有时是小于）阈值时应该被赋予的新的像素值\n",
    "    第三个参数adaptive_method 指： CV_ADAPTIVE_THRESH_MEAN_C 或 CV_ADAPTIVE_THRESH_GAUSSIAN_C\n",
    "    第四个参数threshold_type  指取阈值类型：必须是下者之一 CV_THRESH_BINARY,• CV_THRESH_BINARY_INV\n",
    "    第五个参数 block_size 指用来计算阈值的象素邻域大小: 3, 5, 7, ...\n",
    "    第六个参数param1指与方法有关的参数。对方法CV_ADAPTIVE_THRESH_MEAN_C 和 CV_ADAPTIVE_THRESH_GAUSSIAN_C， \n",
    "    它是一个从均值或加权均值提取的常数, 尽管它可以是负数。\n",
    "'''\n",
    "#这一步可有可无，主要是增加一圈白框，以免刚好卷子边框压线后期边缘检测无果。好的样本图就不用考虑这种问题\n",
    "blurred=cv2.copyMakeBorder(blurred,5,5,5,5,cv2.BORDER_CONSTANT,value=(255,255,255))\n",
    "\n",
    "edged = cv2.Canny(blurred, 10, 100)\n",
    "cnts = cv2.findContours(edged, cv2.RETR_EXTERNAL,cv2.CHAIN_APPROX_SIMPLE)\n",
    "cnts = cnts[0] if imutils.is_cv2() else cnts[1]\n",
    "docCnt = None\n",
    "\n",
    "if len(cnts) > 0:\n",
    "    # 将轮廓按大小降序排序\n",
    "    cnts = sorted(cnts, key=cv2.contourArea, reverse=True)\n",
    "    # 对排序后的轮廓循环处理\n",
    "    for c in cnts:\n",
    "        # 获取近似的轮廓\n",
    "        peri = cv2.arcLength(c, True)\n",
    "        approx = cv2.approxPolyDP(c, 0.02 * peri, True)\n",
    "        # 如果近似轮廓有四个顶点，那么就认为找到了答题卡\n",
    "        if len(approx) == 4:\n",
    "            docCnt = approx\n",
    "            break\n",
    "            \n",
    "newimage = image.copy()\n",
    "for i in docCnt:\n",
    "    #circle函数为在图像上作图，新建了一个图像用来演示四角选取\n",
    "    cv2.circle(newimage, (i[0][0],i[0][1]), 10, (255, 0, 0), -1)\n",
    "    \n",
    "paper = four_point_transform(image1, docCnt.reshape(4, 2))\n",
    "warped = four_point_transform(gray, docCnt.reshape(4, 2))\n",
    "\n",
    "# 对灰度图应用二值化算法\n",
    "thresh=cv2.adaptiveThreshold(warped,255,cv2.ADAPTIVE_THRESH_MEAN_C,cv2.THRESH_BINARY,53,2)\n",
    "#重塑可能用到的图像\n",
    "thresh = cv2.resize(thresh, (width1, height1), cv2.INTER_LANCZOS4)\n",
    "paper = cv2.resize(paper, (width1, height1), cv2.INTER_LANCZOS4)\n",
    "warped = cv2.resize(warped, (width1, height1), cv2.INTER_LANCZOS4)\n",
    "#均值滤波\n",
    "# ChQImg = cv2.blur(thresh, (23, 23))\n",
    "#二进制二值化\n",
    "# ChQImg = cv2.threshold(ChQImg, 100, 225, cv2.THRESH_BINARY)[1]\n",
    "\n",
    "cv2.imshow(\"edged\",edged)\n",
    "cv2.imshow(\"gray\",gray)\n",
    "cv2.imshow(\"newimage\",newimage)\n",
    "cv2.imshow(\"thresh\",thresh)\n",
    "cv2.imshow(\"paper\",paper)\n",
    "cv2.imshow(\"warped\",warped)\n",
    "cv2.imwrite(\"AAxwarped.jpg\",warped)\n",
    "cv2.imwrite(\"AAxpaper.jpg\",paper)\n",
    "\n",
    "cv2.waitKey(0)\n",
    "cv2.destroyAllWindows()"
   ]
  },
  {
   "cell_type": "code",
   "execution_count": 22,
   "metadata": {},
   "outputs": [],
   "source": [
    "import cv2\n",
    "import numpy as np\n",
    "cap = cv2.VideoCapture(0)\n",
    "while(1):\n",
    "    _, frame = cap.read()\n",
    "#     hsv = cv2.cvtColor(frame, cv2.COLOR_BGR2HSV)\n",
    "#     lower_red = np.array([30,150,50])\n",
    "#     upper_red = np.array([255,255,180])\n",
    "#     mask = cv2.inRange(hsv, lower_red, upper_red)\n",
    "#     res = cv2.bitwise_and(frame,frame, mask= mask)\n",
    "    cv2.imshow('Original',frame)\n",
    "#     edges = cv2.Canny(frame,100,200)\n",
    "#     cv2.imshow('Edges',edges)\n",
    "    k = cv2.waitKey(5) & 0xFF\n",
    "    if k == 27:\n",
    "        break\n",
    "cv2.destroyAllWindows()\n",
    "cap.release()"
   ]
  },
  {
   "cell_type": "code",
   "execution_count": null,
   "metadata": {},
   "outputs": [],
   "source": []
  }
 ],
 "metadata": {
  "kernelspec": {
   "display_name": "ic",
   "language": "python",
   "name": "ic"
  },
  "language_info": {
   "codemirror_mode": {
    "name": "ipython",
    "version": 3
   },
   "file_extension": ".py",
   "mimetype": "text/x-python",
   "name": "python",
   "nbconvert_exporter": "python",
   "pygments_lexer": "ipython3",
   "version": "3.5.6"
  }
 },
 "nbformat": 4,
 "nbformat_minor": 2
}
