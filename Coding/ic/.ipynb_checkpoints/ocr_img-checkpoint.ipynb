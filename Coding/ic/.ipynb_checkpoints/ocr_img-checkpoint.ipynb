{
 "cells": [
  {
   "cell_type": "code",
<<<<<<< HEAD
   "execution_count": 55,
=======
   "execution_count": 1,
>>>>>>> 8e83235b5da34d6f6b4604d8018449dc7e34723a
   "metadata": {},
   "outputs": [],
   "source": [
    "import pytesseract\n",
    "import cv2\n",
    "import pyocr \n",
    "from PIL import Image\n",
    "from PIL.ImageOps import invert\n",
    "import matplotlib.pyplot as plt\n",
<<<<<<< HEAD
    "import time"
=======
    "import time\n",
    "import numpy as np"
   ]
  },
  {
   "cell_type": "code",
   "execution_count": 74,
   "metadata": {},
   "outputs": [],
   "source": [
    "# 分水岭\n",
    "img = cv2. imread(\"ti.jpg\", cv2.IMREAD_UNCHANGED)\n",
    "blurred = cv2.pyrMeanShiftFiltering(img, 10, 100)\n",
    "gray = cv2.cvtColor(blurred, cv2.COLOR_BGR2GRAY)\n",
    "ret, binary = cv2.threshold(gray, 0, 255, cv2.THRESH_BINARY | cv2.THRESH_OTSU)\n",
    "cv2.imshow(\"binary\", binary)\n",
    "\n",
    "kernel = cv2.getStructuringElement(cv2.MORPH_RECT, (3, 3))\n",
    "mb = cv2.morphologyEx(binary, cv2.MORPH_OPEN, kernel, iterations = 2)\n",
    "sure_bg = cv2.dilate(mb, kernel, iterations = 3)\n",
    "dist = cv2.distanceTransform(mb, cv2.DIST_L2, 3)\n",
    "dist_output = cv2.normalize(dist, 0, 1.0, cv2.NORM_MINMAX)\n",
    "\n",
    "ret, surface = cv2.threshold(dist, dist.max()*0.6, 255, cv2.THRESH_BINARY)\n",
    "surface_fg = np.uint8(surface)\n",
    "unkonwn = cv2.subtract(sure_bg, surface_fg)\n",
    "ret, markers = cv2.connectedComponents(surface_fg)\n",
    "\n",
    "markers = markers + 1\n",
    "markers[unkonwn==255] = 0\n",
    "markers = cv2.watershed(img, markers=markers)\n",
    "img[markers==1] = [0,0,255]\n",
    "cv2.imshow(\"resout_img\", img)\n",
    "cv2.waitKey(0)\n",
    "cv2.destroyAllWindows()\n"
>>>>>>> 8e83235b5da34d6f6b4604d8018449dc7e34723a
   ]
  },
  {
   "cell_type": "code",
   "execution_count": 9,
   "metadata": {},
   "outputs": [
    {
     "name": "stdout",
     "output_type": "stream",
     "text": [
      "|,,\n",
      "\n",
      "陆林\n",
      "\n",
      "男“氏旗汉\n",
      "\n",
      "1988年8月6日′\"′_′\n",
      "\n",
      "云南省宥哈市双龙街道深一标\n",
      "\n",
      "山村委会:一\n",
      "民身份号码5303811闹;\n",
      "\n",
      "bE\n"
     ]
    }
   ],
   "source": [
    "pytesseract.pytesseract.tesseract_cmd = 'C:/Program Files (x86)/Tesseract-OCR/tesseract.exe'\n",
    "image = Image.open(img, mode='r').convert(\"L\")\n",
    "image.save(f'F:/PYcode/Coding/ic/{time.localtime().tm_hour}{time.localtime().tm_min}.png', quality=50)\n",
    "text = pytesseract.image_to_string(image, lang='chi_sim')\n",
    "print(text.replace(' ',''))  "
   ]
  },
  {
   "cell_type": "code",
<<<<<<< HEAD
   "execution_count": 89,
=======
   "execution_count": 96,
>>>>>>> 8e83235b5da34d6f6b4604d8018449dc7e34723a
   "metadata": {},
   "outputs": [
    {
     "name": "stdout",
     "output_type": "stream",
     "text": [
      "512012\n",
      "1985\n",
      "02\n",
      "23\n",
      "455\n",
      "X\n"
     ]
    }
   ],
   "source": [
    "# 利用正则匹配出年月日\n",
    "import re\n",
    "pattern = re.compile('^(\\d{6})(\\d{4})(\\d{2})(\\d{2})(\\d{3})([0-9]|X)$')\n",
    "str = u'51201219850223455X'\n",
    "resout = pattern.search(str)\n",
    "# resout = re.match(r'^\\d{6}(\\d{4})(\\d{2})(\\d{2})\\d{3}', str)\n",
    "print(resout.group(1))\n",
    "print(resout.group(2))\n",
    "print(resout.group(3))\n",
    "print(resout.group(4))\n",
    "print(resout.group(5))\n",
    "print(resout.group(6))"
   ]
  },
  {
   "cell_type": "code",
<<<<<<< HEAD
   "execution_count": 68,
   "metadata": {},
   "outputs": [],
   "source": [
    "img_dict = {\"name\": [[109, 40],[217, 89]],\n",
    "           \"gender\": [[109, 89], [160, 143]],\n",
    "           \"nation\": [[236, 89], [280, 143]],\n",
    "           \"year\": [[109, 143], [179, 192]],\n",
    "           \"month\": [[203, 143], [233, 192]],\n",
    "           \"day\": [[260, 143], [295, 192]],\n",
    "           \"address\": [[109, 192], [376, 268]],\n",
    "           \"IDnumber\": [[199, 310], [547, 376]],\n",
    "           \"img\": [[376, 58], [559, 297]]}"
=======
   "execution_count": 44,
   "metadata": {},
   "outputs": [],
   "source": [
    "# img_dict = {\"name\": [[109, 40],[217, 89]],\n",
    "#            \"gender\": [[109, 89], [160, 143]],\n",
    "#            \"nation\": [[236, 89], [280, 143]], \n",
    "#            \"year\": [[109, 143], [179, 192]],\n",
    "#            \"month\": [[203, 143], [233, 192]],\n",
    "#            \"day\": [[260, 143], [295, 192]],\n",
    "#            \"address\": [[109, 192], [376, 268]],\n",
    "#            \"IDnumber\": [[199, 310], [547, 376]],\n",
    "#            \"img\": [[376, 58], [559, 297]]}"
   ]
  },
  {
   "cell_type": "code",
   "execution_count": 62,
   "metadata": {},
   "outputs": [],
   "source": [
    "img_dict = {\"name\": [[109, 40],[370, 88]],\n",
    "           \"gender\": [[109, 88], [370, 135]],\n",
    "           \"year\": [[109, 135], [370, 188]],\n",
    "           \"address\": [[109, 188], [370, 270]],\n",
    "           \"IDnumber\": [[199, 310], [547, 376]]}"
>>>>>>> 8e83235b5da34d6f6b4604d8018449dc7e34723a
   ]
  },
  {
   "cell_type": "code",
<<<<<<< HEAD
   "execution_count": 69,
=======
   "execution_count": 63,
>>>>>>> 8e83235b5da34d6f6b4604d8018449dc7e34723a
   "metadata": {},
   "outputs": [],
   "source": [
    "# for name, img_data in img_dict.items():\n",
    "#     print(name)\n",
    "#     name = image[img_data[0][0]:img_data[1][0], img_data[0][1]: img_data[1][1]]\n",
    "#     cv2.imshow(f\"{name}\",name)\n",
    "\n",
<<<<<<< HEAD
    "image = cv2.imread(\"result_done41.jpg\", cv2.IMREAD_GRAYSCALE)\n",
    "ret, mask = cv2.threshold(image, 100, 255, cv2.THRESH_BINARY)\n",
=======
    "image = cv2.imread(\"result_done49.jpg\", cv2.IMREAD_GRAYSCALE)\n",
    "kernel = np.array([[0, -1, 0], [-1, 5, -1], [0, -1, 0]], np.float32) #锐化\n",
    "image = cv2.filter2D(image, -1, kernel=kernel)\n",
    "\n",
    "ret, mask = cv2.threshold(image, 150, 255, cv2.THRESH_BINARY)\n",
>>>>>>> 8e83235b5da34d6f6b4604d8018449dc7e34723a
    "new_img_dict = {}\n",
    "for i in img_dict:\n",
    "    new_img_dict[i] = image[img_dict[i][0][1]:img_dict[i][1][1], img_dict[i][0][0]: img_dict[i][1][0]]"
   ]
  },
  {
   "cell_type": "code",
<<<<<<< HEAD
   "execution_count": 70,
   "metadata": {},
=======
   "execution_count": 57,
   "metadata": {},
   "outputs": [],
   "source": [
    "cv2.imshow(\"mask\", mask)\n",
    "cv2.waitKey(0)\n",
    "cv2.destroyAllWindows()"
   ]
  },
  {
   "cell_type": "code",
   "execution_count": 64,
   "metadata": {
    "scrolled": true
   },
>>>>>>> 8e83235b5da34d6f6b4604d8018449dc7e34723a
   "outputs": [
    {
     "name": "stdout",
     "output_type": "stream",
     "text": [
<<<<<<< HEAD
      "name\n",
      "name:陆林\n",
      "gender\n",
      "\n",
      "gender:\n",
      "nature\n",
      "****\n",
      "\n",
      "****\n",
      "year\n",
      "year:1988\n",
      "month\n",
      "****\n",
      "\n",
      "****\n",
      "day\n",
      "****\n",
      "\n",
      "****\n",
      "address\n",
      "address:云南省宣威市观龙街道淑\n",
      "山村委会视园园国善\n",
      "IDnumber\n",
      "5303011NWDH\n",
      "IDnumber:5503811闵吴园\n",
      "img\n",
      "img:\n"
=======
      "name:一季日月′】3′\n",
      "男男男\n",
      "gender:民「旌泽\n",
      "198725518135\n",
      "year:怡颞翼J月1昆\n",
      "address:\n",
      "44052419827016110614L\n",
      "IDnumber:44052419870.\n",
      ":′′沥\n"
>>>>>>> 8e83235b5da34d6f6b4604d8018449dc7e34723a
     ]
    }
   ],
   "source": [
    "pytesseract.pytesseract.tesseract_cmd = 'C:/Program Files (x86)/Tesseract-OCR/tesseract.exe'\n",
    "for i_img in new_img_dict:\n",
    "#     print(i_img)\n",
<<<<<<< HEAD
    "    if new_img_dict[i_img].shape[1] < 50:\n",
    "        new_img_dict[i_img] = cv2.resize(new_img_dict[i_img], (0, 0), fx=5, fy=5, interpolation=cv2.INTER_NEAREST)\n",
    "        print(\"****\")\n",
    "        text4 = pytesseract.image_to_string(new_img_dict[i_img], lang='chi_sim')\n",
    "        print(text4.replace(' ',''))    \n",
    "        print(\"****\")\n",
    "\n",
    "    else:\n",
    "        if i_img == \"nation\":\n",
    "            text1 = pytesseract.image_to_string(new_img_dict[i_img], lang='nation')\n",
    "            print(text1.replace(' ','')) \n",
    "        elif i_img == \"IDnumber\":\n",
    "            text2 = pytesseract.image_to_string(new_img_dict[i_img], lang='idnum')\n",
    "            print(text2.replace(' ',''))  \n",
    "        elif i_img == \"gender\":\n",
    "            text3 = pytesseract.image_to_string(new_img_dict[i_img], lang='sex')\n",
    "            print(text3.replace(' ',''))  \n",
    "\n",
    "        text = pytesseract.image_to_string(new_img_dict[i_img], lang='chi_sim')\n",
    "    #     cv2.imwrite(f\"{i_img}.jpg\", new_img_dict[i_img])\n",
    "        print(f\"{i_img}:{text.replace(' ','')}\")         "
=======
    "#     if new_img_dict[i_img].shape[1] < 50:\n",
    "#         new_img_dict[i_img] = cv2.resize(new_img_dict[i_img], (0, 0), fx=5, fy=5, interpolation=cv2.INTER_NEAREST)\n",
    "#         print(\"****\")\n",
    "#         text4 = pytesseract.image_to_string(new_img_dict[i_img], lang='chi_sim')\n",
    "#         print(text4.replace(' ',''))    \n",
    "#         print(\"****\")\n",
    "\n",
    "#     else:\n",
    "    if i_img == \"nation\":\n",
    "        text1 = pytesseract.image_to_string(new_img_dict[i_img], lang='nation')\n",
    "        print(f\"nation:::{text1.replace(' ','')}\") \n",
    "    elif i_img == \"IDnumber\":\n",
    "        text2 = pytesseract.image_to_string(new_img_dict[i_img], lang='idnum')\n",
    "        print(text2.replace(' ',''))   \n",
    "    elif i_img == \"year\":\n",
    "        text2 = pytesseract.image_to_string(new_img_dict[i_img], lang='idnum')\n",
    "#         print(text2.replace(' ',''))   \n",
    "#     elif i_img == \"month\":\n",
    "#         text2 = pytesseract.image_to_string(new_img_dict[i_img], lang='idnum')\n",
    "#         print(text2.replace(' ',''))  \n",
    "#     elif i_img == \"day\":\n",
    "        text2 = pytesseract.image_to_string(new_img_dict[i_img], lang='idnum')\n",
    "        print(text2.replace(' ',''))  \n",
    "    elif i_img == \"gender\":\n",
    "        text3 = pytesseract.image_to_string(new_img_dict[i_img], lang='sex')\n",
    "        print(text3.replace(' ',''))  \n",
    "\n",
    "    text = pytesseract.image_to_string(new_img_dict[i_img], lang='chi_sim')\n",
    "    cv2.imwrite(f\"{i_img}.jpg\", new_img_dict[i_img])\n",
    "    print(f\"{i_img}:{text.replace(' ','')}\")"
>>>>>>> 8e83235b5da34d6f6b4604d8018449dc7e34723a
   ]
  },
  {
   "cell_type": "code",
<<<<<<< HEAD
   "execution_count": 46,
=======
   "execution_count": 25,
>>>>>>> 8e83235b5da34d6f6b4604d8018449dc7e34723a
   "metadata": {},
   "outputs": [],
   "source": [
    "import cv2\n",
    "\n",
    "# 读取一张照片\n",
    "img = cv2.imread('month.jpg')\n",
    "\n",
    "# 缩放成200x200的图像\n",
    "img_200x200 = cv2.resize(img, (60, 80))\n",
    "\n",
    "# 不直接指定缩放后大小，通过fx和fy指定缩放比例，0.5则长宽都为原来一半\n",
    "# 等效于img_200x300 = cv2.resize(img, (300, 200))，注意指定大小的格式是(宽度,高度)\n",
    "# 插值方法默认是cv2.INTER_LINEAR，这里指定为最近邻插值\n",
    "img_200x300 = cv2.resize(img, (0, 0), fx=5, fy=5, interpolation=cv2.INTER_NEAREST)\n",
    "\n",
    "cv2.imshow('resized_200x200.jpg', img_200x200)\n",
    "cv2.imshow('resized_200x300.jpg', img_200x300)\n",
    "cv2.waitKey(0)\n",
    "cv2.destroyAllWindows()"
   ]
  },
  {
   "cell_type": "code",
<<<<<<< HEAD
   "execution_count": 17,
   "metadata": {},
   "outputs": [],
   "source": [
    "image = cv2.imread(\"result_done41.jpg\", cv2.IMREAD_GRAYSCALE)\n",
    "image = cv2.adaptiveThreshold(image, 255, cv2.ADAPTIVE_THRESH_GAUSSIAN_C, cv2.THRESH_BINARY, 115, 1)\n",
    "cv2.imshow(\"jj\", image[40: 89, 109: 217])\n",
=======
   "execution_count": 10,
   "metadata": {},
   "outputs": [
    {
     "name": "stdout",
     "output_type": "stream",
     "text": [
      "一季 日月′】 。\n",
      "标 深 气\n",
      "李 : 朋 口\n",
      "李 : 朋 口\n"
     ]
    }
   ],
   "source": [
    "image = cv2.imread(\"name1.jpg\", cv2.IMREAD_COLOR)\n",
    "image = cv2.cvtColor(image, cv2.COLOR_BGR2GRAY)\n",
    "# image = cv2.adaptiveThreshold(image, 255, cv2.ADAPTIVE_THRESH_GAUSSIAN_C, cv2.THRESH_BINARY, 85, 1)\n",
    "# image = cv2.pyrMeanShiftFiltering(image, 2, 4, maxLevel=1)\n",
    "\n",
    "ret, binary = cv2.threshold(image, 0, 255, cv2.THRESH_BINARY | cv2.THRESH_OTSU)\n",
    "cv2.imshow(\"binary\", image)\n",
    "\n",
    "kernel = cv2.getStructuringElement(cv2.MORPH_RECT, (1,2))\n",
    "bin1 = cv2.morphologyEx(binary, cv2.MORPH_OPEN, kernel)\n",
    "kernel = cv2.getStructuringElement(cv2.MORPH_RECT, (2,1))\n",
    "bin2 = cv2.morphologyEx(bin1, cv2.MORPH_OPEN, kernel)\n",
    "# cv2.bitwise_not(bin2, bin2)\n",
    "textimg = Image.fromarray(bin2)\n",
    "\n",
    "pytesseract.pytesseract.tesseract_cmd = 'C:/Program Files (x86)/Tesseract-OCR/tesseract.exe'\n",
    "\n",
    "\n",
    "text2 = pytesseract.image_to_string(binary, lang='chi_sim')\n",
    "text3 = pytesseract.image_to_string(bin1, lang='chi_sim')\n",
    "text1 = pytesseract.image_to_string(textimg, lang='chi_sim')\n",
    "text4 = pytesseract.image_to_string(bin2, lang='chi_sim')\n",
    "\n",
    "# print(f\"img:{text.replace(' ','')}\")\n",
    "\n",
    "print(text2)\n",
    "print(text3)\n",
    "print(text4)\n",
    "print(text1)\n",
    "\n",
    "\n",
    "cv2.imshow(\"jj\", image)\n",
    "cv2.imshow(\"bin1\", bin1)\n",
    "# cv2.imshow(\"textimg\", textimg)\n",
    "\n",
    "cv2.waitKey(0)\n",
    "cv2.destroyAllWindows()"
   ]
  },
  {
   "cell_type": "code",
   "execution_count": 105,
   "metadata": {},
   "outputs": [
    {
     "data": {
      "text/plain": [
       "(48, 261, 3)"
      ]
     },
     "execution_count": 105,
     "metadata": {},
     "output_type": "execute_result"
    }
   ],
   "source": [
    "image = cv2.imread(\"name.jpg\", cv2.IMREAD_COLOR)\n",
    "image.shape"
   ]
  },
  {
   "cell_type": "code",
   "execution_count": 45,
   "metadata": {
    "scrolled": true
   },
   "outputs": [
    {
     "name": "stdout",
     "output_type": "stream",
     "text": [
      "440524198777016170014\n",
      "440524198777016170014\n",
      "440524198777016170014\n",
      "44052419877701010014\n",
      "44052419877701010014\n",
      "44052419877701010014\n"
     ]
    }
   ],
   "source": [
    "## 识别身份证号\n",
    "image = cv2.imread(\"IDnumber1.jpg\", cv2.IMREAD_COLOR)\n",
    "image1 = cv2.fastNlMeansDenoisingColored(image,None,10,10,7,21)\n",
    "image2 = cv2.cvtColor(image1, cv2.COLOR_BGR2GRAY)\n",
    "# image = cv2.adaptiveThreshold(image, 255, cv2.ADAPTIVE_THRESH_GAUSSIAN_C, cv2.THRESH_BINARY, 85, 1)\n",
    "# image = cv2.pyrMeanShiftFiltering(image, 2, 4, maxLevel=1)\n",
    "ret, binary = cv2.threshold(image2, 0, 255, cv2.THRESH_BINARY | cv2.THRESH_OTSU)\n",
    "# ret, binary = cv2.threshold(image2, 50, 255, cv2.THRESH_BINARY)\n",
    "\n",
    "kernel = cv2.getStructuringElement(cv2.MORPH_RECT, (1,2))\n",
    "bin1 = cv2.morphologyEx(binary, cv2.MORPH_OPEN, kernel)\n",
    "kernel = cv2.getStructuringElement(cv2.MORPH_RECT, (2,1))\n",
    "bin2 = cv2.morphologyEx(bin1, cv2.MORPH_OPEN, kernel)\n",
    "# cv2.bitwise_not(bin2, bin2)\n",
    "textimg = Image.fromarray(bin2)\n",
    "pytesseract.pytesseract.tesseract_cmd = 'C:/Program Files (x86)/Tesseract-OCR/tesseract.exe'\n",
    "\n",
    "text1 = pytesseract.image_to_string(image1, lang='idnum')\n",
    "text2 = pytesseract.image_to_string(image2, lang='idnum')\n",
    "text3 = pytesseract.image_to_string(binary, lang='idnum')\n",
    "text4 = pytesseract.image_to_string(bin1, lang='idnum')\n",
    "text5 = pytesseract.image_to_string(bin2, lang='idnum')\n",
    "text6 = pytesseract.image_to_string(textimg, lang='idnum')\n",
    "\n",
    "# print(f\"img:{text.replace(' ','')}\")\n",
    "\n",
    "print(text1)\n",
    "print(text2)\n",
    "print(text3)\n",
    "print(text4)\n",
    "print(text5)\n",
    "print(text6)\n",
    "\n",
    "cv2.imshow(\"image1\", image1)\n",
    "cv2.imshow(\"image2\", image2)\n",
    "cv2.imshow(\"binary\", binary)\n",
    "cv2.imshow(\"bin1\", bin1)\n",
    "cv2.imshow(\"bin2\", bin2)    \n",
    "\n",
    "cv2.waitKey(0)\n",
    "cv2.destroyAllWindows()"
   ]
  },
  {
   "cell_type": "code",
   "execution_count": 48,
   "metadata": {},
   "outputs": [
    {
     "ename": "SyntaxError",
     "evalue": "'return' outside function (<ipython-input-48-ae8f287dfbf5>, line 11)",
     "output_type": "error",
     "traceback": [
      "\u001b[1;36m  File \u001b[1;32m\"<ipython-input-48-ae8f287dfbf5>\"\u001b[1;36m, line \u001b[1;32m11\u001b[0m\n\u001b[1;33m    return \"身份证号识别不正确\"\u001b[0m\n\u001b[1;37m    ^\u001b[0m\n\u001b[1;31mSyntaxError\u001b[0m\u001b[1;31m:\u001b[0m 'return' outside function\n"
     ]
    }
   ],
   "source": [
    "import re\n",
    "text_list = (text1,text2,text3,text4,text5,text6)\n",
    "def get_year(text_list):\n",
    "    year = ''\n",
    "    month = ''\n",
    "    day = ''    \n",
    "    for text in text_list:\n",
    "        if len(text) == 18:\n",
    "            re.compile(\"^(\\d{6})(\\d{4})(\\d{2})(\\d{2})(\\d{3})([0-9]|X)$\")\n",
    "            resout = re.match(text)\n",
    "            year = resout.group(1)\n",
    "            month = resout.group(2)        \n",
    "            day = resout.group(3)\n",
    "        else:\n",
    "            return \"身份证号识别不正确\""
   ]
  },
  {
   "cell_type": "code",
   "execution_count": 7,
   "metadata": {},
   "outputs": [
    {
     "data": {
      "text/plain": [
       "20"
      ]
     },
     "execution_count": 7,
     "metadata": {},
     "output_type": "execute_result"
    }
   ],
   "source": [
    "ss = '44052419877701010014'\n",
    "len(ss)"
   ]
  },
  {
   "cell_type": "code",
   "execution_count": 44,
   "metadata": {},
   "outputs": [
    {
     "name": "stdout",
     "output_type": "stream",
     "text": [
      "image1:民 烽 泽\n",
      "image2:民 烽 泽\n",
      "binary:民 族 沉\n",
      "bin1, :民 旅 泽\n",
      "bin2, :民 旁 汊\n",
      "textim:民 旁 汊\n"
     ]
    }
   ],
   "source": [
    "## 识别身份证号\n",
    "image = cv2.imread(\"gender.jpg\", cv2.IMREAD_COLOR)\n",
    "image1 = cv2.fastNlMeansDenoisingColored(image,None,10,10,7,21)\n",
    "image2 = cv2.cvtColor(image1, cv2.COLOR_BGR2GRAY)\n",
    "# image = cv2.adaptiveThreshold(image, 255, cv2.ADAPTIVE_THRESH_GAUSSIAN_C, cv2.THRESH_BINARY, 85, 1)\n",
    "# image = cv2.pyrMeanShiftFiltering(image, 2, 4, maxLevel=1)\n",
    "ret, binary = cv2.threshold(image2, 0, 255, cv2.THRESH_BINARY | cv2.THRESH_OTSU)\n",
    "# ret, binary = cv2.threshold(image2, 50, 255, cv2.THRESH_BINARY)\n",
    "\n",
    "kernel = cv2.getStructuringElement(cv2.MORPH_RECT, (1,2))\n",
    "bin1 = cv2.morphologyEx(binary, cv2.MORPH_OPEN, kernel)\n",
    "kernel = cv2.getStructuringElement(cv2.MORPH_RECT, (2,1))\n",
    "bin2 = cv2.morphologyEx(bin1, cv2.MORPH_OPEN, kernel)\n",
    "# cv2.bitwise_not(bin2, bin2)\n",
    "textimg = Image.fromarray(bin2)\n",
    "pytesseract.pytesseract.tesseract_cmd = 'C:/Program Files (x86)/Tesseract-OCR/tesseract.exe'\n",
    "\n",
    "text1 = pytesseract.image_to_string(image1, lang='chi_sim')\n",
    "text2 = pytesseract.image_to_string(image2, lang='chi_sim')\n",
    "text3 = pytesseract.image_to_string(binary, lang='chi_sim')\n",
    "text4 = pytesseract.image_to_string(bin1, lang='chi_sim')\n",
    "text5 = pytesseract.image_to_string(bin2, lang='chi_sim')\n",
    "text6 = pytesseract.image_to_string(textimg, lang='chi_sim')\n",
    "\n",
    "# print(f\"img:{text.replace(' ','')}\")\n",
    "\n",
    "print(f'image1:{text1}')\n",
    "print(f'image2:{text2}')\n",
    "print(f'binary:{text3}')\n",
    "print(f'bin1, :{text4}')\n",
    "print(f'bin2, :{text5}')\n",
    "print(f'textim:{text6}')\n",
    "\n",
    "cv2.imshow(\"image1\", image1)\n",
    "cv2.imshow(\"image2\", image2)\n",
    "cv2.imshow(\"binary\", binary)\n",
    "cv2.imshow(\"bin1\", bin1)\n",
    "cv2.imshow(\"bin2\", bin2)    \n",
    "\n",
>>>>>>> 8e83235b5da34d6f6b4604d8018449dc7e34723a
    "cv2.waitKey(0)\n",
    "cv2.destroyAllWindows()"
   ]
  },
  {
   "cell_type": "code",
<<<<<<< HEAD
   "execution_count": 18,
=======
   "execution_count": 30,
>>>>>>> 8e83235b5da34d6f6b4604d8018449dc7e34723a
   "metadata": {},
   "outputs": [
    {
     "data": {
<<<<<<< HEAD
      "image/png": "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\n",
=======
      "image/png": "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\n",
>>>>>>> 8e83235b5da34d6f6b4604d8018449dc7e34723a
      "text/plain": [
       "<Figure size 432x288 with 1 Axes>"
      ]
     },
     "metadata": {
      "needs_background": "light"
     },
     "output_type": "display_data"
    }
   ],
   "source": [
<<<<<<< HEAD
    "plt.imshow(image)\n",
=======
    "plt.imshow(textimg)\n",
>>>>>>> 8e83235b5da34d6f6b4604d8018449dc7e34723a
    "plt.show()"
   ]
  },
  {
   "cell_type": "code",
   "execution_count": null,
   "metadata": {},
   "outputs": [],
   "source": []
  }
 ],
 "metadata": {
  "kernelspec": {
   "display_name": "ic",
   "language": "python",
   "name": "ic"
  },
  "language_info": {
   "codemirror_mode": {
    "name": "ipython",
    "version": 3
   },
   "file_extension": ".py",
   "mimetype": "text/x-python",
   "name": "python",
   "nbconvert_exporter": "python",
   "pygments_lexer": "ipython3",
   "version": "3.7.2"
  }
 },
 "nbformat": 4,
 "nbformat_minor": 2
}
