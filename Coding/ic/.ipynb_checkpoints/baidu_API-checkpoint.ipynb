{
 "cells": [
  {
   "cell_type": "code",
   "execution_count": 1,
   "metadata": {},
   "outputs": [],
   "source": [
    "from aip import AipOcr"
   ]
  },
  {
   "cell_type": "code",
   "execution_count": 2,
   "metadata": {},
   "outputs": [],
   "source": [
    "\"\"\" 你的 APPID AK SK \"\"\"\n",
    "APP_ID = \"15645000\"\n",
    "API_KEY = \"yFWT9PLtSnKPGDPY8cKpbXG9\"\n",
    "SECRET_KEY = \"nyaOQnXyv6Zwq8UCUkMzeyitCGvq2oV7\"\n",
    "\n",
    "client = AipOcr(APP_ID, API_KEY, SECRET_KEY)\n"
   ]
  },
  {
   "cell_type": "code",
   "execution_count": 8,
   "metadata": {},
   "outputs": [],
   "source": [
    "def get_file_content(filePath):\n",
    "    with open(filePath, 'rb') as fp:\n",
    "        return fp.read()\n",
    "\n",
    "image = get_file_content('timg.jpg')\n",
    "\n",
    "\"\"\" 调用通用文字识别, 图片参数为本地图片 \"\"\"\n",
    "client.basicGeneral(image);\n",
    "\n",
    "\"\"\" 如果有可选参数 \"\"\"\n",
    "options = {}\n",
    "options[\"language_type\"] = \"CHN_ENG\"\n",
    "options[\"detect_direction\"] = \"true\"\n",
    "options[\"detect_language\"] = \"true\"\n",
    "options[\"probability\"] = \"true\"\n",
    "\n",
    "\"\"\" 带参数调用通用文字识别, 图片参数为本地图片 \"\"\"\n",
    "result = client.basicGeneral(image, options)"
   ]
  },
  {
   "cell_type": "code",
   "execution_count": 9,
   "metadata": {},
   "outputs": [
    {
     "data": {
      "text/plain": [
       "{'log_id': 5462873661294644572,\n",
       " 'direction': 0,\n",
       " 'words_result_num': 6,\n",
       " 'words_result': [{'words': '姓名陆林',\n",
       "   'probability': {'variance': 0.000286,\n",
       "    'average': 0.984222,\n",
       "    'min': 0.956755}},\n",
       "  {'words': '性别男民族汉',\n",
       "   'probability': {'variance': 2.4e-05, 'average': 0.997114, 'min': 0.986181}},\n",
       "  {'words': '出生1988年8月6日',\n",
       "   'probability': {'variance': 0.00022, 'average': 0.993504, 'min': 0.948007}},\n",
       "  {'words': '住址云南省宣威市双龙街道清',\n",
       "   'probability': {'variance': 0.002769, 'average': 0.97946, 'min': 0.804632}},\n",
       "  {'words': '山村委会',\n",
       "   'probability': {'variance': 0.000348,\n",
       "    'average': 0.988228,\n",
       "    'min': 0.955971}},\n",
       "  {'words': '公民身份号码530381165',\n",
       "   'probability': {'variance': 0.017714,\n",
       "    'average': 0.94947,\n",
       "    'min': 0.480101}}],\n",
       " 'language': -1}"
      ]
     },
     "execution_count": 9,
     "metadata": {},
     "output_type": "execute_result"
    }
   ],
   "source": [
    "result"
   ]
  },
  {
   "cell_type": "code",
   "execution_count": null,
   "metadata": {},
   "outputs": [],
   "source": []
  }
 ],
 "metadata": {
  "kernelspec": {
   "display_name": "ic",
   "language": "python",
   "name": "ic"
  },
  "language_info": {
   "codemirror_mode": {
    "name": "ipython",
    "version": 3
   },
   "file_extension": ".py",
   "mimetype": "text/x-python",
   "name": "python",
   "nbconvert_exporter": "python",
   "pygments_lexer": "ipython3",
   "version": "3.7.2"
  }
 },
 "nbformat": 4,
 "nbformat_minor": 2
}
