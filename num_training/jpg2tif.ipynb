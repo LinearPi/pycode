{
 "cells": [
  {
   "cell_type": "code",
   "execution_count": 7,
   "metadata": {},
   "outputs": [],
   "source": [
    "from PIL import Image \n",
    "import os"
   ]
  },
  {
   "cell_type": "code",
   "execution_count": 25,
   "metadata": {},
   "outputs": [],
   "source": [
    "ima = Image.open(r\"F:\\PYcode\\Coding\\ic\\num_training\\source_img\\idnum1.jpg\", 'r')"
   ]
  },
  {
   "cell_type": "code",
   "execution_count": 33,
   "metadata": {},
   "outputs": [
    {
     "name": "stdout",
     "output_type": "stream",
     "text": [
      "['F:\\\\PYcode\\\\Coding\\\\ic\\\\num_training\\\\source_img\\\\idnum1.jpg', 'F:\\\\PYcode\\\\Coding\\\\ic\\\\num_training\\\\source_img\\\\idnum2.jpg', 'F:\\\\PYcode\\\\Coding\\\\ic\\\\num_training\\\\source_img\\\\idnum3.jpg', 'F:\\\\PYcode\\\\Coding\\\\ic\\\\num_training\\\\source_img\\\\idnum4.jpg', 'F:\\\\PYcode\\\\Coding\\\\ic\\\\num_training\\\\source_img\\\\idnum5.jpg', 'F:\\\\PYcode\\\\Coding\\\\ic\\\\num_training\\\\source_img\\\\idnum6.jpg', 'F:\\\\PYcode\\\\Coding\\\\ic\\\\num_training\\\\source_img\\\\idnum7.jpg', 'F:\\\\PYcode\\\\Coding\\\\ic\\\\num_training\\\\source_img\\\\idnum8.jpg', 'F:\\\\PYcode\\\\Coding\\\\ic\\\\num_training\\\\source_img\\\\idnum9.jpg', 'F:\\\\PYcode\\\\Coding\\\\ic\\\\num_training\\\\source_img\\\\year.jpg', 'F:\\\\PYcode\\\\Coding\\\\ic\\\\num_training\\\\source_img\\\\year1.jpg', 'F:\\\\PYcode\\\\Coding\\\\ic\\\\num_training\\\\source_img\\\\year2.jpg', 'F:\\\\PYcode\\\\Coding\\\\ic\\\\num_training\\\\source_img\\\\year3.jpg', 'F:\\\\PYcode\\\\Coding\\\\ic\\\\num_training\\\\source_img\\\\year4.jpg', 'F:\\\\PYcode\\\\Coding\\\\ic\\\\num_training\\\\source_img\\\\year5.jpg']\n"
     ]
    }
   ],
   "source": [
    "def get_imlist(path):   #此函数读取特定文件夹下的bmp格式图像\n",
    "    return [os.path.join(path,f) for f in os.listdir(path) if f.endswith('.jpg')]\n",
    "\n",
    "c = get_imlist(r\"F:\\PYcode\\Coding\\ic\\num_training\\source_img\")    #r\"\"是防止字符串转译\n",
    "print(c)     #这里以list形式输出bmp格式的所有图像（带路径）\n",
    "i = 0\n",
    "for image in c:\n",
    "\n",
    "    img = Image.open(image, \"r\")\n",
    "    ima.save(f\"tif\\\\{i}.tif\")\n",
    "    i += 1\n",
    "    "
   ]
  },
  {
   "cell_type": "code",
   "execution_count": 38,
   "metadata": {},
   "outputs": [],
   "source": [
    "path = r\"F:\\PYcode\\Coding\\ic\\num_training\\source_img\"\n",
    "#获取该目录下所有文件，存入列表中\n",
    "f=os.listdir(path)\n",
    "\n",
    "n=0\n",
    "for i in f:\n",
    "    \n",
    "    #设置旧文件名（就是路径+文件名）\n",
    "    oldname=path + \"\\\\\" + f[n]\n",
    "    \n",
    "    #设置新文件名\n",
    "    newname=path+'a'+str(n+1)+'.tif'\n",
    "    \n",
    "    #用os模块中的rename方法对文件改名\n",
    "    ima = Image.open(oldname, \"r\")\n",
    "    ima.save(newname)\n",
    "    \n",
    "    n+=1"
   ]
  },
  {
   "cell_type": "code",
   "execution_count": null,
   "metadata": {},
   "outputs": [],
   "source": []
  }
 ],
 "metadata": {
  "kernelspec": {
   "display_name": "ic",
   "language": "python",
   "name": "ic"
  },
  "language_info": {
   "codemirror_mode": {
    "name": "ipython",
    "version": 3
   },
   "file_extension": ".py",
   "mimetype": "text/x-python",
   "name": "python",
   "nbconvert_exporter": "python",
   "pygments_lexer": "ipython3",
   "version": "3.7.2"
  }
 },
 "nbformat": 4,
 "nbformat_minor": 2
}
